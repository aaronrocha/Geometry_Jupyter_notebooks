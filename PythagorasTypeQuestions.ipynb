{
 "cells": [
  {
   "cell_type": "code",
   "execution_count": 1,
   "id": "65b20bf1",
   "metadata": {},
   "outputs": [],
   "source": [
    "from sympy import *\n",
    "init_printing()\n",
    "x, y = symbols(' x y ')"
   ]
  },
  {
   "cell_type": "markdown",
   "id": "65b50493",
   "metadata": {},
   "source": [
    "### Topic 2: Pythagoras Type Questions"
   ]
  },
  {
   "cell_type": "code",
   "execution_count": 2,
   "id": "177d4e25",
   "metadata": {},
   "outputs": [
    {
     "data": {
      "text/plain": [
       "[<matplotlib.lines.Line2D at 0x11a088880>]"
      ]
     },
     "execution_count": 2,
     "metadata": {},
     "output_type": "execute_result"
    },
    {
     "data": {
      "image/png": "[encoded data removed]",
      "text/plain": [
       "<Figure size 640x480 with 1 Axes>"
      ]
     },
     "metadata": {},
     "output_type": "display_data"
    }
   ],
   "source": [
    "import matplotlib.pyplot as plt\n",
    "fig, ax = plt.subplots()\n",
    "ax.grid(True)\n",
    "ax.annotate('P(-7, 24)', (-7, 24))\n",
    "ax.plot([0, -7], [0, 24], linewidth=1.0)"
   ]
  },
  {
   "cell_type": "code",
   "execution_count": 3,
   "id": "f2dbd541",
   "metadata": {},
   "outputs": [],
   "source": [
    "P = Point(-7, 24)"
   ]
  },
  {
   "cell_type": "code",
   "execution_count": 4,
   "id": "06c124c6",
   "metadata": {},
   "outputs": [],
   "source": [
    "Origin = Point(0,0)"
   ]
  },
  {
   "cell_type": "code",
   "execution_count": 5,
   "id": "947ddaf2",
   "metadata": {},
   "outputs": [],
   "source": [
    "PO = Segment(Origin, P)"
   ]
  },
  {
   "cell_type": "markdown",
   "id": "baa85921",
   "metadata": {},
   "source": [
    "### Example 1\n",
    "\n",
    "Consider the diagram above where 𝛳 = POX and P(-7, 24).\n",
    "Without a calculator, determine\n",
    "\n",
    "a) cos 𝛳\n",
    "\n",
    "b) sin 𝛳\n",
    "\n",
    "c) tan 𝛳\n"
   ]
  },
  {
   "cell_type": "markdown",
   "id": "822101d7",
   "metadata": {},
   "source": [
    "### Definition 2 - Cartesian Plane Trig\n",
    "\n",
    "sin 𝛳 = y / r\n",
    "\n",
    "cos 𝛳 = x / r\n",
    "\n",
    "tan 𝛳 = y / x\n",
    "\n",
    "counterclockwise from the x-axis"
   ]
  },
  {
   "cell_type": "code",
   "execution_count": 6,
   "id": "1645f4c9",
   "metadata": {},
   "outputs": [
    {
     "data": {
      "image/png": "[encoded data removed]",
      "text/latex": [
       "$\\displaystyle 25$"
      ],
      "text/plain": [
       "25"
      ]
     },
     "execution_count": 6,
     "metadata": {},
     "output_type": "execute_result"
    }
   ],
   "source": [
    "r = Origin.distance(P);r"
   ]
  },
  {
   "cell_type": "code",
   "execution_count": 7,
   "id": "b1808325",
   "metadata": {},
   "outputs": [
    {
     "data": {
      "image/png": "[encoded data removed]",
      "text/latex": [
       "$\\displaystyle 625$"
      ],
      "text/plain": [
       "625"
      ]
     },
     "execution_count": 7,
     "metadata": {},
     "output_type": "execute_result"
    }
   ],
   "source": [
    "pow(-7, 2) + pow(24, 2) # pythagoras"
   ]
  },
  {
   "cell_type": "code",
   "execution_count": 8,
   "id": "7286f570",
   "metadata": {},
   "outputs": [
    {
     "data": {
      "image/png": "[encoded data removed]",
      "text/latex": [
       "$\\displaystyle 25$"
      ],
      "text/plain": [
       "25"
      ]
     },
     "execution_count": 8,
     "metadata": {},
     "output_type": "execute_result"
    }
   ],
   "source": [
    "sqrt(625)"
   ]
  },
  {
   "cell_type": "code",
   "execution_count": 9,
   "id": "a55bac26",
   "metadata": {},
   "outputs": [
    {
     "data": {
      "image/png": "[encoded data removed]",
      "text/latex": [
       "$\\displaystyle - \\frac{7}{25}$"
      ],
      "text/plain": [
       "-7/25"
      ]
     },
     "execution_count": 9,
     "metadata": {},
     "output_type": "execute_result"
    }
   ],
   "source": [
    "P.x / r # cos"
   ]
  },
  {
   "cell_type": "code",
   "execution_count": 10,
   "id": "475b29a8",
   "metadata": {},
   "outputs": [
    {
     "data": {
      "image/png": "[encoded data removed]",
      "text/latex": [
       "$\\displaystyle \\frac{24}{25}$"
      ],
      "text/plain": [
       "24\n",
       "──\n",
       "25"
      ]
     },
     "execution_count": 10,
     "metadata": {},
     "output_type": "execute_result"
    }
   ],
   "source": [
    "P.y / r # sin"
   ]
  },
  {
   "cell_type": "code",
   "execution_count": 11,
   "id": "a0ca8cd2",
   "metadata": {},
   "outputs": [
    {
     "data": {
      "image/png": "[encoded data removed]",
      "text/latex": [
       "$\\displaystyle - \\frac{24}{7}$"
      ],
      "text/plain": [
       "-24/7"
      ]
     },
     "execution_count": 11,
     "metadata": {},
     "output_type": "execute_result"
    }
   ],
   "source": [
    "P.y / P.x # tan"
   ]
  },
  {
   "cell_type": "markdown",
   "id": "316451dd",
   "metadata": {},
   "source": [
    "### Example 2 \n",
    "\n",
    "if sin 𝛳 = -$\\frac{3}{5}$ and 0° < 𝛳 < 270°, using a sketch and without a calculator, detrmine:"
   ]
  },
  {
   "cell_type": "markdown",
   "id": "10399ead",
   "metadata": {},
   "source": [
    "a) cos 𝛳 + sin 𝛳\n"
   ]
  },
  {
   "cell_type": "markdown",
   "id": "7ecd28b3",
   "metadata": {},
   "source": [
    "Given the information and remembering our quadrant to determine the sign of x, y, and r.   our answer is quadrant III.  where x and y are negative and r is positive."
   ]
  },
  {
   "cell_type": "markdown",
   "id": "0fffc876",
   "metadata": {},
   "source": [
    "sin 𝛳 = y / r\n",
    "\n",
    "cos 𝛳 = x / r"
   ]
  },
  {
   "cell_type": "code",
   "execution_count": 12,
   "id": "d61afb62",
   "metadata": {},
   "outputs": [],
   "source": [
    "y = -3; r = 5"
   ]
  },
  {
   "cell_type": "markdown",
   "id": "a3fb7a5f",
   "metadata": {},
   "source": [
    " Use pythagoras to find x\n"
   ]
  },
  {
   "cell_type": "code",
   "execution_count": 13,
   "id": "813b793f",
   "metadata": {},
   "outputs": [
    {
     "data": {
      "image/png": "[encoded data removed]",
      "text/latex": [
       "$\\displaystyle x^{2} + 9 = 25$"
      ],
      "text/plain": [
       " 2         \n",
       "x  + 9 = 25"
      ]
     },
     "execution_count": 13,
     "metadata": {},
     "output_type": "execute_result"
    }
   ],
   "source": [
    "Eq(x**2 + (-3)**2, (5)**2)"
   ]
  },
  {
   "cell_type": "code",
   "execution_count": 14,
   "id": "e0b48873",
   "metadata": {},
   "outputs": [
    {
     "data": {
      "image/png": "[encoded data removed]",
      "text/latex": [
       "$\\displaystyle 16$"
      ],
      "text/plain": [
       "16"
      ]
     },
     "execution_count": 14,
     "metadata": {},
     "output_type": "execute_result"
    }
   ],
   "source": [
    "25 - 9"
   ]
  },
  {
   "cell_type": "code",
   "execution_count": 15,
   "id": "6ff9fc73",
   "metadata": {},
   "outputs": [
    {
     "data": {
      "image/png": "[encoded data removed]",
      "text/latex": [
       "$\\displaystyle 4$"
      ],
      "text/plain": [
       "4"
      ]
     },
     "execution_count": 15,
     "metadata": {},
     "output_type": "execute_result"
    }
   ],
   "source": [
    "sqrt(16)"
   ]
  },
  {
   "cell_type": "code",
   "execution_count": 16,
   "id": "0f5fd341",
   "metadata": {},
   "outputs": [],
   "source": [
    "x = -4 # our x is negative because we're in quadrant III"
   ]
  },
  {
   "cell_type": "code",
   "execution_count": 17,
   "id": "068fdf2a",
   "metadata": {},
   "outputs": [
    {
     "data": {
      "image/png": "[encoded data removed]",
      "text/latex": [
       "$\\displaystyle - \\frac{7}{5}$"
      ],
      "text/plain": [
       "-7/5"
      ]
     },
     "execution_count": 17,
     "metadata": {},
     "output_type": "execute_result"
    }
   ],
   "source": [
    "Rational(x, r) + Rational(y, r)"
   ]
  },
  {
   "cell_type": "markdown",
   "id": "937ba59e",
   "metadata": {},
   "source": [
    "b) tan 𝛳\n",
    "\n",
    "tan 𝛳 = y / x"
   ]
  },
  {
   "cell_type": "code",
   "execution_count": 18,
   "id": "7a5a325c",
   "metadata": {},
   "outputs": [
    {
     "data": {
      "image/png": "[encoded data removed]",
      "text/latex": [
       "$\\displaystyle \\frac{3}{4}$"
      ],
      "text/plain": [
       "3/4"
      ]
     },
     "execution_count": 18,
     "metadata": {},
     "output_type": "execute_result"
    }
   ],
   "source": [
    "Rational(y, x)"
   ]
  },
  {
   "cell_type": "markdown",
   "id": "33068825",
   "metadata": {},
   "source": [
    " c) sin 𝛳 / cos 𝛳"
   ]
  },
  {
   "cell_type": "code",
   "execution_count": 19,
   "id": "dae54931",
   "metadata": {},
   "outputs": [
    {
     "data": {
      "image/png": "[encoded data removed]",
      "text/latex": [
       "$\\displaystyle \\frac{3}{4}$"
      ],
      "text/plain": [
       "3/4"
      ]
     },
     "execution_count": 19,
     "metadata": {},
     "output_type": "execute_result"
    }
   ],
   "source": [
    "Rational(y, r) / Rational(x, r)"
   ]
  },
  {
   "cell_type": "markdown",
   "id": "0c938c96",
   "metadata": {},
   "source": [
    "d) $cos^2𝛳$ + $sin^2𝛳$"
   ]
  },
  {
   "cell_type": "code",
   "execution_count": 20,
   "id": "c90e47e3",
   "metadata": {},
   "outputs": [
    {
     "data": {
      "image/png": "[encoded data removed]",
      "text/latex": [
       "$\\displaystyle 1$"
      ],
      "text/plain": [
       "1"
      ]
     },
     "execution_count": 20,
     "metadata": {},
     "output_type": "execute_result"
    }
   ],
   "source": [
    "pow(Rational(x,r), 2) + pow(Rational(y,r), 2)"
   ]
  },
  {
   "cell_type": "markdown",
   "id": "ca25d5ff",
   "metadata": {},
   "source": [
    "### Example 3\n",
    "\n",
    "If 8 tan 𝛳 - 6 = 0 and cos 𝛳 < 0, without using a calculator, determine sin 𝛳."
   ]
  },
  {
   "cell_type": "markdown",
   "id": "c2c7f9f7",
   "metadata": {},
   "source": [
    "I want to say we're in the III quadrant "
   ]
  },
  {
   "cell_type": "markdown",
   "id": "81763968",
   "metadata": {},
   "source": [
    " simplifying tan 𝛳 = 6/8 = 3/4\n",
    " \n",
    " tan 𝛳 = y / x"
   ]
  },
  {
   "cell_type": "code",
   "execution_count": 21,
   "id": "35cc634d",
   "metadata": {},
   "outputs": [],
   "source": [
    "y = -3;x = -4 # because we're in quadrant III"
   ]
  },
  {
   "cell_type": "code",
   "execution_count": 22,
   "id": "8244ab0a",
   "metadata": {},
   "outputs": [
    {
     "data": {
      "image/png": "[encoded data removed]",
      "text/latex": [
       "$\\displaystyle 25$"
      ],
      "text/plain": [
       "25"
      ]
     },
     "execution_count": 22,
     "metadata": {},
     "output_type": "execute_result"
    }
   ],
   "source": [
    "x**2 + y**2"
   ]
  },
  {
   "cell_type": "code",
   "execution_count": 23,
   "id": "a407a656",
   "metadata": {},
   "outputs": [
    {
     "data": {
      "image/png": "[encoded data removed]",
      "text/latex": [
       "$\\displaystyle 5$"
      ],
      "text/plain": [
       "5"
      ]
     },
     "execution_count": 23,
     "metadata": {},
     "output_type": "execute_result"
    }
   ],
   "source": [
    "sqrt(25)"
   ]
  },
  {
   "cell_type": "code",
   "execution_count": 24,
   "id": "b44783ab",
   "metadata": {},
   "outputs": [],
   "source": [
    "r = 5"
   ]
  },
  {
   "cell_type": "code",
   "execution_count": 25,
   "id": "46e2cc74",
   "metadata": {
    "scrolled": true
   },
   "outputs": [
    {
     "data": {
      "image/png": "[encoded data removed]",
      "text/latex": [
       "$\\displaystyle - \\frac{3}{5}$"
      ],
      "text/plain": [
       "-3/5"
      ]
     },
     "execution_count": 25,
     "metadata": {},
     "output_type": "execute_result"
    }
   ],
   "source": [
    "Rational(y, r)"
   ]
  },
  {
   "cell_type": "markdown",
   "id": "b1e80e95",
   "metadata": {},
   "source": [
    "### Example 4 \n",
    "\n",
    "if sin 65° = m, determine the following in terms of m:\n",
    "\n",
    "a) cos 𝛳"
   ]
  },
  {
   "cell_type": "markdown",
   "id": "8c1cf44d",
   "metadata": {},
   "source": [
    "So we now that we're in quadrant I"
   ]
  },
  {
   "cell_type": "markdown",
   "id": "dfed95a5",
   "metadata": {},
   "source": [
    "sin = y / r , so y / r = m / 1\n",
    "\n",
    "y = + m\n",
    "\n",
    "so r = 1"
   ]
  },
  {
   "cell_type": "markdown",
   "id": "3beefac0",
   "metadata": {},
   "source": [
    "$x^2 + y^2 = r^2$\n",
    "\n",
    "$x^2 + y^2 = 1$\n",
    "\n",
    "$x^2 = 1 - m^2$\n",
    "\n",
    "x = $\\sqrt{1 - m^2}$"
   ]
  },
  {
   "cell_type": "markdown",
   "id": "6cbcdc3d",
   "metadata": {},
   "source": [
    "cos 65° = x / r = $\\sqrt{1 - m^2}$"
   ]
  },
  {
   "cell_type": "markdown",
   "id": "41bd214a",
   "metadata": {},
   "source": [
    "\n",
    "b) tan 65° = y / x = $\\frac{m}{\\sqrt{1 - m^2}}$"
   ]
  },
  {
   "cell_type": "markdown",
   "id": "ad575b41",
   "metadata": {},
   "source": [
    "### Example 5\n",
    "\n",
    "if cos 𝛳 = p and 𝛳 ∈[270°;360°], determine the following in terms of m:\n",
    "\n",
    "a) sin 𝛳"
   ]
  },
  {
   "cell_type": "markdown",
   "id": "f1d33a83",
   "metadata": {},
   "source": [
    "We're given that we're in quadrant VI"
   ]
  },
  {
   "cell_type": "markdown",
   "id": "2600ecbe",
   "metadata": {},
   "source": [
    "x is pos\n",
    "\n",
    "y is neg\n",
    "\n",
    "r is always pos"
   ]
  },
  {
   "cell_type": "markdown",
   "id": "93fca1fc",
   "metadata": {},
   "source": [
    "cos 𝛳 = x / r = p / 1, so x = p and r = 1"
   ]
  },
  {
   "cell_type": "markdown",
   "id": "4470e2ff",
   "metadata": {},
   "source": [
    "$x^2 + y^2 = r^2$\n",
    "\n",
    "$p^2 + y^2 = 1^2$\n",
    "\n",
    "$y^2 = 1 - p^2$\n",
    "\n",
    "$y = -\\sqrt{1 - p^2}$"
   ]
  },
  {
   "cell_type": "markdown",
   "id": "1b3dbb90",
   "metadata": {},
   "source": [
    "sin 𝛳 = $-\\sqrt{1 - p^2}$"
   ]
  },
  {
   "cell_type": "markdown",
   "id": "8d098df0",
   "metadata": {},
   "source": [
    "\n",
    "tan 𝛳 = y / x = $\\frac {-\\sqrt{1 - p^2}}{p}$"
   ]
  },
  {
   "cell_type": "code",
   "execution_count": null,
   "id": "a6d0def3",
   "metadata": {},
   "outputs": [],
   "source": []
  }
 ],
 "metadata": {
  "kernelspec": {
   "display_name": "Python 3 (ipykernel)",
   "language": "python",
   "name": "python3"
  },
  "language_info": {
   "codemirror_mode": {
    "name": "ipython",
    "version": 3
   },
   "file_extension": ".py",
   "mimetype": "text/x-python",
   "name": "python",
   "nbconvert_exporter": "python",
   "pygments_lexer": "ipython3",
   "version": "3.10.5"
  }
 },
 "nbformat": 4,
 "nbformat_minor": 5
}
