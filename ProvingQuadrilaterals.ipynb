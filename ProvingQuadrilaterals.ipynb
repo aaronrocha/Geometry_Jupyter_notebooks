{
 "cells": [
  {
   "cell_type": "code",
   "execution_count": 1,
   "id": "e0e3af86",
   "metadata": {},
   "outputs": [],
   "source": [
    "from sympy import *\n",
    "init_printing()\n",
    "x, y, z = symbols('x y z')"
   ]
  },
  {
   "cell_type": "code",
   "execution_count": 2,
   "id": "29df918e",
   "metadata": {},
   "outputs": [],
   "source": [
    "import matplotlib.pyplot as plt"
   ]
  },
  {
   "cell_type": "markdown",
   "id": "0579547b",
   "metadata": {},
   "source": [
    "### Properties of quadrilaterals\n",
    "\n",
    "1.) How to prove a quadrilateral is a parallelogram."
   ]
  },
  {
   "cell_type": "markdown",
   "id": "395404ad",
   "metadata": {},
   "source": [
    "both pairs of opp sides are parallel\n",
    "\n",
    "just prove the gradients are equal\n",
    "\n",
    "both pairs of opp sides are equal (work out distances)\n",
    "\n",
    "prove one pair is parallel and equal (just one pair is enough)\n",
    "\n",
    "prove the diagonals bisect. midpoint is equal on both diagonals"
   ]
  },
  {
   "cell_type": "markdown",
   "id": "85ff6ce2",
   "metadata": {},
   "source": [
    "2.) How to prove a quadrilateral is a rhombus\n",
    "\n",
    "prove it's a parallelogram and all sides (4) are equal\n",
    "\n",
    "the diagonals bisect at 90 degrees and it's a prallelogram\n",
    "\n",
    "both diag multipliled = -1"
   ]
  },
  {
   "cell_type": "markdown",
   "id": "ccf28ee9",
   "metadata": {},
   "source": [
    "3.) Prove a quadrilateral is a parallelogram\n",
    "\n",
    "parallelogram and one corner is equal to 90 degrees\n",
    "\n",
    "diags are equal in length distances are equal."
   ]
  },
  {
   "cell_type": "markdown",
   "id": "fd03ed2a",
   "metadata": {},
   "source": [
    "4.) prove a quadrilateral is a square\n",
    "\n",
    "prove it's all three above\n",
    "\n",
    "or prove all 4 sides equal and corner equals 90 degrees"
   ]
  },
  {
   "cell_type": "markdown",
   "id": "8631b75e",
   "metadata": {},
   "source": [
    "### example 1\n",
    "\n",
    "Consider the parallelogram ABCD."
   ]
  },
  {
   "cell_type": "code",
   "execution_count": 3,
   "id": "6367809d",
   "metadata": {},
   "outputs": [],
   "source": [
    "A, B, C, D = Point(-6,1), Point(x, y), Point(4, -4),  Point(-6, -6)"
   ]
  },
  {
   "cell_type": "markdown",
   "id": "47ea05c0",
   "metadata": {},
   "source": [
    "1.1  Write down the length of AD."
   ]
  },
  {
   "cell_type": "code",
   "execution_count": 4,
   "id": "41d76f7e",
   "metadata": {},
   "outputs": [
    {
     "data": {
      "image/png": "[encoded data removed]",
      "text/latex": [
       "$\\displaystyle 7$"
      ],
      "text/plain": [
       "7"
      ]
     },
     "execution_count": 4,
     "metadata": {},
     "output_type": "execute_result"
    }
   ],
   "source": [
    "A.distance(D)  # Notice x-values of both A and D are equal(vertical)"
   ]
  },
  {
   "cell_type": "markdown",
   "id": "afda87f3",
   "metadata": {},
   "source": [
    "1.2  Write down the co-ordinates of B."
   ]
  },
  {
   "cell_type": "code",
   "execution_count": 5,
   "id": "c49c7b87",
   "metadata": {},
   "outputs": [
    {
     "data": {
      "image/png": "[encoded data removed]",
      "text/latex": [
       "$\\displaystyle \\operatorname{Point2D}\\left(4, 3\\right)$"
      ],
      "text/plain": [
       "Point2D(4, 3)"
      ]
     },
     "execution_count": 5,
     "metadata": {},
     "output_type": "execute_result"
    }
   ],
   "source": [
    "B = Point(C.x, C.y + 7);B"
   ]
  },
  {
   "cell_type": "code",
   "execution_count": 6,
   "id": "ac78234d",
   "metadata": {},
   "outputs": [
    {
     "data": {
      "image/png": "[encoded data removed]",
      "text/latex": [
       "$\\displaystyle 7$"
      ],
      "text/plain": [
       "7"
      ]
     },
     "execution_count": 6,
     "metadata": {},
     "output_type": "execute_result"
    }
   ],
   "source": [
    "B.distance(C)"
   ]
  },
  {
   "cell_type": "code",
   "execution_count": 7,
   "id": "0c8db8f0",
   "metadata": {},
   "outputs": [
    {
     "data": {
      "image/png": "[encoded data removed]",
      "text/latex": [
       "$\\displaystyle \\left[ -6, \\  4, \\  4, \\  -6, \\  -6\\right]$"
      ],
      "text/plain": [
       "[-6, 4, 4, -6, -6]"
      ]
     },
     "execution_count": 7,
     "metadata": {},
     "output_type": "execute_result"
    }
   ],
   "source": [
    "x = [A.x, B.x, C.x, D.x, A.x];x"
   ]
  },
  {
   "cell_type": "code",
   "execution_count": 8,
   "id": "61709c57",
   "metadata": {},
   "outputs": [
    {
     "data": {
      "image/png": "[encoded data removed]",
      "text/latex": [
       "$\\displaystyle \\left[ 1, \\  3, \\  -4, \\  -6, \\  1\\right]$"
      ],
      "text/plain": [
       "[1, 3, -4, -6, 1]"
      ]
     },
     "execution_count": 8,
     "metadata": {},
     "output_type": "execute_result"
    }
   ],
   "source": [
    "y = [A.y, B.y, C.y, D.y, A.y];y"
   ]
  },
  {
   "cell_type": "code",
   "execution_count": 9,
   "id": "3c7cffb0",
   "metadata": {},
   "outputs": [
    {
     "data": {
      "text/plain": [
       "[<matplotlib.lines.Line2D at 0x10bf878b0>]"
      ]
     },
     "execution_count": 9,
     "metadata": {},
     "output_type": "execute_result"
    },
    {
     "data": {
      "image/png": "[encoded data removed]",
      "text/plain": [
       "<Figure size 640x480 with 1 Axes>"
      ]
     },
     "metadata": {},
     "output_type": "display_data"
    }
   ],
   "source": [
    "fig, ax = plt.subplots()\n",
    "ax.grid(True)\n",
    "ax.annotate(' A', A)\n",
    "ax.annotate(' B', B)\n",
    "ax.annotate(' C', C)\n",
    "ax.annotate(' D', D)\n",
    "ax.plot(x,y, linewidth=1.0)"
   ]
  },
  {
   "cell_type": "markdown",
   "id": "8cb9af87",
   "metadata": {},
   "source": [
    "1.3.1  Dermine the value of d. An equation of the line passing through A and C is y = -1/2 x + d."
   ]
  },
  {
   "cell_type": "code",
   "execution_count": 10,
   "id": "b0223378",
   "metadata": {},
   "outputs": [],
   "source": [
    "x, y = symbols('x y')\n",
    "lhs = y - 1\n",
    "rhs = Rational(-1,2) * (x - (-6))"
   ]
  },
  {
   "cell_type": "code",
   "execution_count": 11,
   "id": "b9f4dede",
   "metadata": {},
   "outputs": [
    {
     "data": {
      "image/png": "[encoded data removed]",
      "text/latex": [
       "$\\displaystyle y - 1 = - \\frac{x}{2} - 3$"
      ],
      "text/plain": [
       "          x    \n",
       "y - 1 = - ─ - 3\n",
       "          2    "
      ]
     },
     "execution_count": 11,
     "metadata": {},
     "output_type": "execute_result"
    }
   ],
   "source": [
    "Eq(lhs, rhs)"
   ]
  },
  {
   "cell_type": "markdown",
   "id": "77800a82",
   "metadata": {},
   "source": [
    "So, y = -1/2 x - 2"
   ]
  },
  {
   "cell_type": "code",
   "execution_count": 13,
   "id": "861eccb4",
   "metadata": {},
   "outputs": [
    {
     "data": {
      "image/png": "[encoded data removed]",
      "text/latex": [
       "$\\displaystyle \\left[ - \\frac{x}{2} - 2\\right]$"
      ],
      "text/plain": [
       "⎡  x    ⎤\n",
       "⎢- ─ - 2⎥\n",
       "⎣  2    ⎦"
      ]
     },
     "execution_count": 13,
     "metadata": {},
     "output_type": "execute_result"
    }
   ],
   "source": [
    "solve(Out[11], y)"
   ]
  },
  {
   "cell_type": "markdown",
   "id": "40dc4d45",
   "metadata": {},
   "source": [
    "1.3.2  Write down the co-ordinates of the y-intercept of the line AC."
   ]
  },
  {
   "cell_type": "markdown",
   "id": "fbadfbbf",
   "metadata": {},
   "source": [
    "when x = 0, our line passes through the y-intercept so\n"
   ]
  },
  {
   "cell_type": "code",
   "execution_count": null,
   "id": "01d92b0a",
   "metadata": {},
   "outputs": [],
   "source": [
    "expr = Rational(-1, 2) * x -2;expr"
   ]
  },
  {
   "cell_type": "code",
   "execution_count": null,
   "id": "77803f12",
   "metadata": {},
   "outputs": [],
   "source": [
    "expr.subs(x, 0)"
   ]
  },
  {
   "cell_type": "markdown",
   "id": "01e856d2",
   "metadata": {},
   "source": [
    "Our co-ordinate is then (0, -2)"
   ]
  },
  {
   "cell_type": "markdown",
   "id": "ccb8acbb",
   "metadata": {},
   "source": [
    "1.4)  Determine the length of CD. Leave your answer in surd form"
   ]
  },
  {
   "cell_type": "code",
   "execution_count": null,
   "id": "a7193317",
   "metadata": {},
   "outputs": [],
   "source": [
    "C.distance(D)"
   ]
  },
  {
   "cell_type": "markdown",
   "id": "d2b6f935",
   "metadata": {},
   "source": [
    "1.5) Is ABCD a rhombus? Give a reason to justify your answer."
   ]
  },
  {
   "cell_type": "markdown",
   "id": "b63396ec",
   "metadata": {},
   "source": [
    "No, adjacent sides are not equal."
   ]
  },
  {
   "cell_type": "code",
   "execution_count": null,
   "id": "9182a68a",
   "metadata": {},
   "outputs": [],
   "source": [
    "A.distance(D) == C.distance(D)"
   ]
  },
  {
   "cell_type": "code",
   "execution_count": null,
   "id": "9de9e2e8",
   "metadata": {},
   "outputs": [],
   "source": []
  }
 ],
 "metadata": {
  "kernelspec": {
   "display_name": "Python 3 (ipykernel)",
   "language": "python",
   "name": "python3"
  },
  "language_info": {
   "codemirror_mode": {
    "name": "ipython",
    "version": 3
   },
   "file_extension": ".py",
   "mimetype": "text/x-python",
   "name": "python",
   "nbconvert_exporter": "python",
   "pygments_lexer": "ipython3",
   "version": "3.10.5"
  }
 },
 "nbformat": 4,
 "nbformat_minor": 5
}
