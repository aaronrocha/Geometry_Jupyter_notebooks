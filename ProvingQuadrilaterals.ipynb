{
 "cells": [
  {
   "cell_type": "code",
   "execution_count": 1,
   "id": "e0e3af86",
   "metadata": {},
   "outputs": [],
   "source": [
    "from sympy import *\n",
    "init_printing()\n",
    "x, y, z = symbols('x y z')"
   ]
  },
  {
   "cell_type": "code",
   "execution_count": 2,
   "id": "29df918e",
   "metadata": {},
   "outputs": [],
   "source": [
    "import matplotlib.pyplot as plt"
   ]
  },
  {
   "cell_type": "markdown",
   "id": "0579547b",
   "metadata": {},
   "source": [
    "### Properties of quadrilaterals\n",
    "\n",
    "1.) How to prove a quadrilateral is a parallelogram."
   ]
  },
  {
   "cell_type": "markdown",
   "id": "395404ad",
   "metadata": {},
   "source": [
    "both pairs of opp sides are parallel\n",
    "\n",
    "just prove the gradients are equal\n",
    "\n",
    "both pairs of opp sides are equal (work out distances)\n",
    "\n",
    "prove one pair is parallel and equal (just one pair is enough)\n",
    "\n",
    "prove the diagonals bisect. midpoint is equal on both diagonals"
   ]
  },
  {
   "cell_type": "markdown",
   "id": "85ff6ce2",
   "metadata": {},
   "source": [
    "2.) How to prove a quadrilateral is a rhombus\n",
    "\n",
    "prove it's a parallelogram and all sides (4) are equal\n",
    "\n",
    "the diagonals bisect at 90 degrees and it's a prallelogram\n",
    "\n",
    "both diag multipliled = -1"
   ]
  },
  {
   "cell_type": "markdown",
   "id": "ccf28ee9",
   "metadata": {},
   "source": [
    "3.) Prove a quadrilateral is a parallelogram\n",
    "\n",
    "parallelogram and one corner is equal to 90 degrees\n",
    "\n",
    "diags are equal in length distances are equal."
   ]
  },
  {
   "cell_type": "markdown",
   "id": "fd03ed2a",
   "metadata": {},
   "source": [
    "4.) prove a quadrilateral is a square\n",
    "\n",
    "prove it's all three above\n",
    "\n",
    "or prove all 4 sides equal and corner equals 90 degrees"
   ]
  },
  {
   "cell_type": "markdown",
   "id": "8631b75e",
   "metadata": {},
   "source": [
    "### example 1\n",
    "\n",
    "Consider the parallelogram ABCD."
   ]
  },
  {
   "cell_type": "code",
   "execution_count": 3,
   "id": "6367809d",
   "metadata": {},
   "outputs": [],
   "source": [
    "A, B, C, D = Point(-6,1), Point(x, y), Point(4, -4),  Point(-6, -6)"
   ]
  },
  {
   "cell_type": "markdown",
   "id": "47ea05c0",
   "metadata": {},
   "source": [
    "1.1  Write down the length of AD."
   ]
  },
  {
   "cell_type": "code",
   "execution_count": 4,
   "id": "41d76f7e",
   "metadata": {},
   "outputs": [
    {
     "data": {
      "image/png": "[encoded data removed]",
      "text/latex": [
       "$\\displaystyle 7$"
      ],
      "text/plain": [
       "7"
      ]
     },
     "execution_count": 4,
     "metadata": {},
     "output_type": "execute_result"
    }
   ],
   "source": [
    "A.distance(D)  # Notice x-values of both A and D are equal(vertical)"
   ]
  },
  {
   "cell_type": "markdown",
   "id": "afda87f3",
   "metadata": {},
   "source": [
    "1.2  Write down the co-ordinates of B."
   ]
  },
  {
   "cell_type": "code",
   "execution_count": 5,
   "id": "c49c7b87",
   "metadata": {},
   "outputs": [
    {
     "data": {
      "image/png": "[encoded data removed]",
      "text/latex": [
       "$\\displaystyle \\operatorname{Point2D}\\left(4, 3\\right)$"
      ],
      "text/plain": [
       "Point2D(4, 3)"
      ]
     },
     "execution_count": 5,
     "metadata": {},
     "output_type": "execute_result"
    }
   ],
   "source": [
    "B = Point(C.x, C.y + 7);B"
   ]
  },
  {
   "cell_type": "code",
   "execution_count": 6,
   "id": "ac78234d",
   "metadata": {},
   "outputs": [
    {
     "data": {
      "image/png": "[encoded data removed]",
      "text/latex": [
       "$\\displaystyle 7$"
      ],
      "text/plain": [
       "7"
      ]
     },
     "execution_count": 6,
     "metadata": {},
     "output_type": "execute_result"
    }
   ],
   "source": [
    "B.distance(C)"
   ]
  },
  {
   "cell_type": "code",
   "execution_count": 7,
   "id": "0c8db8f0",
   "metadata": {},
   "outputs": [
    {
     "data": {
      "image/png": "[encoded data removed]",
      "text/latex": [
       "$\\displaystyle \\left[ -6, \\  4, \\  4, \\  -6, \\  -6\\right]$"
      ],
      "text/plain": [
       "[-6, 4, 4, -6, -6]"
      ]
     },
     "execution_count": 7,
     "metadata": {},
     "output_type": "execute_result"
    }
   ],
   "source": [
    "x = [A.x, B.x, C.x, D.x, A.x];x"
   ]
  },
  {
   "cell_type": "code",
   "execution_count": 8,
   "id": "61709c57",
   "metadata": {},
   "outputs": [
    {
     "data": {
      "image/png": "[encoded data removed]",
      "text/latex": [
       "$\\displaystyle \\left[ 1, \\  3, \\  -4, \\  -6, \\  1\\right]$"
      ],
      "text/plain": [
       "[1, 3, -4, -6, 1]"
      ]
     },
     "execution_count": 8,
     "metadata": {},
     "output_type": "execute_result"
    }
   ],
   "source": [
    "y = [A.y, B.y, C.y, D.y, A.y];y"
   ]
  },
  {
   "cell_type": "code",
   "execution_count": 9,
   "id": "3c7cffb0",
   "metadata": {},
   "outputs": [
    {
     "data": {
      "text/plain": [
       "[<matplotlib.lines.Line2D at 0x10ea8b850>]"
      ]
     },
     "execution_count": 9,
     "metadata": {},
     "output_type": "execute_result"
    },
    {
     "data": {
      "image/png": "[encoded data removed]",
      "text/plain": [
       "<Figure size 640x480 with 1 Axes>"
      ]
     },
     "metadata": {},
     "output_type": "display_data"
    }
   ],
   "source": [
    "fig, ax = plt.subplots()\n",
    "ax.grid(True)\n",
    "ax.annotate(' A', A)\n",
    "ax.annotate(' B', B)\n",
    "ax.annotate(' C', C)\n",
    "ax.annotate(' D', D)\n",
    "ax.plot(x,y, linewidth=1.0)"
   ]
  },
  {
   "cell_type": "markdown",
   "id": "8cb9af87",
   "metadata": {},
   "source": [
    "1.3.1  Dermine the value of d. An equation of the line passing through A and C is y = -1/2 x + d."
   ]
  },
  {
   "cell_type": "code",
   "execution_count": 10,
   "id": "b0223378",
   "metadata": {},
   "outputs": [],
   "source": [
    "x, y = symbols('x y')\n",
    "lhs = y - 1\n",
    "rhs = Rational(-1,2) * (x - (-6))"
   ]
  },
  {
   "cell_type": "code",
   "execution_count": 11,
   "id": "b9f4dede",
   "metadata": {},
   "outputs": [
    {
     "data": {
      "image/png": "[encoded data removed]",
      "text/latex": [
       "$\\displaystyle y - 1 = - \\frac{x}{2} - 3$"
      ],
      "text/plain": [
       "          x    \n",
       "y - 1 = - ─ - 3\n",
       "          2    "
      ]
     },
     "execution_count": 11,
     "metadata": {},
     "output_type": "execute_result"
    }
   ],
   "source": [
    "Eq(lhs, rhs)"
   ]
  },
  {
   "cell_type": "markdown",
   "id": "77800a82",
   "metadata": {},
   "source": [
    "So, y = -1/2 x - 2"
   ]
  },
  {
   "cell_type": "code",
   "execution_count": 12,
   "id": "861eccb4",
   "metadata": {},
   "outputs": [
    {
     "data": {
      "image/png": "[encoded data removed]",
      "text/latex": [
       "$\\displaystyle \\left[ - \\frac{x}{2} - 2\\right]$"
      ],
      "text/plain": [
       "⎡  x    ⎤\n",
       "⎢- ─ - 2⎥\n",
       "⎣  2    ⎦"
      ]
     },
     "execution_count": 12,
     "metadata": {},
     "output_type": "execute_result"
    }
   ],
   "source": [
    "solve(Out[11], y)"
   ]
  },
  {
   "cell_type": "markdown",
   "id": "40dc4d45",
   "metadata": {},
   "source": [
    "1.3.2  Write down the co-ordinates of the y-intercept of the line AC."
   ]
  },
  {
   "cell_type": "markdown",
   "id": "fbadfbbf",
   "metadata": {},
   "source": [
    "when x = 0, our line passes through the y-intercept so\n"
   ]
  },
  {
   "cell_type": "code",
   "execution_count": 13,
   "id": "01d92b0a",
   "metadata": {},
   "outputs": [
    {
     "data": {
      "image/png": "[encoded data removed]",
      "text/latex": [
       "$\\displaystyle - \\frac{x}{2} - 2$"
      ],
      "text/plain": [
       "  x    \n",
       "- ─ - 2\n",
       "  2    "
      ]
     },
     "execution_count": 13,
     "metadata": {},
     "output_type": "execute_result"
    }
   ],
   "source": [
    "expr = Rational(-1, 2) * x -2;expr"
   ]
  },
  {
   "cell_type": "code",
   "execution_count": 14,
   "id": "77803f12",
   "metadata": {},
   "outputs": [
    {
     "data": {
      "image/png": "[encoded data removed]",
      "text/latex": [
       "$\\displaystyle -2$"
      ],
      "text/plain": [
       "-2"
      ]
     },
     "execution_count": 14,
     "metadata": {},
     "output_type": "execute_result"
    }
   ],
   "source": [
    "expr.subs(x, 0)"
   ]
  },
  {
   "cell_type": "markdown",
   "id": "01e856d2",
   "metadata": {},
   "source": [
    "Our co-ordinate is then (0, -2)"
   ]
  },
  {
   "cell_type": "markdown",
   "id": "ccb8acbb",
   "metadata": {},
   "source": [
    "1.4)  Determine the length of CD. Leave your answer in surd form"
   ]
  },
  {
   "cell_type": "code",
   "execution_count": 15,
   "id": "a7193317",
   "metadata": {},
   "outputs": [
    {
     "data": {
      "image/png": "[encoded data removed]",
      "text/latex": [
       "$\\displaystyle 2 \\sqrt{26}$"
      ],
      "text/plain": [
       "2⋅√26"
      ]
     },
     "execution_count": 15,
     "metadata": {},
     "output_type": "execute_result"
    }
   ],
   "source": [
    "C.distance(D)"
   ]
  },
  {
   "cell_type": "markdown",
   "id": "d2b6f935",
   "metadata": {},
   "source": [
    "1.5) Is ABCD a rhombus? Give a reason to justify your answer."
   ]
  },
  {
   "cell_type": "markdown",
   "id": "b63396ec",
   "metadata": {},
   "source": [
    "No, adjacent sides are not equal."
   ]
  },
  {
   "cell_type": "code",
   "execution_count": 16,
   "id": "9182a68a",
   "metadata": {},
   "outputs": [
    {
     "data": {
      "text/plain": [
       "False"
      ]
     },
     "execution_count": 16,
     "metadata": {},
     "output_type": "execute_result"
    }
   ],
   "source": [
    "A.distance(D) == C.distance(D)"
   ]
  },
  {
   "cell_type": "markdown",
   "id": "4c003ab5",
   "metadata": {},
   "source": [
    "### Example 2\n",
    "\n",
    "In the given diagram, EBAD is a trapezium.  The point C lies on ED. F is the midpoint of AB. FC and CB are joined."
   ]
  },
  {
   "cell_type": "code",
   "execution_count": 17,
   "id": "4c4bfa69",
   "metadata": {},
   "outputs": [],
   "source": [
    "del(A);del(B);del(C);del(D)"
   ]
  },
  {
   "cell_type": "code",
   "execution_count": 18,
   "id": "c840dfb0",
   "metadata": {},
   "outputs": [],
   "source": [
    "A, B, C, D = Point(7,2), Point(5,8), Point(-1, 6), Point(1, 0)"
   ]
  },
  {
   "cell_type": "markdown",
   "id": "ff9ed255",
   "metadata": {},
   "source": [
    "2.1  Determine the gradient of AD"
   ]
  },
  {
   "cell_type": "code",
   "execution_count": 19,
   "id": "1096ea54",
   "metadata": {},
   "outputs": [
    {
     "data": {
      "image/png": "[encoded data removed]",
      "text/latex": [
       "$\\displaystyle \\frac{1}{3}$"
      ],
      "text/plain": [
       "1/3"
      ]
     },
     "execution_count": 19,
     "metadata": {},
     "output_type": "execute_result"
    }
   ],
   "source": [
    "AD_gradient = (A.y - D.y) / (A.x - D.x);AD_gradient"
   ]
  },
  {
   "cell_type": "markdown",
   "id": "eea2a54f",
   "metadata": {},
   "source": [
    "2.2  Calculate the length of AD"
   ]
  },
  {
   "cell_type": "code",
   "execution_count": 20,
   "id": "41049f0c",
   "metadata": {},
   "outputs": [
    {
     "data": {
      "image/png": "[encoded data removed]",
      "text/latex": [
       "$\\displaystyle 2 \\sqrt{10}$"
      ],
      "text/plain": [
       "2⋅√10"
      ]
     },
     "execution_count": 20,
     "metadata": {},
     "output_type": "execute_result"
    }
   ],
   "source": [
    "AD_distance = A.distance(D);AD_distance"
   ]
  },
  {
   "cell_type": "markdown",
   "id": "7339e4b0",
   "metadata": {},
   "source": [
    "2.3  Determine the coordinates of F."
   ]
  },
  {
   "cell_type": "code",
   "execution_count": 21,
   "id": "960f922c",
   "metadata": {},
   "outputs": [],
   "source": [
    "midpoint_AB = Segment(A, B)"
   ]
  },
  {
   "cell_type": "code",
   "execution_count": 22,
   "id": "c06a2934",
   "metadata": {},
   "outputs": [
    {
     "data": {
      "image/png": "[encoded data removed]",
      "text/latex": [
       "$\\displaystyle \\operatorname{Point2D}\\left(6, 5\\right)$"
      ],
      "text/plain": [
       "Point2D(6, 5)"
      ]
     },
     "execution_count": 22,
     "metadata": {},
     "output_type": "execute_result"
    }
   ],
   "source": [
    "F = midpoint_AB.midpoint;F"
   ]
  },
  {
   "cell_type": "markdown",
   "id": "f8400b72",
   "metadata": {},
   "source": [
    "2.4 Determine the equation of ED."
   ]
  },
  {
   "cell_type": "markdown",
   "id": "87ce719e",
   "metadata": {},
   "source": [
    " because point E is on the same line as CD it would have the same gradient, so we'll calculate CD_gradient to get ED_gradient"
   ]
  },
  {
   "cell_type": "code",
   "execution_count": 23,
   "id": "2759b7ff",
   "metadata": {},
   "outputs": [
    {
     "data": {
      "image/png": "[encoded data removed]",
      "text/latex": [
       "$\\displaystyle -3$"
      ],
      "text/plain": [
       "-3"
      ]
     },
     "execution_count": 23,
     "metadata": {},
     "output_type": "execute_result"
    }
   ],
   "source": [
    "ED_gradient = (C.y - D.y) / (C.x - D.x);ED_gradient"
   ]
  },
  {
   "cell_type": "markdown",
   "id": "4e8c6455",
   "metadata": {},
   "source": [
    "Note that AD_gradient is 1/3 and ED_gradient is -3 the angle of D is 90 degrees."
   ]
  },
  {
   "cell_type": "code",
   "execution_count": 24,
   "id": "30b31136",
   "metadata": {},
   "outputs": [],
   "source": [
    "lhs = y - D.y\n",
    "rhs = -3 * (x - D.x)"
   ]
  },
  {
   "cell_type": "code",
   "execution_count": 25,
   "id": "804ad562",
   "metadata": {},
   "outputs": [
    {
     "data": {
      "image/png": "[encoded data removed]",
      "text/latex": [
       "$\\displaystyle 3 - 3 x = y$"
      ],
      "text/plain": [
       "3 - 3⋅x = y"
      ]
     },
     "execution_count": 25,
     "metadata": {},
     "output_type": "execute_result"
    }
   ],
   "source": [
    "Eq(rhs, lhs)"
   ]
  },
  {
   "cell_type": "code",
   "execution_count": 26,
   "id": "82288ba2",
   "metadata": {},
   "outputs": [
    {
     "data": {
      "image/png": "[encoded data removed]",
      "text/latex": [
       "$\\displaystyle \\operatorname{Point2D}\\left(1, 0\\right)$"
      ],
      "text/plain": [
       "Point2D(1, 0)"
      ]
     },
     "execution_count": 26,
     "metadata": {},
     "output_type": "execute_result"
    }
   ],
   "source": [
    "D"
   ]
  },
  {
   "cell_type": "markdown",
   "id": "b7c9984a",
   "metadata": {},
   "source": [
    "2.5  Calculate the coordinates of E if the equation of EB is -1/2x + 8"
   ]
  },
  {
   "cell_type": "code",
   "execution_count": 27,
   "id": "40a8af94",
   "metadata": {},
   "outputs": [
    {
     "data": {
      "image/png": "[encoded data removed]",
      "text/latex": [
       "$\\displaystyle 3 - 3 x$"
      ],
      "text/plain": [
       "3 - 3⋅x"
      ]
     },
     "execution_count": 27,
     "metadata": {},
     "output_type": "execute_result"
    }
   ],
   "source": [
    "ED_expr = -3 * x + 3;ED_expr"
   ]
  },
  {
   "cell_type": "code",
   "execution_count": 28,
   "id": "cfb8bc0d",
   "metadata": {},
   "outputs": [
    {
     "data": {
      "image/png": "[encoded data removed]",
      "text/latex": [
       "$\\displaystyle 8 - \\frac{x}{2}$"
      ],
      "text/plain": [
       "    x\n",
       "8 - ─\n",
       "    2"
      ]
     },
     "execution_count": 28,
     "metadata": {},
     "output_type": "execute_result"
    }
   ],
   "source": [
    "EB_expr = Rational(-1, 2) * x + 8;EB_expr"
   ]
  },
  {
   "cell_type": "code",
   "execution_count": 29,
   "id": "5095a069",
   "metadata": {},
   "outputs": [
    {
     "data": {
      "image/png": "[encoded data removed]",
      "text/latex": [
       "$\\displaystyle 16 - x$"
      ],
      "text/plain": [
       "16 - x"
      ]
     },
     "execution_count": 29,
     "metadata": {},
     "output_type": "execute_result"
    }
   ],
   "source": [
    "EB_expr = 2 * EB_expr;EB_expr"
   ]
  },
  {
   "cell_type": "code",
   "execution_count": 30,
   "id": "6bc6cc0d",
   "metadata": {},
   "outputs": [
    {
     "data": {
      "image/png": "[encoded data removed]",
      "text/latex": [
       "$\\displaystyle 6 - 6 x$"
      ],
      "text/plain": [
       "6 - 6⋅x"
      ]
     },
     "execution_count": 30,
     "metadata": {},
     "output_type": "execute_result"
    }
   ],
   "source": [
    "ED_expr = 2 * ED_expr;ED_expr"
   ]
  },
  {
   "cell_type": "code",
   "execution_count": 31,
   "id": "f811c1ab",
   "metadata": {},
   "outputs": [],
   "source": [
    "EB_expr = EB_expr + x;ED_expr = ED_expr + x"
   ]
  },
  {
   "cell_type": "code",
   "execution_count": 32,
   "id": "ff1f4460",
   "metadata": {},
   "outputs": [
    {
     "data": {
      "image/png": "[encoded data removed]",
      "text/latex": [
       "$\\displaystyle 16$"
      ],
      "text/plain": [
       "16"
      ]
     },
     "execution_count": 32,
     "metadata": {},
     "output_type": "execute_result"
    }
   ],
   "source": [
    "EB_expr"
   ]
  },
  {
   "cell_type": "code",
   "execution_count": 33,
   "id": "1a96050b",
   "metadata": {},
   "outputs": [
    {
     "data": {
      "image/png": "[encoded data removed]",
      "text/latex": [
       "$\\displaystyle 6 - 5 x$"
      ],
      "text/plain": [
       "6 - 5⋅x"
      ]
     },
     "execution_count": 33,
     "metadata": {},
     "output_type": "execute_result"
    }
   ],
   "source": [
    "ED_expr"
   ]
  },
  {
   "cell_type": "code",
   "execution_count": 34,
   "id": "f7fa7355",
   "metadata": {},
   "outputs": [],
   "source": [
    "EB_expr = EB_expr - 6;ED_expr = ED_expr - 6"
   ]
  },
  {
   "cell_type": "code",
   "execution_count": 35,
   "id": "379af429",
   "metadata": {},
   "outputs": [
    {
     "data": {
      "image/png": "[encoded data removed]",
      "text/latex": [
       "$\\displaystyle \\left( 10, \\  - 5 x\\right)$"
      ],
      "text/plain": [
       "(10, -5⋅x)"
      ]
     },
     "execution_count": 35,
     "metadata": {},
     "output_type": "execute_result"
    }
   ],
   "source": [
    "EB_expr, ED_expr"
   ]
  },
  {
   "cell_type": "code",
   "execution_count": 36,
   "id": "16d3be86",
   "metadata": {},
   "outputs": [],
   "source": [
    "EB_expr = EB_expr / -5;ED_expr = ED_expr / -5"
   ]
  },
  {
   "cell_type": "code",
   "execution_count": 37,
   "id": "dae6bb2c",
   "metadata": {},
   "outputs": [
    {
     "data": {
      "image/png": "[encoded data removed]",
      "text/latex": [
       "$\\displaystyle \\left( -2, \\  x\\right)$"
      ],
      "text/plain": [
       "(-2, x)"
      ]
     },
     "execution_count": 37,
     "metadata": {},
     "output_type": "execute_result"
    }
   ],
   "source": [
    "EB_expr, ED_expr"
   ]
  },
  {
   "cell_type": "code",
   "execution_count": 38,
   "id": "31bbac37",
   "metadata": {},
   "outputs": [
    {
     "data": {
      "image/png": "[encoded data removed]",
      "text/latex": [
       "$\\displaystyle 3 - 3 x$"
      ],
      "text/plain": [
       "3 - 3⋅x"
      ]
     },
     "execution_count": 38,
     "metadata": {},
     "output_type": "execute_result"
    }
   ],
   "source": [
    "ED_expr = -3 * x + 3;ED_expr"
   ]
  },
  {
   "cell_type": "code",
   "execution_count": 39,
   "id": "9a235ae5",
   "metadata": {},
   "outputs": [
    {
     "data": {
      "image/png": "[encoded data removed]",
      "text/latex": [
       "$\\displaystyle 9$"
      ],
      "text/plain": [
       "9"
      ]
     },
     "execution_count": 39,
     "metadata": {},
     "output_type": "execute_result"
    }
   ],
   "source": [
    "ED_expr.subs(x, -2)"
   ]
  },
  {
   "cell_type": "code",
   "execution_count": 40,
   "id": "2a7b143c",
   "metadata": {},
   "outputs": [],
   "source": [
    "E = Point(-2, 9)"
   ]
  },
  {
   "cell_type": "code",
   "execution_count": 41,
   "id": "19d69916",
   "metadata": {},
   "outputs": [
    {
     "data": {
      "image/png": "[encoded data removed]",
      "text/latex": [
       "$\\displaystyle \\operatorname{Point2D}\\left(1, 0\\right)$"
      ],
      "text/plain": [
       "Point2D(1, 0)"
      ]
     },
     "execution_count": 41,
     "metadata": {},
     "output_type": "execute_result"
    }
   ],
   "source": [
    "D"
   ]
  },
  {
   "cell_type": "code",
   "execution_count": 42,
   "id": "e8ce7425",
   "metadata": {},
   "outputs": [
    {
     "data": {
      "image/png": "[encoded data removed]",
      "text/latex": [
       "$\\displaystyle -3$"
      ],
      "text/plain": [
       "-3"
      ]
     },
     "execution_count": 42,
     "metadata": {},
     "output_type": "execute_result"
    }
   ],
   "source": [
    "ED_gradient"
   ]
  },
  {
   "cell_type": "code",
   "execution_count": 43,
   "id": "ba614ec9",
   "metadata": {},
   "outputs": [
    {
     "data": {
      "image/png": "[encoded data removed]",
      "text/latex": [
       "$\\displaystyle -3$"
      ],
      "text/plain": [
       "-3"
      ]
     },
     "execution_count": 43,
     "metadata": {},
     "output_type": "execute_result"
    }
   ],
   "source": [
    "(E.y - D.y) / (E.x - D.x)"
   ]
  },
  {
   "cell_type": "code",
   "execution_count": 44,
   "id": "bc4c0706",
   "metadata": {},
   "outputs": [
    {
     "data": {
      "image/png": "[encoded data removed]",
      "text/latex": [
       "$\\displaystyle \\sqrt{10}$"
      ],
      "text/plain": [
       "√10"
      ]
     },
     "execution_count": 44,
     "metadata": {},
     "output_type": "execute_result"
    }
   ],
   "source": [
    "E.distance(C)"
   ]
  },
  {
   "cell_type": "code",
   "execution_count": 45,
   "id": "1313647f",
   "metadata": {},
   "outputs": [
    {
     "data": {
      "image/png": "[encoded data removed]",
      "text/latex": [
       "$\\displaystyle \\sqrt{10}$"
      ],
      "text/plain": [
       "√10"
      ]
     },
     "execution_count": 45,
     "metadata": {},
     "output_type": "execute_result"
    }
   ],
   "source": [
    "B.distance(F)"
   ]
  },
  {
   "cell_type": "markdown",
   "id": "c9463bdf",
   "metadata": {},
   "source": [
    "2.6  Calculate the size of BFC\n",
    "area of triangle is 1/2 base * height"
   ]
  },
  {
   "cell_type": "code",
   "execution_count": 46,
   "id": "024003de",
   "metadata": {},
   "outputs": [
    {
     "data": {
      "image/png": "[encoded data removed]",
      "text/latex": [
       "$\\displaystyle 10$"
      ],
      "text/plain": [
       "10"
      ]
     },
     "execution_count": 46,
     "metadata": {},
     "output_type": "execute_result"
    }
   ],
   "source": [
    "B.distance(F) * B.distance(C) * Rational(1, 2)"
   ]
  },
  {
   "cell_type": "code",
   "execution_count": 47,
   "id": "67f7cbbc",
   "metadata": {},
   "outputs": [
    {
     "data": {
      "image/png": "[encoded data removed]",
      "text/latex": [
       "$\\displaystyle 108.434948822922$"
      ],
      "text/plain": [
       "108.434948822922"
      ]
     },
     "execution_count": 47,
     "metadata": {},
     "output_type": "execute_result"
    }
   ],
   "source": [
    "N(deg(atan(-3))) + 180"
   ]
  },
  {
   "cell_type": "code",
   "execution_count": 48,
   "id": "ea530cd6",
   "metadata": {},
   "outputs": [
    {
     "data": {
      "image/png": "[encoded data removed]",
      "text/latex": [
       "$\\displaystyle - \\frac{1}{7}$"
      ],
      "text/plain": [
       "-1/7"
      ]
     },
     "execution_count": 48,
     "metadata": {},
     "output_type": "execute_result"
    }
   ],
   "source": [
    "CF_gradient = (C.y - F.y) / (C.x - F.x);CF_gradient"
   ]
  },
  {
   "cell_type": "code",
   "execution_count": 49,
   "id": "ce75bf39",
   "metadata": {},
   "outputs": [
    {
     "data": {
      "image/png": "[encoded data removed]",
      "text/latex": [
       "$\\displaystyle 171.869897645844$"
      ],
      "text/plain": [
       "171.869897645844"
      ]
     },
     "execution_count": 49,
     "metadata": {},
     "output_type": "execute_result"
    }
   ],
   "source": [
    "N(deg(atan(Rational(-1, 7)))) + 180"
   ]
  },
  {
   "cell_type": "code",
   "execution_count": 51,
   "id": "bb0534ec",
   "metadata": {},
   "outputs": [
    {
     "data": {
      "image/png": "[encoded data removed]",
      "text/latex": [
       "$\\displaystyle 63.434948822922$"
      ],
      "text/plain": [
       "63.4349488229220"
      ]
     },
     "execution_count": 51,
     "metadata": {},
     "output_type": "execute_result"
    }
   ],
   "source": [
    "Out[49] - Out[47]"
   ]
  },
  {
   "cell_type": "markdown",
   "id": "c26743e9",
   "metadata": {},
   "source": [
    "2.7 Show that ABCD is a square"
   ]
  },
  {
   "cell_type": "code",
   "execution_count": 52,
   "id": "ccda7636",
   "metadata": {},
   "outputs": [
    {
     "data": {
      "image/png": "[encoded data removed]",
      "text/latex": [
       "$\\displaystyle \\frac{1}{3}$"
      ],
      "text/plain": [
       "1/3"
      ]
     },
     "execution_count": 52,
     "metadata": {},
     "output_type": "execute_result"
    }
   ],
   "source": [
    "BC_gradient = (B.y - C.y) / (B.x - C.x);BC_gradient"
   ]
  },
  {
   "cell_type": "code",
   "execution_count": 53,
   "id": "c577d803",
   "metadata": {},
   "outputs": [
    {
     "data": {
      "text/plain": [
       "True"
      ]
     },
     "execution_count": 53,
     "metadata": {},
     "output_type": "execute_result"
    }
   ],
   "source": [
    "AD_gradient == BC_gradient # if True, then parallel lines"
   ]
  },
  {
   "cell_type": "code",
   "execution_count": 54,
   "id": "88e87dce",
   "metadata": {},
   "outputs": [
    {
     "data": {
      "image/png": "[encoded data removed]",
      "text/latex": [
       "$\\displaystyle 2 \\sqrt{10}$"
      ],
      "text/plain": [
       "2⋅√10"
      ]
     },
     "execution_count": 54,
     "metadata": {},
     "output_type": "execute_result"
    }
   ],
   "source": [
    "AD_distance"
   ]
  },
  {
   "cell_type": "code",
   "execution_count": 55,
   "id": "0d66ec7d",
   "metadata": {},
   "outputs": [
    {
     "data": {
      "image/png": "[encoded data removed]",
      "text/latex": [
       "$\\displaystyle 2 \\sqrt{10}$"
      ],
      "text/plain": [
       "2⋅√10"
      ]
     },
     "execution_count": 55,
     "metadata": {},
     "output_type": "execute_result"
    }
   ],
   "source": [
    "CD_distance = C.distance(D);CD_distance "
   ]
  },
  {
   "cell_type": "code",
   "execution_count": 56,
   "id": "845877dc",
   "metadata": {},
   "outputs": [
    {
     "data": {
      "text/plain": [
       "True"
      ]
     },
     "execution_count": 56,
     "metadata": {},
     "output_type": "execute_result"
    }
   ],
   "source": [
    "AD_distance == CD_distance # if equal we have a rhombus"
   ]
  },
  {
   "cell_type": "code",
   "execution_count": 57,
   "id": "117491de",
   "metadata": {},
   "outputs": [
    {
     "data": {
      "image/png": "[encoded data removed]",
      "text/latex": [
       "$\\displaystyle -3$"
      ],
      "text/plain": [
       "-3"
      ]
     },
     "execution_count": 57,
     "metadata": {},
     "output_type": "execute_result"
    }
   ],
   "source": [
    "CD_gradient = (C.y - D.y) / (C.x - D.x);CD_gradient"
   ]
  },
  {
   "cell_type": "code",
   "execution_count": 58,
   "id": "1c9c4786",
   "metadata": {},
   "outputs": [
    {
     "data": {
      "image/png": "[encoded data removed]",
      "text/latex": [
       "$\\displaystyle \\frac{1}{3}$"
      ],
      "text/plain": [
       "1/3"
      ]
     },
     "execution_count": 58,
     "metadata": {},
     "output_type": "execute_result"
    }
   ],
   "source": [
    "AD_gradient"
   ]
  },
  {
   "cell_type": "code",
   "execution_count": 59,
   "id": "0984ab59",
   "metadata": {},
   "outputs": [
    {
     "data": {
      "text/plain": [
       "True"
      ]
     },
     "execution_count": 59,
     "metadata": {},
     "output_type": "execute_result"
    }
   ],
   "source": [
    "CD_gradient * AD_gradient == -1 # if True then proven right angle"
   ]
  },
  {
   "cell_type": "markdown",
   "id": "4f7ef8fe",
   "metadata": {},
   "source": [
    "Therefore it's a square, ABCD is a rectangle , parallelogram and one corner is 90 degrees"
   ]
  },
  {
   "cell_type": "markdown",
   "id": "e5766b10",
   "metadata": {},
   "source": [
    "∴ ABCD is a square (paralelogram, rhombus and rectangle)"
   ]
  },
  {
   "cell_type": "code",
   "execution_count": null,
   "id": "90511457",
   "metadata": {},
   "outputs": [],
   "source": []
  }
 ],
 "metadata": {
  "kernelspec": {
   "display_name": "Python 3 (ipykernel)",
   "language": "python",
   "name": "python3"
  },
  "language_info": {
   "codemirror_mode": {
    "name": "ipython",
    "version": 3
   },
   "file_extension": ".py",
   "mimetype": "text/x-python",
   "name": "python",
   "nbconvert_exporter": "python",
   "pygments_lexer": "ipython3",
   "version": "3.10.5"
  }
 },
 "nbformat": 4,
 "nbformat_minor": 5
}
