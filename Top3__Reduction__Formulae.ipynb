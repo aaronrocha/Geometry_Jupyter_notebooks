{
 "cells": [
  {
   "cell_type": "markdown",
   "id": "de1dcc81",
   "metadata": {},
   "source": [
    "## Topic 3.1 Reduction intro"
   ]
  },
  {
   "cell_type": "markdown",
   "id": "70f765a9",
   "metadata": {},
   "source": [
    "#### Example 1\n",
    "\n",
    "Consider the diagram below where θ = POX and P(-7, 24)"
   ]
  },
  {
   "cell_type": "markdown",
   "id": "2635aafb",
   "metadata": {},
   "source": [
    "3.1 The Four Cousins\n",
    "\n",
    "#### Example 1  -- 30 degree cousins"
   ]
  },
  {
   "cell_type": "code",
   "execution_count": 1,
   "id": "0682eb4b",
   "metadata": {},
   "outputs": [],
   "source": [
    "from sympy import *\n",
    "init_printing()"
   ]
  },
  {
   "cell_type": "code",
   "execution_count": 2,
   "id": "78eab92a",
   "metadata": {},
   "outputs": [
    {
     "data": {
      "image/png": "[encoded data removed]",
      "text/latex": [
       "$\\displaystyle \\frac{\\pi}{6}$"
      ],
      "text/plain": [
       "π\n",
       "─\n",
       "6"
      ]
     },
     "execution_count": 2,
     "metadata": {},
     "output_type": "execute_result"
    }
   ],
   "source": [
    "degree_30 = rad(30);degree_30"
   ]
  },
  {
   "cell_type": "code",
   "execution_count": 3,
   "id": "c585116f",
   "metadata": {},
   "outputs": [
    {
     "data": {
      "image/png": "[encoded data removed]",
      "text/latex": [
       "$\\displaystyle \\frac{1}{2}$"
      ],
      "text/plain": [
       "1/2"
      ]
     },
     "execution_count": 3,
     "metadata": {},
     "output_type": "execute_result"
    }
   ],
   "source": [
    "sin(pi/6)"
   ]
  },
  {
   "cell_type": "code",
   "execution_count": 4,
   "id": "6d5e7369",
   "metadata": {},
   "outputs": [
    {
     "data": {
      "image/png": "[encoded data removed]",
      "text/latex": [
       "$\\displaystyle \\frac{\\sqrt{3}}{2}$"
      ],
      "text/plain": [
       "√3\n",
       "──\n",
       "2 "
      ]
     },
     "execution_count": 4,
     "metadata": {},
     "output_type": "execute_result"
    }
   ],
   "source": [
    "cos(pi/6)"
   ]
  },
  {
   "cell_type": "code",
   "execution_count": 5,
   "id": "23250f8e",
   "metadata": {},
   "outputs": [
    {
     "data": {
      "image/png": "[encoded data removed]",
      "text/latex": [
       "$\\displaystyle \\frac{\\sqrt{3}}{3}$"
      ],
      "text/plain": [
       "√3\n",
       "──\n",
       "3 "
      ]
     },
     "execution_count": 5,
     "metadata": {},
     "output_type": "execute_result"
    }
   ],
   "source": [
    "tan(pi/6)"
   ]
  },
  {
   "cell_type": "code",
   "execution_count": 6,
   "id": "2384bdc0",
   "metadata": {},
   "outputs": [],
   "source": [
    "O, D30 = Point(0,0), Point(sqrt(3), 1)"
   ]
  },
  {
   "cell_type": "code",
   "execution_count": 7,
   "id": "ff67cab4",
   "metadata": {},
   "outputs": [
    {
     "data": {
      "image/png": "[encoded data removed]",
      "text/latex": [
       "$\\displaystyle 2$"
      ],
      "text/plain": [
       "2"
      ]
     },
     "execution_count": 7,
     "metadata": {},
     "output_type": "execute_result"
    }
   ],
   "source": [
    "O.distance(D30)"
   ]
  },
  {
   "cell_type": "markdown",
   "id": "bb308e2d",
   "metadata": {},
   "source": [
    "Remember\n",
    "\n",
    "sin 𝛳 = $\\frac{y}{r}$\n",
    "\n",
    "cos 𝛳 = $\\frac{x}{r}$\n",
    "\n",
    "\n",
    "tan 𝛳 = $\\frac{y}{x}$"
   ]
  },
  {
   "cell_type": "markdown",
   "id": "89e61f80",
   "metadata": {},
   "source": [
    "when r = 2 and our point ($\\sqrt{3}$, 1) you just plug into above to get your sin, cos, and tan."
   ]
  },
  {
   "cell_type": "code",
   "execution_count": 8,
   "id": "a13e23c4",
   "metadata": {},
   "outputs": [
    {
     "data": {
      "image/png": "[encoded data removed]",
      "text/latex": [
       "$\\displaystyle \\operatorname{Point2D}\\left(\\frac{\\sqrt{3}}{2}, \\frac{1}{2}\\right)$"
      ],
      "text/plain": [
       "Point2D(sqrt(3)/2, 1/2)"
      ]
     },
     "execution_count": 8,
     "metadata": {},
     "output_type": "execute_result"
    }
   ],
   "source": [
    "midpoint = O.midpoint(D30);midpoint"
   ]
  },
  {
   "cell_type": "markdown",
   "id": "d758c9b5",
   "metadata": {},
   "source": [
    "Let's go to quadrant II; 180 - 30 = 150 degrees."
   ]
  },
  {
   "cell_type": "code",
   "execution_count": 9,
   "id": "1461ff04",
   "metadata": {},
   "outputs": [
    {
     "data": {
      "image/png": "[encoded data removed]",
      "text/latex": [
       "$\\displaystyle \\frac{5 \\pi}{6}$"
      ],
      "text/plain": [
       "5⋅π\n",
       "───\n",
       " 6 "
      ]
     },
     "execution_count": 9,
     "metadata": {},
     "output_type": "execute_result"
    }
   ],
   "source": [
    "degree_150 = rad(150);degree_150"
   ]
  },
  {
   "cell_type": "code",
   "execution_count": 10,
   "id": "8bd0d15c",
   "metadata": {},
   "outputs": [
    {
     "data": {
      "image/png": "[encoded data removed]",
      "text/latex": [
       "$\\displaystyle \\frac{1}{2}$"
      ],
      "text/plain": [
       "1/2"
      ]
     },
     "execution_count": 10,
     "metadata": {},
     "output_type": "execute_result"
    }
   ],
   "source": [
    "sin(degree_150)"
   ]
  },
  {
   "cell_type": "code",
   "execution_count": 11,
   "id": "c4b355bc",
   "metadata": {},
   "outputs": [
    {
     "data": {
      "image/png": "[encoded data removed]",
      "text/latex": [
       "$\\displaystyle - \\frac{\\sqrt{3}}{2}$"
      ],
      "text/plain": [
       "-√3 \n",
       "────\n",
       " 2  "
      ]
     },
     "execution_count": 11,
     "metadata": {},
     "output_type": "execute_result"
    }
   ],
   "source": [
    "cos(degree_150)"
   ]
  },
  {
   "cell_type": "code",
   "execution_count": 12,
   "id": "f62dd875",
   "metadata": {},
   "outputs": [
    {
     "data": {
      "image/png": "[encoded data removed]",
      "text/latex": [
       "$\\displaystyle - \\frac{\\sqrt{3}}{3}$"
      ],
      "text/plain": [
       "-√3 \n",
       "────\n",
       " 3  "
      ]
     },
     "execution_count": 12,
     "metadata": {},
     "output_type": "execute_result"
    }
   ],
   "source": [
    "tan(degree_150)"
   ]
  },
  {
   "cell_type": "code",
   "execution_count": 13,
   "id": "77d5f693",
   "metadata": {},
   "outputs": [
    {
     "data": {
      "image/png": "[encoded data removed]",
      "text/latex": [
       "$\\displaystyle \\operatorname{Point2D}\\left(- \\sqrt{3}, 1\\right)$"
      ],
      "text/plain": [
       "Point2D(-sqrt(3), 1)"
      ]
     },
     "execution_count": 13,
     "metadata": {},
     "output_type": "execute_result"
    }
   ],
   "source": [
    "D150 = Point(-sqrt(3), 1);D150"
   ]
  },
  {
   "cell_type": "code",
   "execution_count": 14,
   "id": "003527ce",
   "metadata": {},
   "outputs": [
    {
     "data": {
      "image/png": "[encoded data removed]",
      "text/latex": [
       "$\\displaystyle 2$"
      ],
      "text/plain": [
       "2"
      ]
     },
     "execution_count": 14,
     "metadata": {},
     "output_type": "execute_result"
    }
   ],
   "source": [
    "O.distance(D150)"
   ]
  },
  {
   "cell_type": "code",
   "execution_count": 15,
   "id": "90c325cf",
   "metadata": {},
   "outputs": [
    {
     "data": {
      "text/plain": [
       "True"
      ]
     },
     "execution_count": 15,
     "metadata": {},
     "output_type": "execute_result"
    }
   ],
   "source": [
    "1/sqrt(3) == sqrt(3) / 3 "
   ]
  },
  {
   "cell_type": "code",
   "execution_count": 16,
   "id": "81765854",
   "metadata": {},
   "outputs": [
    {
     "data": {
      "image/png": "[encoded data removed]",
      "text/latex": [
       "$\\displaystyle \\frac{\\sqrt{3}}{3}$"
      ],
      "text/plain": [
       "√3\n",
       "──\n",
       "3 "
      ]
     },
     "execution_count": 16,
     "metadata": {},
     "output_type": "execute_result"
    }
   ],
   "source": [
    "1/sqrt(3)"
   ]
  },
  {
   "cell_type": "markdown",
   "id": "8c666757",
   "metadata": {},
   "source": [
    "Now let's go to our quadrant III and reflect our line.\n",
    "\n",
    "180 + 30 = 210 degrees"
   ]
  },
  {
   "cell_type": "code",
   "execution_count": 17,
   "id": "6cc26e1a",
   "metadata": {},
   "outputs": [
    {
     "data": {
      "image/png": "[encoded data removed]",
      "text/latex": [
       "$\\displaystyle \\frac{7 \\pi}{6}$"
      ],
      "text/plain": [
       "7⋅π\n",
       "───\n",
       " 6 "
      ]
     },
     "execution_count": 17,
     "metadata": {},
     "output_type": "execute_result"
    }
   ],
   "source": [
    "degree_210 = rad(210);degree_210"
   ]
  },
  {
   "cell_type": "code",
   "execution_count": 18,
   "id": "cb4ebff6",
   "metadata": {},
   "outputs": [
    {
     "data": {
      "image/png": "[encoded data removed]",
      "text/latex": [
       "$\\displaystyle - \\frac{1}{2}$"
      ],
      "text/plain": [
       "-1/2"
      ]
     },
     "execution_count": 18,
     "metadata": {},
     "output_type": "execute_result"
    }
   ],
   "source": [
    "sin(degree_210)"
   ]
  },
  {
   "cell_type": "code",
   "execution_count": 19,
   "id": "66b4b2c1",
   "metadata": {},
   "outputs": [
    {
     "data": {
      "image/png": "[encoded data removed]",
      "text/latex": [
       "$\\displaystyle - \\frac{\\sqrt{3}}{2}$"
      ],
      "text/plain": [
       "-√3 \n",
       "────\n",
       " 2  "
      ]
     },
     "execution_count": 19,
     "metadata": {},
     "output_type": "execute_result"
    }
   ],
   "source": [
    "cos(degree_210)"
   ]
  },
  {
   "cell_type": "code",
   "execution_count": 20,
   "id": "a399011c",
   "metadata": {},
   "outputs": [
    {
     "data": {
      "image/png": "[encoded data removed]",
      "text/latex": [
       "$\\displaystyle \\frac{\\sqrt{3}}{3}$"
      ],
      "text/plain": [
       "√3\n",
       "──\n",
       "3 "
      ]
     },
     "execution_count": 20,
     "metadata": {},
     "output_type": "execute_result"
    }
   ],
   "source": [
    "tan(degree_210)"
   ]
  },
  {
   "cell_type": "code",
   "execution_count": 21,
   "id": "e9185f8c",
   "metadata": {},
   "outputs": [
    {
     "data": {
      "image/png": "[encoded data removed]",
      "text/latex": [
       "$\\displaystyle \\operatorname{Point2D}\\left(- \\sqrt{3}, -1\\right)$"
      ],
      "text/plain": [
       "Point2D(-sqrt(3), -1)"
      ]
     },
     "execution_count": 21,
     "metadata": {},
     "output_type": "execute_result"
    }
   ],
   "source": [
    "D210 = Point(-sqrt(3), -1);D210"
   ]
  },
  {
   "cell_type": "markdown",
   "id": "249d1457",
   "metadata": {},
   "source": [
    "And finally, to our quadrant IV; 360 - 30 = 330."
   ]
  },
  {
   "cell_type": "code",
   "execution_count": 22,
   "id": "81f5ea58",
   "metadata": {},
   "outputs": [
    {
     "data": {
      "image/png": "[encoded data removed]",
      "text/latex": [
       "$\\displaystyle \\frac{11 \\pi}{6}$"
      ],
      "text/plain": [
       "11⋅π\n",
       "────\n",
       " 6  "
      ]
     },
     "execution_count": 22,
     "metadata": {},
     "output_type": "execute_result"
    }
   ],
   "source": [
    "degree_330 = rad(330);degree_330"
   ]
  },
  {
   "cell_type": "code",
   "execution_count": 23,
   "id": "01205e07",
   "metadata": {},
   "outputs": [
    {
     "data": {
      "image/png": "[encoded data removed]",
      "text/latex": [
       "$\\displaystyle \\operatorname{Point2D}\\left(\\sqrt{3}, -1\\right)$"
      ],
      "text/plain": [
       "Point2D(sqrt(3), -1)"
      ]
     },
     "execution_count": 23,
     "metadata": {},
     "output_type": "execute_result"
    }
   ],
   "source": [
    "D330 = Point(sqrt(3), -1);D330"
   ]
  },
  {
   "cell_type": "code",
   "execution_count": 24,
   "id": "fe83f40c",
   "metadata": {},
   "outputs": [
    {
     "data": {
      "image/png": "[encoded data removed]",
      "text/latex": [
       "$\\displaystyle - \\frac{1}{2}$"
      ],
      "text/plain": [
       "-1/2"
      ]
     },
     "execution_count": 24,
     "metadata": {},
     "output_type": "execute_result"
    }
   ],
   "source": [
    "sin(degree_330)"
   ]
  },
  {
   "cell_type": "code",
   "execution_count": 25,
   "id": "e8f8691e",
   "metadata": {},
   "outputs": [
    {
     "data": {
      "image/png": "[encoded data removed]",
      "text/latex": [
       "$\\displaystyle \\frac{\\sqrt{3}}{2}$"
      ],
      "text/plain": [
       "√3\n",
       "──\n",
       "2 "
      ]
     },
     "execution_count": 25,
     "metadata": {},
     "output_type": "execute_result"
    }
   ],
   "source": [
    "cos(degree_330)"
   ]
  },
  {
   "cell_type": "code",
   "execution_count": 26,
   "id": "656afad3",
   "metadata": {},
   "outputs": [
    {
     "data": {
      "image/png": "[encoded data removed]",
      "text/latex": [
       "$\\displaystyle - \\frac{\\sqrt{3}}{3}$"
      ],
      "text/plain": [
       "-√3 \n",
       "────\n",
       " 3  "
      ]
     },
     "execution_count": 26,
     "metadata": {},
     "output_type": "execute_result"
    }
   ],
   "source": [
    "tan(degree_330)"
   ]
  },
  {
   "cell_type": "code",
   "execution_count": 27,
   "id": "ceb37eb0",
   "metadata": {},
   "outputs": [
    {
     "data": {
      "text/plain": [
       "[<matplotlib.lines.Line2D at 0x10f9bc910>]"
      ]
     },
     "execution_count": 27,
     "metadata": {},
     "output_type": "execute_result"
    },
    {
     "data": {
      "image/png": "[encoded data removed]",
      "text/plain": [
       "<Figure size 640x480 with 1 Axes>"
      ]
     },
     "metadata": {},
     "output_type": "display_data"
    }
   ],
   "source": [
    "import matplotlib.pyplot as plt\n",
    "fig, ax = plt.subplots()\n",
    "ax.grid(True)\n",
    "x = [O.x, D30.x, O.x, D150.x, O.x, D210.x, O.x, D330.x]\n",
    "y = [O.y, D30.y, O.y, D150.y, O.y, D210.y, O.y, D330.y]\n",
    "ax.annotate('($\\sqrt{3}$, 1)', D30)\n",
    "ax.annotate('(-$\\sqrt{3}$, 1)', D150)\n",
    "ax.annotate('(-$\\sqrt{3}$, -1)', D210)\n",
    "ax.annotate('($\\sqrt{3}$, -1)', D330)\n",
    "ax.plot(x, y, linewidth=1.0)"
   ]
  },
  {
   "cell_type": "markdown",
   "id": "b8e2ae49",
   "metadata": {},
   "source": [
    "#### Example 2  60 degree cousins"
   ]
  },
  {
   "cell_type": "code",
   "execution_count": 28,
   "id": "1178f892",
   "metadata": {},
   "outputs": [
    {
     "data": {
      "image/png": "[encoded data removed]",
      "text/latex": [
       "$\\displaystyle \\frac{\\pi}{3}$"
      ],
      "text/plain": [
       "π\n",
       "─\n",
       "3"
      ]
     },
     "execution_count": 28,
     "metadata": {},
     "output_type": "execute_result"
    }
   ],
   "source": [
    "degree_60 = rad(60);degree_60"
   ]
  },
  {
   "cell_type": "code",
   "execution_count": 29,
   "id": "9c287959",
   "metadata": {},
   "outputs": [
    {
     "data": {
      "image/png": "[encoded data removed]",
      "text/latex": [
       "$\\displaystyle \\frac{\\sqrt{3}}{2}$"
      ],
      "text/plain": [
       "√3\n",
       "──\n",
       "2 "
      ]
     },
     "execution_count": 29,
     "metadata": {},
     "output_type": "execute_result"
    }
   ],
   "source": [
    "sin(degree_60)"
   ]
  },
  {
   "cell_type": "code",
   "execution_count": 30,
   "id": "7e1a8d99",
   "metadata": {},
   "outputs": [
    {
     "data": {
      "image/png": "[encoded data removed]",
      "text/latex": [
       "$\\displaystyle \\frac{1}{2}$"
      ],
      "text/plain": [
       "1/2"
      ]
     },
     "execution_count": 30,
     "metadata": {},
     "output_type": "execute_result"
    }
   ],
   "source": [
    "cos(degree_60)"
   ]
  },
  {
   "cell_type": "code",
   "execution_count": 31,
   "id": "3d8f9fe7",
   "metadata": {},
   "outputs": [
    {
     "data": {
      "image/png": "[encoded data removed]",
      "text/latex": [
       "$\\displaystyle \\sqrt{3}$"
      ],
      "text/plain": [
       "√3"
      ]
     },
     "execution_count": 31,
     "metadata": {},
     "output_type": "execute_result"
    }
   ],
   "source": [
    "tan(degree_60)"
   ]
  },
  {
   "cell_type": "code",
   "execution_count": 32,
   "id": "d575598a",
   "metadata": {},
   "outputs": [
    {
     "data": {
      "image/png": "[encoded data removed]",
      "text/latex": [
       "$\\displaystyle \\operatorname{Point2D}\\left(1, \\sqrt{3}\\right)$"
      ],
      "text/plain": [
       "Point2D(1, sqrt(3))"
      ]
     },
     "execution_count": 32,
     "metadata": {},
     "output_type": "execute_result"
    }
   ],
   "source": [
    "D60 = Point(1, sqrt(3));D60"
   ]
  },
  {
   "cell_type": "code",
   "execution_count": 33,
   "id": "8aee1b51",
   "metadata": {},
   "outputs": [
    {
     "data": {
      "image/png": "[encoded data removed]",
      "text/latex": [
       "$\\displaystyle \\frac{2 \\pi}{3}$"
      ],
      "text/plain": [
       "2⋅π\n",
       "───\n",
       " 3 "
      ]
     },
     "execution_count": 33,
     "metadata": {},
     "output_type": "execute_result"
    }
   ],
   "source": [
    "degree_120 = rad(120);degree_120"
   ]
  },
  {
   "cell_type": "code",
   "execution_count": 34,
   "id": "c973ae09",
   "metadata": {},
   "outputs": [
    {
     "data": {
      "image/png": "[encoded data removed]",
      "text/latex": [
       "$\\displaystyle \\operatorname{Point2D}\\left(-1, \\sqrt{3}\\right)$"
      ],
      "text/plain": [
       "Point2D(-1, sqrt(3))"
      ]
     },
     "execution_count": 34,
     "metadata": {},
     "output_type": "execute_result"
    }
   ],
   "source": [
    "D120 = Point(-1, sqrt(3));D120"
   ]
  },
  {
   "cell_type": "code",
   "execution_count": 35,
   "id": "c96e7f7c",
   "metadata": {},
   "outputs": [
    {
     "data": {
      "image/png": "[encoded data removed]",
      "text/latex": [
       "$\\displaystyle \\operatorname{Point2D}\\left(-1, - \\sqrt{3}\\right)$"
      ],
      "text/plain": [
       "Point2D(-1, -sqrt(3))"
      ]
     },
     "execution_count": 35,
     "metadata": {},
     "output_type": "execute_result"
    }
   ],
   "source": [
    "D240 = Point(-1, -sqrt(3));D240"
   ]
  },
  {
   "cell_type": "code",
   "execution_count": 36,
   "id": "1e2a5693",
   "metadata": {},
   "outputs": [
    {
     "data": {
      "image/png": "[encoded data removed]",
      "text/latex": [
       "$\\displaystyle \\frac{4 \\pi}{3}$"
      ],
      "text/plain": [
       "4⋅π\n",
       "───\n",
       " 3 "
      ]
     },
     "execution_count": 36,
     "metadata": {},
     "output_type": "execute_result"
    }
   ],
   "source": [
    "degree_240 = rad(240);degree_240"
   ]
  },
  {
   "cell_type": "code",
   "execution_count": 37,
   "id": "5b7523e0",
   "metadata": {},
   "outputs": [
    {
     "data": {
      "image/png": "[encoded data removed]",
      "text/latex": [
       "$\\displaystyle \\operatorname{Point2D}\\left(1, - \\sqrt{3}\\right)$"
      ],
      "text/plain": [
       "Point2D(1, -sqrt(3))"
      ]
     },
     "execution_count": 37,
     "metadata": {},
     "output_type": "execute_result"
    }
   ],
   "source": [
    "D300 = Point(1, -sqrt(3));D300"
   ]
  },
  {
   "cell_type": "code",
   "execution_count": 38,
   "id": "2e84a3b9",
   "metadata": {},
   "outputs": [
    {
     "data": {
      "image/png": "[encoded data removed]",
      "text/latex": [
       "$\\displaystyle \\frac{5 \\pi}{3}$"
      ],
      "text/plain": [
       "5⋅π\n",
       "───\n",
       " 3 "
      ]
     },
     "execution_count": 38,
     "metadata": {},
     "output_type": "execute_result"
    }
   ],
   "source": [
    "degree_300 = rad(300);degree_300"
   ]
  },
  {
   "cell_type": "code",
   "execution_count": 39,
   "id": "e29e652a",
   "metadata": {},
   "outputs": [
    {
     "data": {
      "text/plain": [
       "[<matplotlib.lines.Line2D at 0x10fd6fb80>]"
      ]
     },
     "execution_count": 39,
     "metadata": {},
     "output_type": "execute_result"
    },
    {
     "data": {
      "image/png": "[encoded data removed]",
      "text/plain": [
       "<Figure size 640x480 with 1 Axes>"
      ]
     },
     "metadata": {},
     "output_type": "display_data"
    }
   ],
   "source": [
    "fig, ax = plt.subplots()\n",
    "ax.grid(True)\n",
    "x = [O.x, D60.x, O.x, D120.x, O.x, D240.x, O.x, D300.x]\n",
    "y = [O.y, D60.y, O.y, D120.y, O.y, D240.y, O.y, D300.y]\n",
    "ax.annotate('(1, $\\sqrt{3}$)', D60)\n",
    "ax.annotate('(-1, $\\sqrt{3}$)', D120)\n",
    "ax.annotate('(-1, -$\\sqrt{3}$)', D240)\n",
    "ax.annotate('(1, -$\\sqrt{3}$)', D300)\n",
    "ax.plot(x, y, linewidth=1.0)"
   ]
  },
  {
   "cell_type": "markdown",
   "id": "d9c15a31",
   "metadata": {},
   "source": [
    "#### Example 3.    45 degree cousins"
   ]
  },
  {
   "cell_type": "code",
   "execution_count": 40,
   "id": "9b5b974d",
   "metadata": {},
   "outputs": [
    {
     "data": {
      "image/png": "[encoded data removed]",
      "text/latex": [
       "$\\displaystyle \\frac{\\pi}{4}$"
      ],
      "text/plain": [
       "π\n",
       "─\n",
       "4"
      ]
     },
     "execution_count": 40,
     "metadata": {},
     "output_type": "execute_result"
    }
   ],
   "source": [
    "degree_45 = rad(45);degree_45"
   ]
  },
  {
   "cell_type": "code",
   "execution_count": 41,
   "id": "91d0f627",
   "metadata": {},
   "outputs": [
    {
     "data": {
      "image/png": "[encoded data removed]",
      "text/latex": [
       "$\\displaystyle \\frac{\\sqrt{2}}{2}$"
      ],
      "text/plain": [
       "√2\n",
       "──\n",
       "2 "
      ]
     },
     "execution_count": 41,
     "metadata": {},
     "output_type": "execute_result"
    }
   ],
   "source": [
    "sin(degree_45)"
   ]
  },
  {
   "cell_type": "code",
   "execution_count": 42,
   "id": "d282ca66",
   "metadata": {},
   "outputs": [
    {
     "data": {
      "image/png": "[encoded data removed]",
      "text/latex": [
       "$\\displaystyle \\frac{\\sqrt{2}}{2}$"
      ],
      "text/plain": [
       "√2\n",
       "──\n",
       "2 "
      ]
     },
     "execution_count": 42,
     "metadata": {},
     "output_type": "execute_result"
    }
   ],
   "source": [
    "cos(degree_45)"
   ]
  },
  {
   "cell_type": "code",
   "execution_count": 43,
   "id": "f84ee161",
   "metadata": {},
   "outputs": [
    {
     "data": {
      "image/png": "[encoded data removed]",
      "text/latex": [
       "$\\displaystyle 1$"
      ],
      "text/plain": [
       "1"
      ]
     },
     "execution_count": 43,
     "metadata": {},
     "output_type": "execute_result"
    }
   ],
   "source": [
    "tan(degree_45)"
   ]
  },
  {
   "cell_type": "code",
   "execution_count": 44,
   "id": "6f14a6fe",
   "metadata": {},
   "outputs": [
    {
     "data": {
      "image/png": "[encoded data removed]",
      "text/latex": [
       "$\\displaystyle \\operatorname{Point2D}\\left(\\sqrt{2}, \\sqrt{2}\\right)$"
      ],
      "text/plain": [
       "Point2D(sqrt(2), sqrt(2))"
      ]
     },
     "execution_count": 44,
     "metadata": {},
     "output_type": "execute_result"
    }
   ],
   "source": [
    "D45 = Point(sqrt(2), sqrt(2));D45"
   ]
  },
  {
   "cell_type": "code",
   "execution_count": 45,
   "id": "58e875e8",
   "metadata": {},
   "outputs": [
    {
     "data": {
      "image/png": "[encoded data removed]",
      "text/latex": [
       "$\\displaystyle 2$"
      ],
      "text/plain": [
       "2"
      ]
     },
     "execution_count": 45,
     "metadata": {},
     "output_type": "execute_result"
    }
   ],
   "source": [
    "O.distance(D45)"
   ]
  },
  {
   "cell_type": "code",
   "execution_count": 46,
   "id": "8eef641c",
   "metadata": {},
   "outputs": [
    {
     "data": {
      "image/png": "[encoded data removed]",
      "text/latex": [
       "$\\displaystyle \\frac{3 \\pi}{4}$"
      ],
      "text/plain": [
       "3⋅π\n",
       "───\n",
       " 4 "
      ]
     },
     "execution_count": 46,
     "metadata": {},
     "output_type": "execute_result"
    }
   ],
   "source": [
    "degree_135 = rad(135);degree_135"
   ]
  },
  {
   "cell_type": "code",
   "execution_count": 47,
   "id": "a78ebb8f",
   "metadata": {},
   "outputs": [
    {
     "data": {
      "image/png": "[encoded data removed]",
      "text/latex": [
       "$\\displaystyle \\operatorname{Point2D}\\left(- \\sqrt{2}, \\sqrt{2}\\right)$"
      ],
      "text/plain": [
       "Point2D(-sqrt(2), sqrt(2))"
      ]
     },
     "execution_count": 47,
     "metadata": {},
     "output_type": "execute_result"
    }
   ],
   "source": [
    "D135 = Point(-sqrt(2), sqrt(2));D135"
   ]
  },
  {
   "cell_type": "code",
   "execution_count": 48,
   "id": "3257f255",
   "metadata": {},
   "outputs": [
    {
     "data": {
      "image/png": "[encoded data removed]",
      "text/latex": [
       "$\\displaystyle \\frac{5 \\pi}{4}$"
      ],
      "text/plain": [
       "5⋅π\n",
       "───\n",
       " 4 "
      ]
     },
     "execution_count": 48,
     "metadata": {},
     "output_type": "execute_result"
    }
   ],
   "source": [
    "degree_225 = rad(225);degree_225"
   ]
  },
  {
   "cell_type": "code",
   "execution_count": 49,
   "id": "239e8801",
   "metadata": {},
   "outputs": [
    {
     "data": {
      "image/png": "[encoded data removed]",
      "text/latex": [
       "$\\displaystyle \\operatorname{Point2D}\\left(- \\sqrt{2}, - \\sqrt{2}\\right)$"
      ],
      "text/plain": [
       "Point2D(-sqrt(2), -sqrt(2))"
      ]
     },
     "execution_count": 49,
     "metadata": {},
     "output_type": "execute_result"
    }
   ],
   "source": [
    "D225 = Point(-sqrt(2), -sqrt(2));D225"
   ]
  },
  {
   "cell_type": "code",
   "execution_count": 50,
   "id": "f72f6287",
   "metadata": {},
   "outputs": [
    {
     "data": {
      "image/png": "[encoded data removed]",
      "text/latex": [
       "$\\displaystyle \\frac{7 \\pi}{4}$"
      ],
      "text/plain": [
       "7⋅π\n",
       "───\n",
       " 4 "
      ]
     },
     "execution_count": 50,
     "metadata": {},
     "output_type": "execute_result"
    }
   ],
   "source": [
    "degree_315 = rad(315);degree_315"
   ]
  },
  {
   "cell_type": "code",
   "execution_count": 51,
   "id": "9757c948",
   "metadata": {},
   "outputs": [
    {
     "data": {
      "image/png": "[encoded data removed]",
      "text/latex": [
       "$\\displaystyle \\operatorname{Point2D}\\left(\\sqrt{2}, - \\sqrt{2}\\right)$"
      ],
      "text/plain": [
       "Point2D(sqrt(2), -sqrt(2))"
      ]
     },
     "execution_count": 51,
     "metadata": {},
     "output_type": "execute_result"
    }
   ],
   "source": [
    "D315 = Point(sqrt(2), -sqrt(2));D315"
   ]
  },
  {
   "cell_type": "code",
   "execution_count": 52,
   "id": "5c27c059",
   "metadata": {},
   "outputs": [
    {
     "data": {
      "image/png": "[encoded data removed]",
      "text/latex": [
       "$\\displaystyle \\operatorname{Point2D}\\left(\\sqrt{3}, 1\\right)$"
      ],
      "text/plain": [
       "Point2D(sqrt(3), 1)"
      ]
     },
     "execution_count": 52,
     "metadata": {},
     "output_type": "execute_result"
    }
   ],
   "source": [
    "D30"
   ]
  },
  {
   "cell_type": "code",
   "execution_count": 53,
   "id": "f3ca32c4",
   "metadata": {},
   "outputs": [
    {
     "data": {
      "image/png": "[encoded data removed]",
      "text/latex": [
       "$\\displaystyle \\operatorname{Point2D}\\left(\\sqrt{2}, \\sqrt{2}\\right)$"
      ],
      "text/plain": [
       "Point2D(sqrt(2), sqrt(2))"
      ]
     },
     "execution_count": 53,
     "metadata": {},
     "output_type": "execute_result"
    }
   ],
   "source": [
    "D45"
   ]
  },
  {
   "cell_type": "code",
   "execution_count": 54,
   "id": "94fcad7d",
   "metadata": {},
   "outputs": [
    {
     "data": {
      "image/png": "[encoded data removed]",
      "text/latex": [
       "$\\displaystyle \\operatorname{Point2D}\\left(1, \\sqrt{3}\\right)$"
      ],
      "text/plain": [
       "Point2D(1, sqrt(3))"
      ]
     },
     "execution_count": 54,
     "metadata": {},
     "output_type": "execute_result"
    }
   ],
   "source": [
    "D60"
   ]
  },
  {
   "cell_type": "code",
   "execution_count": 55,
   "id": "919b607d",
   "metadata": {},
   "outputs": [
    {
     "data": {
      "image/png": "[encoded data removed]",
      "text/latex": [
       "$\\displaystyle \\frac{\\pi}{6}$"
      ],
      "text/plain": [
       "π\n",
       "─\n",
       "6"
      ]
     },
     "execution_count": 55,
     "metadata": {},
     "output_type": "execute_result"
    }
   ],
   "source": [
    "degree_30"
   ]
  },
  {
   "cell_type": "code",
   "execution_count": 56,
   "id": "192ca740",
   "metadata": {},
   "outputs": [
    {
     "data": {
      "image/png": "[encoded data removed]",
      "text/latex": [
       "$\\displaystyle \\frac{\\pi}{3}$"
      ],
      "text/plain": [
       "π\n",
       "─\n",
       "3"
      ]
     },
     "execution_count": 56,
     "metadata": {},
     "output_type": "execute_result"
    }
   ],
   "source": [
    "degree_60"
   ]
  },
  {
   "cell_type": "code",
   "execution_count": 57,
   "id": "00c8dc06",
   "metadata": {},
   "outputs": [
    {
     "data": {
      "image/png": "[encoded data removed]",
      "text/latex": [
       "$\\displaystyle \\frac{\\pi}{4}$"
      ],
      "text/plain": [
       "π\n",
       "─\n",
       "4"
      ]
     },
     "execution_count": 57,
     "metadata": {},
     "output_type": "execute_result"
    }
   ],
   "source": [
    "degree_45"
   ]
  },
  {
   "cell_type": "code",
   "execution_count": 64,
   "id": "28d4043d",
   "metadata": {},
   "outputs": [
    {
     "name": "stdout",
     "output_type": "stream",
     "text": [
      "Help on function trigsimp in module sympy.core.expr:\n",
      "\n",
      "trigsimp(self, **args)\n",
      "    See the trigsimp function in sympy.simplify\n",
      "\n"
     ]
    }
   ],
   "source": [
    "help(sin.trigsimp)"
   ]
  },
  {
   "cell_type": "code",
   "execution_count": 68,
   "id": "996a8839",
   "metadata": {},
   "outputs": [
    {
     "name": "stdout",
     "output_type": "stream",
     "text": [
      "Help on function trigsimp in module sympy.simplify.trigsimp:\n",
      "\n",
      "trigsimp(expr, **opts)\n",
      "    Returns a reduced expression by using known trig identities.\n",
      "    \n",
      "    Parameters\n",
      "    ==========\n",
      "    \n",
      "    method : string, optional\n",
      "        Specifies the method to use. Valid choices are:\n",
      "    \n",
      "        - ``'matching'``, default\n",
      "        - ``'groebner'``\n",
      "        - ``'combined'``\n",
      "        - ``'fu'``\n",
      "        - ``'old'``\n",
      "    \n",
      "        If ``'matching'``, simplify the expression recursively by targeting\n",
      "        common patterns. If ``'groebner'``, apply an experimental groebner\n",
      "        basis algorithm. In this case further options are forwarded to\n",
      "        ``trigsimp_groebner``, please refer to\n",
      "        its docstring. If ``'combined'``, it first runs the groebner basis\n",
      "        algorithm with small default parameters, then runs the ``'matching'``\n",
      "        algorithm. If ``'fu'``, run the collection of trigonometric\n",
      "        transformations described by Fu, et al. (see the\n",
      "        :py:func:`~sympy.simplify.fu.fu` docstring). If ``'old'``, the original\n",
      "        SymPy trig simplication function is run.\n",
      "    opts :\n",
      "        Optional keyword arguments passed to the method. See each method's\n",
      "        function docstring for details.\n",
      "    \n",
      "    Examples\n",
      "    ========\n",
      "    \n",
      "    >>> from sympy import trigsimp, sin, cos, log\n",
      "    >>> from sympy.abc import x\n",
      "    >>> e = 2*sin(x)**2 + 2*cos(x)**2\n",
      "    >>> trigsimp(e)\n",
      "    2\n",
      "    \n",
      "    Simplification occurs wherever trigonometric functions are located.\n",
      "    \n",
      "    >>> trigsimp(log(e))\n",
      "    log(2)\n",
      "    \n",
      "    Using ``method='groebner'`` (or ``method='combined'``) might lead to\n",
      "    greater simplification.\n",
      "    \n",
      "    The old trigsimp routine can be accessed as with method ``method='old'``.\n",
      "    \n",
      "    >>> from sympy import coth, tanh\n",
      "    >>> t = 3*tanh(x)**7 - 2/coth(x)**7\n",
      "    >>> trigsimp(t, method='old') == t\n",
      "    True\n",
      "    >>> trigsimp(t)\n",
      "    tanh(x)**7\n",
      "\n"
     ]
    }
   ],
   "source": [
    "help(trigsimp)"
   ]
  },
  {
   "cell_type": "code",
   "execution_count": null,
   "id": "02eae2bc",
   "metadata": {},
   "outputs": [],
   "source": []
  }
 ],
 "metadata": {
  "kernelspec": {
   "display_name": "Python 3 (ipykernel)",
   "language": "python",
   "name": "python3"
  },
  "language_info": {
   "codemirror_mode": {
    "name": "ipython",
    "version": 3
   },
   "file_extension": ".py",
   "mimetype": "text/x-python",
   "name": "python",
   "nbconvert_exporter": "python",
   "pygments_lexer": "ipython3",
   "version": "3.10.5"
  }
 },
 "nbformat": 4,
 "nbformat_minor": 5
}
