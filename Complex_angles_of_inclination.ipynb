{
 "cells": [
  {
   "cell_type": "markdown",
   "id": "b511a521",
   "metadata": {},
   "source": [
    "## More Complex inclination Questions"
   ]
  },
  {
   "cell_type": "markdown",
   "id": "3d25b07e",
   "metadata": {},
   "source": [
    "### Example 1\n",
    "\n",
    "Determine the value Θ in the diagram below:"
   ]
  },
  {
   "cell_type": "code",
   "execution_count": 1,
   "id": "0464af67",
   "metadata": {},
   "outputs": [],
   "source": [
    "from sympy import *\n",
    "init_printing()"
   ]
  },
  {
   "cell_type": "code",
   "execution_count": 2,
   "id": "9cf56dd4",
   "metadata": {},
   "outputs": [],
   "source": [
    "lineCB = Line(Point(0,6), Point(6,0))\n",
    "lineEF = Line(Point(-2, 2), Point(6,6))"
   ]
  },
  {
   "cell_type": "code",
   "execution_count": 3,
   "id": "59f3fe50",
   "metadata": {},
   "outputs": [
    {
     "data": {
      "image/png": "[encoded data removed]",
      "text/latex": [
       "$\\displaystyle \\operatorname{acos}{\\left(\\frac{\\sqrt{10}}{10} \\right)}$"
      ],
      "text/plain": [
       "    ⎛√10⎞\n",
       "acos⎜───⎟\n",
       "    ⎝ 10⎠"
      ]
     },
     "execution_count": 3,
     "metadata": {},
     "output_type": "execute_result"
    }
   ],
   "source": [
    "lineCB.smallest_angle_between(lineEF)"
   ]
  },
  {
   "cell_type": "code",
   "execution_count": 4,
   "id": "579d07cd",
   "metadata": {},
   "outputs": [
    {
     "data": {
      "image/png": "[encoded data removed]",
      "text/latex": [
       "$\\displaystyle \\frac{180 \\operatorname{acos}{\\left(\\frac{\\sqrt{10}}{10} \\right)}}{\\pi}$"
      ],
      "text/plain": [
       "        ⎛√10⎞\n",
       "180⋅acos⎜───⎟\n",
       "        ⎝ 10⎠\n",
       "─────────────\n",
       "      π      "
      ]
     },
     "execution_count": 4,
     "metadata": {},
     "output_type": "execute_result"
    }
   ],
   "source": [
    "deg(_)"
   ]
  },
  {
   "cell_type": "code",
   "execution_count": 5,
   "id": "1a8590ab",
   "metadata": {},
   "outputs": [
    {
     "data": {
      "image/png": "[encoded data removed]",
      "text/latex": [
       "$\\displaystyle 71.565051177078$"
      ],
      "text/plain": [
       "71.5650511770780"
      ]
     },
     "execution_count": 5,
     "metadata": {},
     "output_type": "execute_result"
    }
   ],
   "source": [
    "N(_)"
   ]
  },
  {
   "cell_type": "markdown",
   "id": "d0a61bb6",
   "metadata": {},
   "source": [
    "Θ = 71.57°"
   ]
  },
  {
   "cell_type": "markdown",
   "id": "da3af558",
   "metadata": {},
   "source": [
    "### Example 2\n",
    "\n",
    "In the diagram below, determine the size of alpha, the angle between BD an AC."
   ]
  },
  {
   "cell_type": "code",
   "execution_count": 6,
   "id": "c2b31ecc",
   "metadata": {},
   "outputs": [],
   "source": [
    "lineBD = Line(Point(-1,4), Point(6, -3))"
   ]
  },
  {
   "cell_type": "code",
   "execution_count": 7,
   "id": "4261ba81",
   "metadata": {},
   "outputs": [
    {
     "data": {
      "image/png": "[encoded data removed]",
      "text/latex": [
       "$\\displaystyle -1$"
      ],
      "text/plain": [
       "-1"
      ]
     },
     "execution_count": 7,
     "metadata": {},
     "output_type": "execute_result"
    }
   ],
   "source": [
    "lineBD.slope"
   ]
  },
  {
   "cell_type": "code",
   "execution_count": 8,
   "id": "06e1266d",
   "metadata": {},
   "outputs": [
    {
     "data": {
      "image/png": "[encoded data removed]",
      "text/latex": [
       "$\\displaystyle -45.0$"
      ],
      "text/plain": [
       "-45.0000000000000"
      ]
     },
     "execution_count": 8,
     "metadata": {},
     "output_type": "execute_result"
    }
   ],
   "source": [
    "N(deg(atan(-1)))"
   ]
  },
  {
   "cell_type": "code",
   "execution_count": 9,
   "id": "e029fd7b",
   "metadata": {},
   "outputs": [
    {
     "data": {
      "image/png": "[encoded data removed]",
      "text/latex": [
       "$\\displaystyle 135$"
      ],
      "text/plain": [
       "135"
      ]
     },
     "execution_count": 9,
     "metadata": {},
     "output_type": "execute_result"
    }
   ],
   "source": [
    "180 - 45"
   ]
  },
  {
   "cell_type": "code",
   "execution_count": 10,
   "id": "1a4b7197",
   "metadata": {},
   "outputs": [],
   "source": [
    "lineAC = Line(Point(-5,-2), Point(2,3))"
   ]
  },
  {
   "cell_type": "code",
   "execution_count": 11,
   "id": "6fbecd94",
   "metadata": {},
   "outputs": [
    {
     "data": {
      "image/png": "[encoded data removed]",
      "text/latex": [
       "$\\displaystyle \\frac{5}{7}$"
      ],
      "text/plain": [
       "5/7"
      ]
     },
     "execution_count": 11,
     "metadata": {},
     "output_type": "execute_result"
    }
   ],
   "source": [
    "lineAC.slope"
   ]
  },
  {
   "cell_type": "code",
   "execution_count": 12,
   "id": "ecba8f7e",
   "metadata": {},
   "outputs": [
    {
     "data": {
      "image/png": "[encoded data removed]",
      "text/latex": [
       "$\\displaystyle 35.5376777919744$"
      ],
      "text/plain": [
       "35.5376777919744"
      ]
     },
     "execution_count": 12,
     "metadata": {},
     "output_type": "execute_result"
    }
   ],
   "source": [
    "N(deg(atan(_)))"
   ]
  },
  {
   "cell_type": "code",
   "execution_count": 13,
   "id": "2c4d903a",
   "metadata": {},
   "outputs": [
    {
     "data": {
      "image/png": "[encoded data removed]",
      "text/latex": [
       "$\\displaystyle 99.462$"
      ],
      "text/plain": [
       "99.46199999999999"
      ]
     },
     "execution_count": 13,
     "metadata": {},
     "output_type": "execute_result"
    }
   ],
   "source": [
    "180 - 35.538 - 45"
   ]
  },
  {
   "cell_type": "markdown",
   "id": "13e55e96",
   "metadata": {},
   "source": [
    "Therefore our angle is 99.46 degrees"
   ]
  },
  {
   "cell_type": "markdown",
   "id": "48a79099",
   "metadata": {},
   "source": [
    "Sum of angles in a triangle = 180"
   ]
  },
  {
   "cell_type": "code",
   "execution_count": null,
   "id": "5079ea0f",
   "metadata": {},
   "outputs": [],
   "source": []
  }
 ],
 "metadata": {
  "kernelspec": {
   "display_name": "Python 3 (ipykernel)",
   "language": "python",
   "name": "python3"
  },
  "language_info": {
   "codemirror_mode": {
    "name": "ipython",
    "version": 3
   },
   "file_extension": ".py",
   "mimetype": "text/x-python",
   "name": "python",
   "nbconvert_exporter": "python",
   "pygments_lexer": "ipython3",
   "version": "3.10.5"
  }
 },
 "nbformat": 4,
 "nbformat_minor": 5
}
