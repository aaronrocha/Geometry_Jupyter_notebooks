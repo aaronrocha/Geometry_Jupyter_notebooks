{
 "cells": [
  {
   "cell_type": "markdown",
   "id": "b511a521",
   "metadata": {},
   "source": [
    "## More Complex inclination Questions"
   ]
  },
  {
   "cell_type": "markdown",
   "id": "3d25b07e",
   "metadata": {},
   "source": [
    "### Example 1\n",
    "\n",
    "Determine the value Θ in the diagram below:"
   ]
  },
  {
   "cell_type": "code",
   "execution_count": 1,
   "id": "0464af67",
   "metadata": {},
   "outputs": [],
   "source": [
    "from sympy import *\n",
    "init_printing()"
   ]
  },
  {
   "cell_type": "code",
   "execution_count": 2,
   "id": "9cf56dd4",
   "metadata": {},
   "outputs": [],
   "source": [
    "lineCB = Line(Point(0,6), Point(6,0))\n",
    "lineEF = Line(Point(-2, 2), Point(6,6))"
   ]
  },
  {
   "cell_type": "code",
   "execution_count": 3,
   "id": "59f3fe50",
   "metadata": {},
   "outputs": [
    {
     "data": {
      "image/png": "[encoded data removed]",
      "text/latex": [
       "$\\displaystyle \\operatorname{acos}{\\left(\\frac{\\sqrt{10}}{10} \\right)}$"
      ],
      "text/plain": [
       "    ⎛√10⎞\n",
       "acos⎜───⎟\n",
       "    ⎝ 10⎠"
      ]
     },
     "execution_count": 3,
     "metadata": {},
     "output_type": "execute_result"
    }
   ],
   "source": [
    "lineCB.smallest_angle_between(lineEF)"
   ]
  },
  {
   "cell_type": "code",
   "execution_count": 4,
   "id": "579d07cd",
   "metadata": {},
   "outputs": [
    {
     "data": {
      "image/png": "[encoded data removed]",
      "text/latex": [
       "$\\displaystyle \\frac{180 \\operatorname{acos}{\\left(\\frac{\\sqrt{10}}{10} \\right)}}{\\pi}$"
      ],
      "text/plain": [
       "        ⎛√10⎞\n",
       "180⋅acos⎜───⎟\n",
       "        ⎝ 10⎠\n",
       "─────────────\n",
       "      π      "
      ]
     },
     "execution_count": 4,
     "metadata": {},
     "output_type": "execute_result"
    }
   ],
   "source": [
    "deg(_)"
   ]
  },
  {
   "cell_type": "code",
   "execution_count": 5,
   "id": "1a8590ab",
   "metadata": {},
   "outputs": [
    {
     "data": {
      "image/png": "[encoded data removed]",
      "text/latex": [
       "$\\displaystyle 71.565051177078$"
      ],
      "text/plain": [
       "71.5650511770780"
      ]
     },
     "execution_count": 5,
     "metadata": {},
     "output_type": "execute_result"
    }
   ],
   "source": [
    "N(_)"
   ]
  },
  {
   "cell_type": "markdown",
   "id": "d0a61bb6",
   "metadata": {},
   "source": [
    "Θ = 71.57°"
   ]
  },
  {
   "cell_type": "markdown",
   "id": "da3af558",
   "metadata": {},
   "source": [
    "### Example 2\n",
    "\n",
    "In the diagram below, determine the size of alpha, the angle between BD an AC."
   ]
  },
  {
   "cell_type": "code",
   "execution_count": 6,
   "id": "c2b31ecc",
   "metadata": {},
   "outputs": [],
   "source": [
    "lineBD = Line(Point(-1,4), Point(6, -3))"
   ]
  },
  {
   "cell_type": "code",
   "execution_count": 7,
   "id": "4261ba81",
   "metadata": {},
   "outputs": [
    {
     "data": {
      "image/png": "[encoded data removed]",
      "text/latex": [
       "$\\displaystyle -1$"
      ],
      "text/plain": [
       "-1"
      ]
     },
     "execution_count": 7,
     "metadata": {},
     "output_type": "execute_result"
    }
   ],
   "source": [
    "lineBD.slope"
   ]
  },
  {
   "cell_type": "code",
   "execution_count": 8,
   "id": "06e1266d",
   "metadata": {},
   "outputs": [
    {
     "data": {
      "image/png": "[encoded data removed]",
      "text/latex": [
       "$\\displaystyle -45.0$"
      ],
      "text/plain": [
       "-45.0000000000000"
      ]
     },
     "execution_count": 8,
     "metadata": {},
     "output_type": "execute_result"
    }
   ],
   "source": [
    "N(deg(atan(-1)))"
   ]
  },
  {
   "cell_type": "code",
   "execution_count": 9,
   "id": "e029fd7b",
   "metadata": {},
   "outputs": [
    {
     "data": {
      "image/png": "[encoded data removed]",
      "text/latex": [
       "$\\displaystyle 135$"
      ],
      "text/plain": [
       "135"
      ]
     },
     "execution_count": 9,
     "metadata": {},
     "output_type": "execute_result"
    }
   ],
   "source": [
    "180 - 45"
   ]
  },
  {
   "cell_type": "code",
   "execution_count": 10,
   "id": "1a4b7197",
   "metadata": {},
   "outputs": [],
   "source": [
    "lineAC = Line(Point(-5,-2), Point(2,3))"
   ]
  },
  {
   "cell_type": "code",
   "execution_count": 11,
   "id": "6fbecd94",
   "metadata": {},
   "outputs": [
    {
     "data": {
      "image/png": "[encoded data removed]",
      "text/latex": [
       "$\\displaystyle \\frac{5}{7}$"
      ],
      "text/plain": [
       "5/7"
      ]
     },
     "execution_count": 11,
     "metadata": {},
     "output_type": "execute_result"
    }
   ],
   "source": [
    "lineAC.slope"
   ]
  },
  {
   "cell_type": "code",
   "execution_count": 12,
   "id": "ecba8f7e",
   "metadata": {},
   "outputs": [
    {
     "data": {
      "image/png": "[encoded data removed]",
      "text/latex": [
       "$\\displaystyle 35.5376777919744$"
      ],
      "text/plain": [
       "35.5376777919744"
      ]
     },
     "execution_count": 12,
     "metadata": {},
     "output_type": "execute_result"
    }
   ],
   "source": [
    "N(deg(atan(_)))"
   ]
  },
  {
   "cell_type": "code",
   "execution_count": 13,
   "id": "2c4d903a",
   "metadata": {},
   "outputs": [
    {
     "data": {
      "image/png": "[encoded data removed]",
      "text/latex": [
       "$\\displaystyle 99.462$"
      ],
      "text/plain": [
       "99.46199999999999"
      ]
     },
     "execution_count": 13,
     "metadata": {},
     "output_type": "execute_result"
    }
   ],
   "source": [
    "180 - 35.538 - 45"
   ]
  },
  {
   "cell_type": "markdown",
   "id": "13e55e96",
   "metadata": {},
   "source": [
    "Therefore our angle is 99.46 degrees"
   ]
  },
  {
   "cell_type": "markdown",
   "id": "48a79099",
   "metadata": {},
   "source": [
    "Sum of angles in a triangle = 180"
   ]
  },
  {
   "cell_type": "markdown",
   "id": "0501d49e",
   "metadata": {},
   "source": [
    "### Example 3\n",
    "\n",
    "Determine the value of Θ"
   ]
  },
  {
   "cell_type": "code",
   "execution_count": 14,
   "id": "31d68854",
   "metadata": {},
   "outputs": [],
   "source": [
    "A, B, C = Point(0, -6), Point(0, 2), Point(5, 0)"
   ]
  },
  {
   "cell_type": "code",
   "execution_count": 15,
   "id": "90886d0c",
   "metadata": {},
   "outputs": [
    {
     "data": {
      "image/png": "[encoded data removed]",
      "text/latex": [
       "$\\displaystyle \\frac{6}{5}$"
      ],
      "text/plain": [
       "6/5"
      ]
     },
     "execution_count": 15,
     "metadata": {},
     "output_type": "execute_result"
    }
   ],
   "source": [
    "m_ac = (A.y - C.y) / (A.x - C.x);m_ac"
   ]
  },
  {
   "cell_type": "code",
   "execution_count": 16,
   "id": "7c36421b",
   "metadata": {},
   "outputs": [
    {
     "data": {
      "image/png": "[encoded data removed]",
      "text/latex": [
       "$\\displaystyle 50.1944289077348$"
      ],
      "text/plain": [
       "50.1944289077348"
      ]
     },
     "execution_count": 16,
     "metadata": {},
     "output_type": "execute_result"
    }
   ],
   "source": [
    "a = N(deg(atan(m_ac)));a"
   ]
  },
  {
   "cell_type": "code",
   "execution_count": 17,
   "id": "f96d7753",
   "metadata": {},
   "outputs": [
    {
     "data": {
      "image/png": "[encoded data removed]",
      "text/latex": [
       "$\\displaystyle - \\frac{2}{5}$"
      ],
      "text/plain": [
       "-2/5"
      ]
     },
     "execution_count": 17,
     "metadata": {},
     "output_type": "execute_result"
    }
   ],
   "source": [
    "m_bc = (B.y - C.y) / (B.x - C.x);m_bc"
   ]
  },
  {
   "cell_type": "code",
   "execution_count": 18,
   "id": "038c1ff7",
   "metadata": {},
   "outputs": [
    {
     "data": {
      "image/png": "[encoded data removed]",
      "text/latex": [
       "$\\displaystyle -21.8014094863518$"
      ],
      "text/plain": [
       "-21.8014094863518"
      ]
     },
     "execution_count": 18,
     "metadata": {},
     "output_type": "execute_result"
    }
   ],
   "source": [
    "b = N(deg(atan(m_bc))); b "
   ]
  },
  {
   "cell_type": "code",
   "execution_count": 19,
   "id": "ddb8c382",
   "metadata": {},
   "outputs": [
    {
     "data": {
      "image/png": "[encoded data removed]",
      "text/latex": [
       "$\\displaystyle 71.9958383940866$"
      ],
      "text/plain": [
       "71.9958383940866"
      ]
     },
     "execution_count": 19,
     "metadata": {},
     "output_type": "execute_result"
    }
   ],
   "source": [
    "a + (-b)"
   ]
  },
  {
   "cell_type": "markdown",
   "id": "d2a59069",
   "metadata": {},
   "source": [
    "Θ = 72° "
   ]
  },
  {
   "cell_type": "markdown",
   "id": "b8df45cf",
   "metadata": {},
   "source": [
    "### Example 4\n",
    "\n",
    "Determine the size of the angle PMN."
   ]
  },
  {
   "cell_type": "code",
   "execution_count": 20,
   "id": "27ea645c",
   "metadata": {},
   "outputs": [],
   "source": [
    "P, M, ptN = Point(-9, -1), Point(2,4), Point(-3, -2)"
   ]
  },
  {
   "cell_type": "code",
   "execution_count": 21,
   "id": "4fc84dfe",
   "metadata": {},
   "outputs": [],
   "source": [
    "import matplotlib.pyplot as plt"
   ]
  },
  {
   "cell_type": "code",
   "execution_count": 22,
   "id": "2203cb8d",
   "metadata": {},
   "outputs": [
    {
     "data": {
      "image/png": "[encoded data removed]",
      "text/latex": [
       "$\\displaystyle \\left[ -9, \\  2, \\  -3, \\  -9\\right]$"
      ],
      "text/plain": [
       "[-9, 2, -3, -9]"
      ]
     },
     "execution_count": 22,
     "metadata": {},
     "output_type": "execute_result"
    }
   ],
   "source": [
    "x = [P.x, M.x, ptN.x, P.x];x"
   ]
  },
  {
   "cell_type": "code",
   "execution_count": 23,
   "id": "d427cddb",
   "metadata": {},
   "outputs": [
    {
     "data": {
      "image/png": "[encoded data removed]",
      "text/latex": [
       "$\\displaystyle \\left[ -1, \\  4, \\  -2, \\  -1\\right]$"
      ],
      "text/plain": [
       "[-1, 4, -2, -1]"
      ]
     },
     "execution_count": 23,
     "metadata": {},
     "output_type": "execute_result"
    }
   ],
   "source": [
    "y = [P.y, M.y, ptN.y, P.y];y"
   ]
  },
  {
   "cell_type": "code",
   "execution_count": 24,
   "id": "7151c9b4",
   "metadata": {},
   "outputs": [
    {
     "data": {
      "text/plain": [
       "[<matplotlib.lines.Line2D at 0x10fe33190>]"
      ]
     },
     "execution_count": 24,
     "metadata": {},
     "output_type": "execute_result"
    },
    {
     "data": {
      "image/png": "[encoded data removed]",
      "text/plain": [
       "<Figure size 640x480 with 1 Axes>"
      ]
     },
     "metadata": {},
     "output_type": "display_data"
    }
   ],
   "source": [
    "fig, ax = plt.subplots()\n",
    "ax.grid(True)\n",
    "ax.annotate(' <---- find angle M', (2,4))\n",
    "ax.plot(x, y, linewidth=1.0)"
   ]
  },
  {
   "cell_type": "code",
   "execution_count": 25,
   "id": "ec61897b",
   "metadata": {},
   "outputs": [
    {
     "data": {
      "image/png": "[encoded data removed]",
      "text/latex": [
       "$\\displaystyle \\frac{6}{5}$"
      ],
      "text/plain": [
       "6/5"
      ]
     },
     "execution_count": 25,
     "metadata": {},
     "output_type": "execute_result"
    }
   ],
   "source": [
    "slope_mn = (M.y - ptN.y) / (M.x - ptN.x);slope_mn"
   ]
  },
  {
   "cell_type": "code",
   "execution_count": 26,
   "id": "92292174",
   "metadata": {},
   "outputs": [
    {
     "data": {
      "image/png": "[encoded data removed]",
      "text/latex": [
       "$\\displaystyle 50.1944289077348$"
      ],
      "text/plain": [
       "50.1944289077348"
      ]
     },
     "execution_count": 26,
     "metadata": {},
     "output_type": "execute_result"
    }
   ],
   "source": [
    "a = N(deg(atan(slope_mn)));a"
   ]
  },
  {
   "cell_type": "code",
   "execution_count": 27,
   "id": "5becf76f",
   "metadata": {},
   "outputs": [
    {
     "data": {
      "image/png": "[encoded data removed]",
      "text/latex": [
       "$\\displaystyle \\frac{5}{11}$"
      ],
      "text/plain": [
       "5/11"
      ]
     },
     "execution_count": 27,
     "metadata": {},
     "output_type": "execute_result"
    }
   ],
   "source": [
    "slope_mp = (M.y - P.y) / (M.x - P.x);slope_mp"
   ]
  },
  {
   "cell_type": "code",
   "execution_count": 28,
   "id": "28633f7f",
   "metadata": {},
   "outputs": [
    {
     "data": {
      "image/png": "[encoded data removed]",
      "text/latex": [
       "$\\displaystyle 24.4439547804165$"
      ],
      "text/plain": [
       "24.4439547804165"
      ]
     },
     "execution_count": 28,
     "metadata": {},
     "output_type": "execute_result"
    }
   ],
   "source": [
    "b = N(deg(atan(slope_mp)));b"
   ]
  },
  {
   "cell_type": "code",
   "execution_count": 29,
   "id": "b4b44404",
   "metadata": {},
   "outputs": [
    {
     "data": {
      "image/png": "[encoded data removed]",
      "text/latex": [
       "$\\displaystyle 25.7504741273183$"
      ],
      "text/plain": [
       "25.7504741273183"
      ]
     },
     "execution_count": 29,
     "metadata": {},
     "output_type": "execute_result"
    }
   ],
   "source": [
    "a - b"
   ]
  },
  {
   "cell_type": "markdown",
   "id": "30a9d52a",
   "metadata": {},
   "source": [
    "angle PMN is 25.75°"
   ]
  },
  {
   "cell_type": "markdown",
   "id": "321b5d04",
   "metadata": {},
   "source": [
    "### Example 5\n",
    "\n",
    "Calculate BAC given A(1,2), B(-3,-2) and C(3, -6)"
   ]
  },
  {
   "cell_type": "code",
   "execution_count": 30,
   "id": "1980ac1c",
   "metadata": {},
   "outputs": [],
   "source": [
    "B, A, C = Point(-3,-2), Point(1,2), Point(3, -6)"
   ]
  },
  {
   "cell_type": "code",
   "execution_count": 31,
   "id": "c1555c53",
   "metadata": {},
   "outputs": [
    {
     "data": {
      "image/png": "[encoded data removed]",
      "text/latex": [
       "$\\displaystyle \\left[ -3, \\  1, \\  3, \\  -3\\right]$"
      ],
      "text/plain": [
       "[-3, 1, 3, -3]"
      ]
     },
     "execution_count": 31,
     "metadata": {},
     "output_type": "execute_result"
    }
   ],
   "source": [
    "x = [B.x, A.x, C.x, B.x];x"
   ]
  },
  {
   "cell_type": "code",
   "execution_count": 32,
   "id": "fa38f42e",
   "metadata": {},
   "outputs": [
    {
     "data": {
      "image/png": "[encoded data removed]",
      "text/latex": [
       "$\\displaystyle \\left[ -2, \\  2, \\  -6, \\  -2\\right]$"
      ],
      "text/plain": [
       "[-2, 2, -6, -2]"
      ]
     },
     "execution_count": 32,
     "metadata": {},
     "output_type": "execute_result"
    }
   ],
   "source": [
    "y = [B.y, A.y, C.y, B.y];y"
   ]
  },
  {
   "cell_type": "code",
   "execution_count": 33,
   "id": "e6d4d8c5",
   "metadata": {},
   "outputs": [
    {
     "data": {
      "text/plain": [
       "[<matplotlib.lines.Line2D at 0x12802b250>]"
      ]
     },
     "execution_count": 33,
     "metadata": {},
     "output_type": "execute_result"
    },
    {
     "data": {
      "image/png": "[encoded data removed]",
      "text/plain": [
       "<Figure size 640x480 with 1 Axes>"
      ]
     },
     "metadata": {},
     "output_type": "display_data"
    }
   ],
   "source": [
    "fig, ax = plt.subplots()\n",
    "ax.grid(True)\n",
    "ax.annotate('<---Find angle A', (1,2))\n",
    "ax.plot(x, y, linewidth=1.0)"
   ]
  },
  {
   "cell_type": "code",
   "execution_count": 34,
   "id": "ebc5533a",
   "metadata": {},
   "outputs": [
    {
     "data": {
      "image/png": "[encoded data removed]",
      "text/latex": [
       "$\\displaystyle -4$"
      ],
      "text/plain": [
       "-4"
      ]
     },
     "execution_count": 34,
     "metadata": {},
     "output_type": "execute_result"
    }
   ],
   "source": [
    "slope_ac = (A.y - C.y) / (A.x - C.x);slope_ac"
   ]
  },
  {
   "cell_type": "code",
   "execution_count": 35,
   "id": "114d09db",
   "metadata": {},
   "outputs": [
    {
     "data": {
      "image/png": "[encoded data removed]",
      "text/latex": [
       "$\\displaystyle 104.036243467926$"
      ],
      "text/plain": [
       "104.036243467926"
      ]
     },
     "execution_count": 35,
     "metadata": {},
     "output_type": "execute_result"
    }
   ],
   "source": [
    "angle_ac = N(deg(atan(slope_ac))) + 180;angle_ac"
   ]
  },
  {
   "cell_type": "code",
   "execution_count": 36,
   "id": "a19e5c09",
   "metadata": {},
   "outputs": [
    {
     "data": {
      "image/png": "[encoded data removed]",
      "text/latex": [
       "$\\displaystyle 1$"
      ],
      "text/plain": [
       "1"
      ]
     },
     "execution_count": 36,
     "metadata": {},
     "output_type": "execute_result"
    }
   ],
   "source": [
    "slope_ab = (A.y - B.y) / (A.x - B.x);slope_ab"
   ]
  },
  {
   "cell_type": "code",
   "execution_count": 37,
   "id": "e30e618d",
   "metadata": {},
   "outputs": [
    {
     "data": {
      "image/png": "[encoded data removed]",
      "text/latex": [
       "$\\displaystyle 45.0$"
      ],
      "text/plain": [
       "45.0000000000000"
      ]
     },
     "execution_count": 37,
     "metadata": {},
     "output_type": "execute_result"
    }
   ],
   "source": [
    "angle_ab = N(deg(atan(slope_ab)));angle_ab"
   ]
  },
  {
   "cell_type": "code",
   "execution_count": 38,
   "id": "7df71558",
   "metadata": {},
   "outputs": [
    {
     "data": {
      "image/png": "[encoded data removed]",
      "text/latex": [
       "$\\displaystyle 75.9637565320735$"
      ],
      "text/plain": [
       "75.9637565320735"
      ]
     },
     "execution_count": 38,
     "metadata": {},
     "output_type": "execute_result"
    }
   ],
   "source": [
    "180 - angle_ac"
   ]
  },
  {
   "cell_type": "code",
   "execution_count": 39,
   "id": "2c6466e1",
   "metadata": {},
   "outputs": [
    {
     "data": {
      "image/png": "[encoded data removed]",
      "text/latex": [
       "$\\displaystyle 59.0362434679265$"
      ],
      "text/plain": [
       "59.0362434679265"
      ]
     },
     "execution_count": 39,
     "metadata": {},
     "output_type": "execute_result"
    }
   ],
   "source": [
    "180 - (180 - angle_ac) - angle_ab"
   ]
  },
  {
   "cell_type": "markdown",
   "id": "726ac674",
   "metadata": {},
   "source": [
    "therefore our angle at BAC is 59.04°"
   ]
  },
  {
   "cell_type": "code",
   "execution_count": 40,
   "id": "4fc1b64a",
   "metadata": {},
   "outputs": [],
   "source": [
    "triangle_BAC = Triangle(B, A, C)"
   ]
  },
  {
   "cell_type": "code",
   "execution_count": 41,
   "id": "396d33d9",
   "metadata": {},
   "outputs": [
    {
     "data": {
      "image/png": "[encoded data removed]",
      "text/latex": [
       "$\\displaystyle \\left\\{ \\operatorname{Point2D}\\left(-3, -2\\right) : \\operatorname{acos}{\\left(\\frac{\\sqrt{26}}{26} \\right)}, \\  \\operatorname{Point2D}\\left(1, 2\\right) : \\operatorname{acos}{\\left(\\frac{3 \\sqrt{34}}{34} \\right)}, \\  \\operatorname{Point2D}\\left(3, -6\\right) : \\operatorname{acos}{\\left(\\frac{11 \\sqrt{221}}{221} \\right)}\\right\\}$"
      ],
      "text/plain": [
       "⎧                     ⎛√26⎞                     ⎛3⋅√34⎞                      ⎛\n",
       "⎨Point2D(-3, -2): acos⎜───⎟, Point2D(1, 2): acos⎜─────⎟, Point2D(3, -6): acos⎜\n",
       "⎩                     ⎝ 26⎠                     ⎝  34 ⎠                      ⎝\n",
       "\n",
       "11⋅√221⎞⎫\n",
       "───────⎟⎬\n",
       "  221  ⎠⎭"
      ]
     },
     "execution_count": 41,
     "metadata": {},
     "output_type": "execute_result"
    }
   ],
   "source": [
    "triangle_BAC.angles"
   ]
  },
  {
   "cell_type": "code",
   "execution_count": 42,
   "id": "e9c86060",
   "metadata": {},
   "outputs": [
    {
     "data": {
      "image/png": "[encoded data removed]",
      "text/latex": [
       "$\\displaystyle 59.0362434679265$"
      ],
      "text/plain": [
       "59.0362434679265"
      ]
     },
     "execution_count": 42,
     "metadata": {},
     "output_type": "execute_result"
    }
   ],
   "source": [
    "N(deg(acos(3*sqrt(34)/34)))"
   ]
  },
  {
   "cell_type": "code",
   "execution_count": 43,
   "id": "99bc0b32",
   "metadata": {},
   "outputs": [
    {
     "data": {
      "image/png": "[encoded data removed]",
      "text/latex": [
       "$\\displaystyle 78.6900675259798$"
      ],
      "text/plain": [
       "78.6900675259798"
      ]
     },
     "execution_count": 43,
     "metadata": {},
     "output_type": "execute_result"
    }
   ],
   "source": [
    "N(deg(acos(sqrt(26)/26)))"
   ]
  },
  {
   "cell_type": "code",
   "execution_count": 44,
   "id": "f9a2e797",
   "metadata": {},
   "outputs": [
    {
     "data": {
      "image/png": "[encoded data removed]",
      "text/latex": [
       "$\\displaystyle 42.2736890060937$"
      ],
      "text/plain": [
       "42.2736890060937"
      ]
     },
     "execution_count": 44,
     "metadata": {},
     "output_type": "execute_result"
    }
   ],
   "source": [
    "N(deg(acos(11 * sqrt(221)/221)))"
   ]
  },
  {
   "cell_type": "code",
   "execution_count": 45,
   "id": "2336a10e",
   "metadata": {},
   "outputs": [
    {
     "ename": "KeyError",
     "evalue": "46",
     "output_type": "error",
     "traceback": [
      "\u001b[0;31m---------------------------------------------------------------------------\u001b[0m",
      "\u001b[0;31mKeyError\u001b[0m                                  Traceback (most recent call last)",
      "Cell \u001b[0;32mIn [45], line 1\u001b[0m\n\u001b[0;32m----> 1\u001b[0m \u001b[43mOut\u001b[49m\u001b[43m[\u001b[49m\u001b[38;5;241;43m46\u001b[39;49m\u001b[43m]\u001b[49m \u001b[38;5;241m+\u001b[39m Out[\u001b[38;5;241m47\u001b[39m] \u001b[38;5;241m+\u001b[39m Out[\u001b[38;5;241m48\u001b[39m]\n",
      "\u001b[0;31mKeyError\u001b[0m: 46"
     ]
    }
   ],
   "source": [
    "Out[46] + Out[47] + Out[48]"
   ]
  },
  {
   "cell_type": "code",
   "execution_count": null,
   "id": "21d8854a",
   "metadata": {},
   "outputs": [],
   "source": []
  }
 ],
 "metadata": {
  "kernelspec": {
   "display_name": "Python 3 (ipykernel)",
   "language": "python",
   "name": "python3"
  },
  "language_info": {
   "codemirror_mode": {
    "name": "ipython",
    "version": 3
   },
   "file_extension": ".py",
   "mimetype": "text/x-python",
   "name": "python",
   "nbconvert_exporter": "python",
   "pygments_lexer": "ipython3",
   "version": "3.10.5"
  }
 },
 "nbformat": 4,
 "nbformat_minor": 5
}
