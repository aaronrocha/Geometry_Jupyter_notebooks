{
 "cells": [
  {
   "cell_type": "code",
   "execution_count": 1,
   "id": "5f11d72a",
   "metadata": {},
   "outputs": [],
   "source": [
    "from sympy import *\n",
    "init_printing()"
   ]
  },
  {
   "cell_type": "markdown",
   "id": "0055d9e2",
   "metadata": {},
   "source": [
    "## Distance and Midpoint\n",
    "\n",
    "Distance d = $\\sqrt{(x_1 - x_2)^2 + (y_1 - y_2)^2 }$\n",
    "\n",
    "Midpoint  M ( $\\frac{x_1 + x_2}{2}$ , $\\frac{y_1 + y_2}{2}$ )"
   ]
  },
  {
   "cell_type": "markdown",
   "id": "af7e3bfb",
   "metadata": {},
   "source": [
    "#### Example 1\n",
    "\n",
    "Determine the distance between C(-1, 2) and D(5, -10)"
   ]
  },
  {
   "cell_type": "code",
   "execution_count": 2,
   "id": "33dc4134",
   "metadata": {},
   "outputs": [],
   "source": [
    "C = Point(-1, 2)\n",
    "D = Point(5, -10)"
   ]
  },
  {
   "cell_type": "code",
   "execution_count": 3,
   "id": "9b025ed2",
   "metadata": {},
   "outputs": [
    {
     "data": {
      "image/png": "[encoded data removed]",
      "text/latex": [
       "$\\displaystyle 6 \\sqrt{5}$"
      ],
      "text/plain": [
       "6⋅√5"
      ]
     },
     "execution_count": 3,
     "metadata": {},
     "output_type": "execute_result"
    }
   ],
   "source": [
    "C.distance(D)"
   ]
  },
  {
   "cell_type": "code",
   "execution_count": 4,
   "id": "8361c7da",
   "metadata": {},
   "outputs": [
    {
     "data": {
      "image/png": "[encoded data removed]",
      "text/latex": [
       "$\\displaystyle 6 \\sqrt{5}$"
      ],
      "text/plain": [
       "6⋅√5"
      ]
     },
     "execution_count": 4,
     "metadata": {},
     "output_type": "execute_result"
    }
   ],
   "source": [
    "D.distance(C)"
   ]
  },
  {
   "cell_type": "code",
   "execution_count": 5,
   "id": "ef0366b7",
   "metadata": {},
   "outputs": [
    {
     "data": {
      "image/png": "[encoded data removed]",
      "text/latex": [
       "$\\displaystyle 6 \\sqrt{5}$"
      ],
      "text/plain": [
       "6⋅√5"
      ]
     },
     "execution_count": 5,
     "metadata": {},
     "output_type": "execute_result"
    }
   ],
   "source": [
    "sqrt( (C.x - D.x)**2 + (C.y - D.y)**2 )"
   ]
  },
  {
   "cell_type": "code",
   "execution_count": 6,
   "id": "8204b9e2",
   "metadata": {},
   "outputs": [
    {
     "data": {
      "image/png": "[encoded data removed]",
      "text/latex": [
       "$\\displaystyle 13.4164078649987$"
      ],
      "text/plain": [
       "13.4164078649987"
      ]
     },
     "execution_count": 6,
     "metadata": {},
     "output_type": "execute_result"
    }
   ],
   "source": [
    "N(Out[5])"
   ]
  },
  {
   "cell_type": "markdown",
   "id": "06d6fb85",
   "metadata": {},
   "source": [
    "#### Example 2\n",
    "\n",
    "Determine the midpoint of C(-1, 2) and D(5, -10)"
   ]
  },
  {
   "cell_type": "code",
   "execution_count": 7,
   "id": "29c5096d",
   "metadata": {},
   "outputs": [
    {
     "data": {
      "image/png": "[encoded data removed]",
      "text/latex": [
       "$\\displaystyle \\operatorname{Point2D}\\left(-1, 2\\right)$"
      ],
      "text/plain": [
       "Point2D(-1, 2)"
      ]
     },
     "execution_count": 7,
     "metadata": {},
     "output_type": "execute_result"
    }
   ],
   "source": [
    "C"
   ]
  },
  {
   "cell_type": "code",
   "execution_count": 8,
   "id": "e420ec4a",
   "metadata": {},
   "outputs": [
    {
     "data": {
      "image/png": "[encoded data removed]",
      "text/latex": [
       "$\\displaystyle \\operatorname{Point2D}\\left(5, -10\\right)$"
      ],
      "text/plain": [
       "Point2D(5, -10)"
      ]
     },
     "execution_count": 8,
     "metadata": {},
     "output_type": "execute_result"
    }
   ],
   "source": [
    "D"
   ]
  },
  {
   "cell_type": "code",
   "execution_count": 9,
   "id": "b560f714",
   "metadata": {},
   "outputs": [
    {
     "data": {
      "image/png": "[encoded data removed]",
      "text/latex": [
       "$\\displaystyle \\operatorname{Point2D}\\left(2, -4\\right)$"
      ],
      "text/plain": [
       "Point2D(2, -4)"
      ]
     },
     "execution_count": 9,
     "metadata": {},
     "output_type": "execute_result"
    }
   ],
   "source": [
    "C.midpoint(D)"
   ]
  },
  {
   "cell_type": "code",
   "execution_count": 10,
   "id": "fb294a90",
   "metadata": {},
   "outputs": [
    {
     "data": {
      "image/png": "[encoded data removed]",
      "text/latex": [
       "$\\displaystyle 2$"
      ],
      "text/plain": [
       "2"
      ]
     },
     "execution_count": 10,
     "metadata": {},
     "output_type": "execute_result"
    }
   ],
   "source": [
    "(D.x + C.x) / 2"
   ]
  },
  {
   "cell_type": "code",
   "execution_count": 11,
   "id": "8fa928d2",
   "metadata": {},
   "outputs": [
    {
     "data": {
      "image/png": "[encoded data removed]",
      "text/latex": [
       "$\\displaystyle -4$"
      ],
      "text/plain": [
       "-4"
      ]
     },
     "execution_count": 11,
     "metadata": {},
     "output_type": "execute_result"
    }
   ],
   "source": [
    "(D.y + C.y) / 2"
   ]
  },
  {
   "cell_type": "markdown",
   "id": "69393738",
   "metadata": {},
   "source": [
    "#### Example 3\n",
    "Calculate x and y if M(2, y) is the midpoint of A(-2, 4) ad B(x, 14)."
   ]
  },
  {
   "cell_type": "code",
   "execution_count": 12,
   "id": "94e93de3",
   "metadata": {},
   "outputs": [],
   "source": [
    "x, y = symbols('x y')"
   ]
  },
  {
   "cell_type": "markdown",
   "id": "73578cef",
   "metadata": {},
   "source": [
    "Let's find the x with a formula from our midpoint definition."
   ]
  },
  {
   "cell_type": "code",
   "execution_count": 13,
   "id": "f689f518",
   "metadata": {},
   "outputs": [
    {
     "data": {
      "image/png": "[encoded data removed]",
      "text/latex": [
       "$\\displaystyle \\frac{x}{2} - 1 = 2$"
      ],
      "text/plain": [
       "x        \n",
       "─ - 1 = 2\n",
       "2        "
      ]
     },
     "execution_count": 13,
     "metadata": {},
     "output_type": "execute_result"
    }
   ],
   "source": [
    "Eq((-2 + x)/2, 2)"
   ]
  },
  {
   "cell_type": "code",
   "execution_count": 14,
   "id": "9eaf6909",
   "metadata": {},
   "outputs": [
    {
     "data": {
      "image/png": "[encoded data removed]",
      "text/latex": [
       "$\\displaystyle \\left[ 6\\right]$"
      ],
      "text/plain": [
       "[6]"
      ]
     },
     "execution_count": 14,
     "metadata": {},
     "output_type": "execute_result"
    }
   ],
   "source": [
    "solve(Out[13], x)"
   ]
  },
  {
   "cell_type": "markdown",
   "id": "609a08e6",
   "metadata": {},
   "source": [
    "so we have point B(6, 14)"
   ]
  },
  {
   "cell_type": "markdown",
   "id": "f5978dbc",
   "metadata": {},
   "source": [
    "Let's find the y again using our midpoint formula"
   ]
  },
  {
   "cell_type": "code",
   "execution_count": 15,
   "id": "5ae1e489",
   "metadata": {},
   "outputs": [
    {
     "data": {
      "image/png": "[encoded data removed]",
      "text/latex": [
       "$\\displaystyle 9.0 = y$"
      ],
      "text/plain": [
       "9.0 = y"
      ]
     },
     "execution_count": 15,
     "metadata": {},
     "output_type": "execute_result"
    }
   ],
   "source": [
    "Eq((4 + 14)/2, y)"
   ]
  },
  {
   "cell_type": "markdown",
   "id": "5226f641",
   "metadata": {},
   "source": [
    "So our midpoint is M(2, 9), let's check..."
   ]
  },
  {
   "cell_type": "code",
   "execution_count": 16,
   "id": "48035cc1",
   "metadata": {},
   "outputs": [],
   "source": [
    "A, B, M = Point(-2, 4), Point(6, 14), Point(2, 9)"
   ]
  },
  {
   "cell_type": "code",
   "execution_count": 17,
   "id": "f98ed1cd",
   "metadata": {},
   "outputs": [
    {
     "data": {
      "image/png": "[encoded data removed]",
      "text/latex": [
       "$\\displaystyle \\operatorname{Point2D}\\left(2, 9\\right)$"
      ],
      "text/plain": [
       "Point2D(2, 9)"
      ]
     },
     "execution_count": 17,
     "metadata": {},
     "output_type": "execute_result"
    }
   ],
   "source": [
    "A.midpoint(B)"
   ]
  },
  {
   "cell_type": "markdown",
   "id": "486d436b",
   "metadata": {},
   "source": [
    "### Example 4\n",
    "\n",
    "Determine the value(s) of k if the distance between P(2, -3) and Q(k, 5) is $\\sqrt{80}$."
   ]
  },
  {
   "cell_type": "code",
   "execution_count": 18,
   "id": "a1033777",
   "metadata": {},
   "outputs": [],
   "source": [
    "k = symbols('k')"
   ]
  },
  {
   "cell_type": "code",
   "execution_count": 19,
   "id": "8e280cce",
   "metadata": {},
   "outputs": [
    {
     "data": {
      "image/png": "[encoded data removed]",
      "text/latex": [
       "$\\displaystyle \\sqrt{\\left(2 - k\\right)^{2} + 64} = 4 \\sqrt{5}$"
      ],
      "text/plain": [
       "   _______________       \n",
       "  ╱        2             \n",
       "╲╱  (2 - k)  + 64  = 4⋅√5"
      ]
     },
     "execution_count": 19,
     "metadata": {},
     "output_type": "execute_result"
    }
   ],
   "source": [
    "Eq(sqrt( (2-k)**2 + (-3 -5)**2), sqrt(80) )"
   ]
  },
  {
   "cell_type": "code",
   "execution_count": 20,
   "id": "5ffc488e",
   "metadata": {},
   "outputs": [
    {
     "data": {
      "image/png": "[encoded data removed]",
      "text/latex": [
       "$\\displaystyle \\left\\{-2, 6\\right\\}$"
      ],
      "text/plain": [
       "{-2, 6}"
      ]
     },
     "execution_count": 20,
     "metadata": {},
     "output_type": "execute_result"
    }
   ],
   "source": [
    "solveset(Out[19], k)"
   ]
  },
  {
   "cell_type": "markdown",
   "id": "68739cca",
   "metadata": {},
   "source": [
    "So we have two answers, (-2, 5) and (6, 5) are equidistant from P(2, -3)."
   ]
  },
  {
   "cell_type": "code",
   "execution_count": 21,
   "id": "93017222",
   "metadata": {},
   "outputs": [],
   "source": [
    "my_equation = sqrt( (2-k)**2 + (-3 -5)**2)"
   ]
  },
  {
   "cell_type": "code",
   "execution_count": 22,
   "id": "c725eb83",
   "metadata": {},
   "outputs": [
    {
     "data": {
      "image/png": "[encoded data removed]",
      "text/latex": [
       "$\\displaystyle \\sqrt{\\left(2 - k\\right)^{2} + 64}$"
      ],
      "text/plain": [
       "   _______________\n",
       "  ╱        2      \n",
       "╲╱  (2 - k)  + 64 "
      ]
     },
     "execution_count": 22,
     "metadata": {},
     "output_type": "execute_result"
    }
   ],
   "source": [
    "my_equation"
   ]
  },
  {
   "cell_type": "code",
   "execution_count": 23,
   "id": "e3598d19",
   "metadata": {},
   "outputs": [
    {
     "data": {
      "image/png": "[encoded data removed]",
      "text/latex": [
       "$\\displaystyle \\left(2 - k\\right)^{2} + 64$"
      ],
      "text/plain": [
       "       2     \n",
       "(2 - k)  + 64"
      ]
     },
     "execution_count": 23,
     "metadata": {},
     "output_type": "execute_result"
    }
   ],
   "source": [
    "my_equation = my_equation**2; my_equation"
   ]
  },
  {
   "cell_type": "code",
   "execution_count": 24,
   "id": "92f92d0f",
   "metadata": {},
   "outputs": [
    {
     "data": {
      "image/png": "[encoded data removed]",
      "text/latex": [
       "$\\displaystyle k^{2} - 4 k + 68$"
      ],
      "text/plain": [
       " 2           \n",
       "k  - 4⋅k + 68"
      ]
     },
     "execution_count": 24,
     "metadata": {},
     "output_type": "execute_result"
    }
   ],
   "source": [
    "my_equation = expand(my_equation); my_equation"
   ]
  },
  {
   "cell_type": "code",
   "execution_count": 25,
   "id": "dee62b9b",
   "metadata": {},
   "outputs": [
    {
     "data": {
      "image/png": "[encoded data removed]",
      "text/latex": [
       "$\\displaystyle k^{2} - 4 k - 12$"
      ],
      "text/plain": [
       " 2           \n",
       "k  - 4⋅k - 12"
      ]
     },
     "execution_count": 25,
     "metadata": {},
     "output_type": "execute_result"
    }
   ],
   "source": [
    "my_equation = my_equation -80;my_equation"
   ]
  },
  {
   "cell_type": "code",
   "execution_count": 26,
   "id": "1da83678",
   "metadata": {},
   "outputs": [
    {
     "data": {
      "image/png": "[encoded data removed]",
      "text/latex": [
       "$\\displaystyle \\left(k - 6\\right) \\left(k + 2\\right)$"
      ],
      "text/plain": [
       "(k - 6)⋅(k + 2)"
      ]
     },
     "execution_count": 26,
     "metadata": {},
     "output_type": "execute_result"
    }
   ],
   "source": [
    "my_equation = factor(my_equation);my_equation"
   ]
  },
  {
   "cell_type": "markdown",
   "id": "9a24fd56",
   "metadata": {},
   "source": [
    "Above I worked on the right hand side of the equation, keeping in mind that the left hand side was there, and then solving the left hand side and simplifying to get the correct answer. "
   ]
  },
  {
   "cell_type": "markdown",
   "id": "a1783688",
   "metadata": {},
   "source": [
    "### Example 5\n",
    "\n",
    "P(-4, 7) Q(4,5) and R(0,-1) and S( , ) are vertices of a parallelogram.\n",
    "* a.) Determine the point of intersection of the two diagonals.\n",
    "* b.) Hence, determine the coordinates of S."
   ]
  },
  {
   "cell_type": "code",
   "execution_count": 41,
   "id": "812eb922",
   "metadata": {},
   "outputs": [],
   "source": [
    "P, Q, R = Point(-4, 7), Point(4,5), Point(0, -1) "
   ]
  },
  {
   "cell_type": "code",
   "execution_count": 42,
   "id": "7217b876",
   "metadata": {},
   "outputs": [
    {
     "data": {
      "image/png": "[encoded data removed]",
      "text/latex": [
       "$\\displaystyle \\operatorname{Point2D}\\left(-4, 7\\right)$"
      ],
      "text/plain": [
       "Point2D(-4, 7)"
      ]
     },
     "execution_count": 42,
     "metadata": {},
     "output_type": "execute_result"
    }
   ],
   "source": [
    "P"
   ]
  },
  {
   "cell_type": "code",
   "execution_count": 43,
   "id": "ecc57973",
   "metadata": {},
   "outputs": [
    {
     "data": {
      "image/png": "[encoded data removed]",
      "text/latex": [
       "$\\displaystyle \\operatorname{Point2D}\\left(4, 5\\right)$"
      ],
      "text/plain": [
       "Point2D(4, 5)"
      ]
     },
     "execution_count": 43,
     "metadata": {},
     "output_type": "execute_result"
    }
   ],
   "source": [
    "Q"
   ]
  },
  {
   "cell_type": "code",
   "execution_count": 44,
   "id": "98f1de30",
   "metadata": {},
   "outputs": [
    {
     "data": {
      "image/png": "[encoded data removed]",
      "text/latex": [
       "$\\displaystyle \\operatorname{Point2D}\\left(0, -1\\right)$"
      ],
      "text/plain": [
       "Point2D(0, -1)"
      ]
     },
     "execution_count": 44,
     "metadata": {},
     "output_type": "execute_result"
    }
   ],
   "source": [
    "R"
   ]
  },
  {
   "cell_type": "code",
   "execution_count": 36,
   "id": "266c0b85",
   "metadata": {},
   "outputs": [],
   "source": [
    "import matplotlib.pyplot as plt"
   ]
  },
  {
   "cell_type": "code",
   "execution_count": 39,
   "id": "e4b66781",
   "metadata": {},
   "outputs": [
    {
     "data": {
      "text/plain": [
       "[<matplotlib.lines.Line2D at 0x126cf5a20>]"
      ]
     },
     "execution_count": 39,
     "metadata": {},
     "output_type": "execute_result"
    },
    {
     "data": {
      "image/png": "[encoded data removed]",
      "text/plain": [
       "<Figure size 640x480 with 1 Axes>"
      ]
     },
     "metadata": {},
     "output_type": "display_data"
    }
   ],
   "source": [
    "x = [-4, 4, 0]\n",
    "y = [7, 5, -1]\n",
    "fig, ax = plt.subplots()\n",
    "ax.plot(x, y, linewidth=1.0)"
   ]
  },
  {
   "cell_type": "markdown",
   "id": "99e10842",
   "metadata": {},
   "source": [
    "#### In a parallelogram the diagonals bisect, that is their midpoint is where they meet.  bisect means to 'cut in half'"
   ]
  },
  {
   "cell_type": "markdown",
   "id": "b205e022",
   "metadata": {},
   "source": [
    "diagonals intercect at the midpoint"
   ]
  },
  {
   "cell_type": "markdown",
   "id": "c8a96c72",
   "metadata": {},
   "source": [
    "so we can find the midpoint because we are given point P and R"
   ]
  },
  {
   "cell_type": "code",
   "execution_count": 49,
   "id": "8d5072c2",
   "metadata": {},
   "outputs": [
    {
     "data": {
      "image/png": "[encoded data removed]",
      "text/latex": [
       "$\\displaystyle \\operatorname{Point2D}\\left(-2, 3\\right)$"
      ],
      "text/plain": [
       "Point2D(-2, 3)"
      ]
     },
     "execution_count": 49,
     "metadata": {},
     "output_type": "execute_result"
    }
   ],
   "source": [
    "M = P.midpoint(R);M"
   ]
  },
  {
   "cell_type": "markdown",
   "id": "c7998b54",
   "metadata": {},
   "source": [
    "So this M is where the diagonals intercect. We should be able to get the coordinates of S.  One of the ways is to use the midpoint formula between Q and S to find the coordinates of S"
   ]
  },
  {
   "cell_type": "code",
   "execution_count": 50,
   "id": "846e686d",
   "metadata": {},
   "outputs": [
    {
     "data": {
      "image/png": "[encoded data removed]",
      "text/latex": [
       "$\\displaystyle \\operatorname{Point2D}\\left(4, 5\\right)$"
      ],
      "text/plain": [
       "Point2D(4, 5)"
      ]
     },
     "execution_count": 50,
     "metadata": {},
     "output_type": "execute_result"
    }
   ],
   "source": [
    "Q"
   ]
  },
  {
   "cell_type": "code",
   "execution_count": 51,
   "id": "01e41147",
   "metadata": {},
   "outputs": [
    {
     "data": {
      "image/png": "[encoded data removed]",
      "text/latex": [
       "$\\displaystyle \\operatorname{Point2D}\\left(-2, 3\\right)$"
      ],
      "text/plain": [
       "Point2D(-2, 3)"
      ]
     },
     "execution_count": 51,
     "metadata": {},
     "output_type": "execute_result"
    }
   ],
   "source": [
    "M"
   ]
  },
  {
   "cell_type": "markdown",
   "id": "9ebd6213",
   "metadata": {},
   "source": [
    "the midpoint between S and Q  then,"
   ]
  },
  {
   "cell_type": "code",
   "execution_count": 53,
   "id": "78e48a17",
   "metadata": {},
   "outputs": [],
   "source": [
    "x, y = symbols('x y')"
   ]
  },
  {
   "cell_type": "code",
   "execution_count": 54,
   "id": "e98e3402",
   "metadata": {},
   "outputs": [
    {
     "data": {
      "image/png": "[encoded data removed]",
      "text/latex": [
       "$\\displaystyle \\frac{x}{2} + 2 = -2$"
      ],
      "text/plain": [
       "x         \n",
       "─ + 2 = -2\n",
       "2         "
      ]
     },
     "execution_count": 54,
     "metadata": {},
     "output_type": "execute_result"
    }
   ],
   "source": [
    "Eq((4 + x)/2, -2)"
   ]
  },
  {
   "cell_type": "code",
   "execution_count": 55,
   "id": "7cd63851",
   "metadata": {},
   "outputs": [
    {
     "data": {
      "image/png": "[encoded data removed]",
      "text/latex": [
       "$\\displaystyle \\left[ -8\\right]$"
      ],
      "text/plain": [
       "[-8]"
      ]
     },
     "execution_count": 55,
     "metadata": {},
     "output_type": "execute_result"
    }
   ],
   "source": [
    "solve(Out[54], x)"
   ]
  },
  {
   "cell_type": "markdown",
   "id": "d2629078",
   "metadata": {},
   "source": [
    "now we have the x value for S as -8"
   ]
  },
  {
   "cell_type": "code",
   "execution_count": 56,
   "id": "119a02fd",
   "metadata": {},
   "outputs": [
    {
     "data": {
      "image/png": "[encoded data removed]",
      "text/latex": [
       "$\\displaystyle \\frac{y}{2} + \\frac{5}{2} = 3$"
      ],
      "text/plain": [
       "y   5    \n",
       "─ + ─ = 3\n",
       "2   2    "
      ]
     },
     "execution_count": 56,
     "metadata": {},
     "output_type": "execute_result"
    }
   ],
   "source": [
    "Eq((5 + y)/2, 3)"
   ]
  },
  {
   "cell_type": "code",
   "execution_count": 57,
   "id": "d74fd6ee",
   "metadata": {},
   "outputs": [
    {
     "data": {
      "image/png": "[encoded data removed]",
      "text/latex": [
       "$\\displaystyle \\left[ 1\\right]$"
      ],
      "text/plain": [
       "[1]"
      ]
     },
     "execution_count": 57,
     "metadata": {},
     "output_type": "execute_result"
    }
   ],
   "source": [
    "solve(Out[56], y)"
   ]
  },
  {
   "cell_type": "code",
   "execution_count": 58,
   "id": "38900c3f",
   "metadata": {},
   "outputs": [],
   "source": [
    "S = Point(-8, 1)"
   ]
  },
  {
   "cell_type": "code",
   "execution_count": 79,
   "id": "a81a8868",
   "metadata": {},
   "outputs": [
    {
     "data": {
      "text/plain": [
       "[<matplotlib.lines.Line2D at 0x1269c5c90>]"
      ]
     },
     "execution_count": 79,
     "metadata": {},
     "output_type": "execute_result"
    },
    {
     "data": {
      "image/png": "[encoded data removed]",
      "text/plain": [
       "<Figure size 640x480 with 1 Axes>"
      ]
     },
     "metadata": {},
     "output_type": "display_data"
    }
   ],
   "source": [
    "x = [P.x, Q.x, R.x, S.x, P.x, R.x, S.x, Q.x]\n",
    "y = [P.y, Q.y, R.y, S.y, P.y, R.y, S.y, Q.y]\n",
    "fig, ax = plt.subplots()\n",
    "ax.plot(x, y, 'bo-', linewidth=1.0)"
   ]
  },
  {
   "cell_type": "markdown",
   "id": "4b462321",
   "metadata": {},
   "source": [
    "Also, you can get the point S by visually looking at the Points and drawing a dashed line to work out the answer.  \n",
    "\n",
    "Looking at point R to get to point Q in the x-axis thus finding the traveling distance on x from R to Q. "
   ]
  },
  {
   "cell_type": "code",
   "execution_count": 70,
   "id": "c2efd213",
   "metadata": {},
   "outputs": [
    {
     "data": {
      "image/png": "[encoded data removed]",
      "text/latex": [
       "$\\displaystyle 4$"
      ],
      "text/plain": [
       "4"
      ]
     },
     "execution_count": 70,
     "metadata": {},
     "output_type": "execute_result"
    }
   ],
   "source": [
    "Q.x - R.x"
   ]
  },
  {
   "cell_type": "code",
   "execution_count": 71,
   "id": "3b2dc410",
   "metadata": {},
   "outputs": [
    {
     "data": {
      "image/png": "[encoded data removed]",
      "text/latex": [
       "$\\displaystyle 6$"
      ],
      "text/plain": [
       "6"
      ]
     },
     "execution_count": 71,
     "metadata": {},
     "output_type": "execute_result"
    }
   ],
   "source": [
    "Q.y - R.y"
   ]
  },
  {
   "cell_type": "markdown",
   "id": "91749f3e",
   "metadata": {},
   "source": [
    "Now move to the P point and move backwards in direction towards point S"
   ]
  },
  {
   "cell_type": "code",
   "execution_count": 72,
   "id": "8fe2c7f0",
   "metadata": {},
   "outputs": [
    {
     "data": {
      "image/png": "[encoded data removed]",
      "text/latex": [
       "$\\displaystyle -8$"
      ],
      "text/plain": [
       "-8"
      ]
     },
     "execution_count": 72,
     "metadata": {},
     "output_type": "execute_result"
    }
   ],
   "source": [
    "P.x - Out[70]"
   ]
  },
  {
   "cell_type": "code",
   "execution_count": 73,
   "id": "8c64ff7e",
   "metadata": {},
   "outputs": [
    {
     "data": {
      "image/png": "[encoded data removed]",
      "text/latex": [
       "$\\displaystyle 1$"
      ],
      "text/plain": [
       "1"
      ]
     },
     "execution_count": 73,
     "metadata": {},
     "output_type": "execute_result"
    }
   ],
   "source": [
    "P.y - Out[71]"
   ]
  },
  {
   "cell_type": "markdown",
   "id": "958814d0",
   "metadata": {},
   "source": [
    "and as you can see we have point S(-8, 1) "
   ]
  },
  {
   "cell_type": "code",
   "execution_count": 74,
   "id": "ccd90861",
   "metadata": {},
   "outputs": [
    {
     "data": {
      "image/png": "[encoded data removed]",
      "text/latex": [
       "$\\displaystyle \\operatorname{Point2D}\\left(-8, 1\\right)$"
      ],
      "text/plain": [
       "Point2D(-8, 1)"
      ]
     },
     "execution_count": 74,
     "metadata": {},
     "output_type": "execute_result"
    }
   ],
   "source": [
    "S"
   ]
  },
  {
   "cell_type": "markdown",
   "id": "99ed945b",
   "metadata": {},
   "source": [
    "#### Example 6\n",
    "\n",
    "A(a, -2) and B(0, 2) are equidistant from P(-1, -1).\n",
    "Determine the value(s) of a."
   ]
  },
  {
   "cell_type": "code",
   "execution_count": 83,
   "id": "ead165dd",
   "metadata": {},
   "outputs": [
    {
     "data": {
      "text/plain": [
       "[<matplotlib.lines.Line2D at 0x1268b3f40>]"
      ]
     },
     "execution_count": 83,
     "metadata": {},
     "output_type": "execute_result"
    },
    {
     "data": {
      "image/png": "[encoded data removed]",
      "text/plain": [
       "<Figure size 640x480 with 1 Axes>"
      ]
     },
     "metadata": {},
     "output_type": "display_data"
    }
   ],
   "source": [
    "B, P = Point(0, 2), Point(-1, -1)\n",
    "fig, ax = plt.subplots()\n",
    "x = [B.x, P.x]\n",
    "y = [B.y, P.y]\n",
    "ax.plot(x, y, 'o--')"
   ]
  },
  {
   "cell_type": "code",
   "execution_count": 82,
   "id": "67777813",
   "metadata": {},
   "outputs": [
    {
     "data": {
      "image/png": "[encoded data removed]",
      "text/latex": [
       "$\\displaystyle \\sqrt{10}$"
      ],
      "text/plain": [
       "√10"
      ]
     },
     "execution_count": 82,
     "metadata": {},
     "output_type": "execute_result"
    }
   ],
   "source": [
    "dist_B_P = B.distance(P);dist_B_P"
   ]
  },
  {
   "cell_type": "code",
   "execution_count": 85,
   "id": "7451f27e",
   "metadata": {},
   "outputs": [
    {
     "data": {
      "image/png": "[encoded data removed]",
      "text/latex": [
       "$\\displaystyle \\sqrt{\\left(- a - 1\\right)^{2} + 1} = \\sqrt{10}$"
      ],
      "text/plain": [
       "   _______________      \n",
       "  ╱         2           \n",
       "╲╱  (-a - 1)  + 1  = √10"
      ]
     },
     "execution_count": 85,
     "metadata": {},
     "output_type": "execute_result"
    }
   ],
   "source": [
    "a = symbols('a')\n",
    "Eq(sqrt((P.x - a)**2 + (P.y - -2)**2), Out[82])"
   ]
  },
  {
   "cell_type": "code",
   "execution_count": 86,
   "id": "1b3fc5e4",
   "metadata": {},
   "outputs": [
    {
     "data": {
      "image/png": "[encoded data removed]",
      "text/latex": [
       "$\\displaystyle \\left\\{-4, 2\\right\\}$"
      ],
      "text/plain": [
       "{-4, 2}"
      ]
     },
     "execution_count": 86,
     "metadata": {},
     "output_type": "execute_result"
    }
   ],
   "source": [
    "solveset(Out[85], a)"
   ]
  },
  {
   "cell_type": "markdown",
   "id": "a1dbeea8",
   "metadata": {},
   "source": [
    "Remember we have to solutions, two points so two x values for the answer."
   ]
  },
  {
   "cell_type": "code",
   "execution_count": 87,
   "id": "eacea92b",
   "metadata": {},
   "outputs": [],
   "source": [
    "A1, A2 = Point(-4, -2), Point(2, -2)"
   ]
  },
  {
   "cell_type": "code",
   "execution_count": 88,
   "id": "d3b640d7",
   "metadata": {},
   "outputs": [
    {
     "data": {
      "text/plain": [
       "[<matplotlib.lines.Line2D at 0x12673b250>]"
      ]
     },
     "execution_count": 88,
     "metadata": {},
     "output_type": "execute_result"
    },
    {
     "data": {
      "image/png": "[encoded data removed]",
      "text/plain": [
       "<Figure size 640x480 with 1 Axes>"
      ]
     },
     "metadata": {},
     "output_type": "display_data"
    }
   ],
   "source": [
    "fig, ax = plt.subplots()\n",
    "x = [B.x, P.x, A1.x, P.x, A2.x, P.x]\n",
    "y = [B.y, P.y, A1.y, P.y, A2.y, P.y]\n",
    "ax.plot(x, y, 'o--')"
   ]
  },
  {
   "cell_type": "markdown",
   "id": "6c15cc05",
   "metadata": {},
   "source": [
    "We can double check the distances from A1 and A2 to P are correct."
   ]
  },
  {
   "cell_type": "code",
   "execution_count": 89,
   "id": "7fc37309",
   "metadata": {},
   "outputs": [
    {
     "data": {
      "image/png": "[encoded data removed]",
      "text/latex": [
       "$\\displaystyle \\sqrt{10}$"
      ],
      "text/plain": [
       "√10"
      ]
     },
     "execution_count": 89,
     "metadata": {},
     "output_type": "execute_result"
    }
   ],
   "source": [
    "A1.distance(P)"
   ]
  },
  {
   "cell_type": "code",
   "execution_count": 90,
   "id": "c1d56c6e",
   "metadata": {},
   "outputs": [
    {
     "data": {
      "image/png": "[encoded data removed]",
      "text/latex": [
       "$\\displaystyle \\sqrt{10}$"
      ],
      "text/plain": [
       "√10"
      ]
     },
     "execution_count": 90,
     "metadata": {},
     "output_type": "execute_result"
    }
   ],
   "source": [
    "A2.distance(P)"
   ]
  },
  {
   "cell_type": "code",
   "execution_count": null,
   "id": "0b119d6a",
   "metadata": {},
   "outputs": [],
   "source": []
  }
 ],
 "metadata": {
  "kernelspec": {
   "display_name": "Python 3 (ipykernel)",
   "language": "python",
   "name": "python3"
  },
  "language_info": {
   "codemirror_mode": {
    "name": "ipython",
    "version": 3
   },
   "file_extension": ".py",
   "mimetype": "text/x-python",
   "name": "python",
   "nbconvert_exporter": "python",
   "pygments_lexer": "ipython3",
   "version": "3.10.5"
  }
 },
 "nbformat": 4,
 "nbformat_minor": 5
}
