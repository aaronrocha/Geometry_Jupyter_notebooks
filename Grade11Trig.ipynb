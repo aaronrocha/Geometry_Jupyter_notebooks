{
 "cells": [
  {
   "cell_type": "code",
   "execution_count": 1,
   "id": "67f35eee",
   "metadata": {},
   "outputs": [],
   "source": [
    "from sympy import *\n",
    "init_printing()"
   ]
  },
  {
   "cell_type": "markdown",
   "id": "d26381d9",
   "metadata": {},
   "source": [
    "### Topic 1: The Basics from Grade 10\n",
    "\n",
    "#### Definition 1 - Right Angle Triangle Trig\n",
    "\n",
    "sin 𝛳 = opposite / hypotenuse\n",
    "\n",
    "cos 𝛳 = adjacent / hypotenuse\n",
    "\n",
    "tan 𝛳 = opposite / adjacent"
   ]
  },
  {
   "cell_type": "markdown",
   "id": "3a312626",
   "metadata": {},
   "source": [
    "#### Definition 2 - Cartesian Plane Trig\n",
    "\n",
    "sin 𝛳 = y / r\n",
    "\n",
    "cos 𝛳 = x / r\n",
    "\n",
    "tan 𝛳 = y / x\n",
    "\n",
    "counterclockwise from the x-axis"
   ]
  },
  {
   "cell_type": "code",
   "execution_count": 3,
   "id": "e472daee",
   "metadata": {},
   "outputs": [
    {
     "data": {
      "image/png": "[encoded data removed]",
      "text/latex": [
       "$\\displaystyle \\frac{\\pi}{6}$"
      ],
      "text/plain": [
       "π\n",
       "─\n",
       "6"
      ]
     },
     "execution_count": 3,
     "metadata": {},
     "output_type": "execute_result"
    }
   ],
   "source": [
    "rad(30)"
   ]
  },
  {
   "cell_type": "code",
   "execution_count": 19,
   "id": "13bf60dd",
   "metadata": {},
   "outputs": [
    {
     "data": {
      "image/png": "[encoded data removed]",
      "text/latex": [
       "$\\displaystyle \\left[ \\frac{1}{2}, \\  \\frac{\\sqrt{3}}{2}, \\  \\frac{\\sqrt{3}}{3}\\right]$"
      ],
      "text/plain": [
       "⎡     √3  √3⎤\n",
       "⎢1/2, ──, ──⎥\n",
       "⎣     2   3 ⎦"
      ]
     },
     "execution_count": 19,
     "metadata": {},
     "output_type": "execute_result"
    }
   ],
   "source": [
    "deg_30 = [sin(pi/6), cos(pi/6), tan(pi/6)];deg_30"
   ]
  },
  {
   "cell_type": "code",
   "execution_count": 4,
   "id": "4ec54ce5",
   "metadata": {},
   "outputs": [
    {
     "data": {
      "image/png": "[encoded data removed]",
      "text/latex": [
       "$\\displaystyle \\frac{\\pi}{3}$"
      ],
      "text/plain": [
       "π\n",
       "─\n",
       "3"
      ]
     },
     "execution_count": 4,
     "metadata": {},
     "output_type": "execute_result"
    }
   ],
   "source": [
    "rad(60)"
   ]
  },
  {
   "cell_type": "code",
   "execution_count": 21,
   "id": "3b87f3ab",
   "metadata": {},
   "outputs": [
    {
     "data": {
      "image/png": "[encoded data removed]",
      "text/latex": [
       "$\\displaystyle \\left[ \\frac{\\sqrt{3}}{2}, \\  \\frac{1}{2}, \\  \\sqrt{3}\\right]$"
      ],
      "text/plain": [
       "⎡√3         ⎤\n",
       "⎢──, 1/2, √3⎥\n",
       "⎣2          ⎦"
      ]
     },
     "execution_count": 21,
     "metadata": {},
     "output_type": "execute_result"
    }
   ],
   "source": [
    "deg_60 = [sin(pi/3), cos(pi/3), tan(pi/3)];deg_60"
   ]
  },
  {
   "cell_type": "code",
   "execution_count": 5,
   "id": "22c74fc7",
   "metadata": {},
   "outputs": [
    {
     "data": {
      "image/png": "[encoded data removed]",
      "text/latex": [
       "$\\displaystyle \\frac{\\pi}{4}$"
      ],
      "text/plain": [
       "π\n",
       "─\n",
       "4"
      ]
     },
     "execution_count": 5,
     "metadata": {},
     "output_type": "execute_result"
    }
   ],
   "source": [
    "rad(45)"
   ]
  },
  {
   "cell_type": "code",
   "execution_count": 22,
   "id": "efbd7d5e",
   "metadata": {},
   "outputs": [
    {
     "data": {
      "image/png": "[encoded data removed]",
      "text/latex": [
       "$\\displaystyle \\left[ \\frac{\\sqrt{2}}{2}, \\  \\frac{\\sqrt{2}}{2}, \\  1\\right]$"
      ],
      "text/plain": [
       "⎡√2  √2   ⎤\n",
       "⎢──, ──, 1⎥\n",
       "⎣2   2    ⎦"
      ]
     },
     "execution_count": 22,
     "metadata": {},
     "output_type": "execute_result"
    }
   ],
   "source": [
    "deg_45 = [sin(pi/4), cos(pi/4), tan(pi/4)];deg_45"
   ]
  },
  {
   "cell_type": "code",
   "execution_count": 6,
   "id": "db4321a6",
   "metadata": {},
   "outputs": [
    {
     "data": {
      "image/png": "[encoded data removed]",
      "text/latex": [
       "$\\displaystyle \\frac{\\pi}{2}$"
      ],
      "text/plain": [
       "π\n",
       "─\n",
       "2"
      ]
     },
     "execution_count": 6,
     "metadata": {},
     "output_type": "execute_result"
    }
   ],
   "source": [
    "rad(90)"
   ]
  },
  {
   "cell_type": "code",
   "execution_count": 23,
   "id": "c0e47ba5",
   "metadata": {},
   "outputs": [
    {
     "data": {
      "image/png": "[encoded data removed]",
      "text/latex": [
       "$\\displaystyle \\left[ 1, \\  0, \\  \\tilde{\\infty}\\right]$"
      ],
      "text/plain": [
       "[1, 0, zoo]"
      ]
     },
     "execution_count": 23,
     "metadata": {},
     "output_type": "execute_result"
    }
   ],
   "source": [
    "deg_90 = [sin(pi/2), cos(pi/2), tan(pi/2)];deg_90"
   ]
  },
  {
   "cell_type": "code",
   "execution_count": 7,
   "id": "227bef74",
   "metadata": {},
   "outputs": [
    {
     "data": {
      "image/png": "[encoded data removed]",
      "text/latex": [
       "$\\displaystyle \\pi$"
      ],
      "text/plain": [
       "π"
      ]
     },
     "execution_count": 7,
     "metadata": {},
     "output_type": "execute_result"
    }
   ],
   "source": [
    "rad(180)"
   ]
  },
  {
   "cell_type": "code",
   "execution_count": 8,
   "id": "b8b434a0",
   "metadata": {},
   "outputs": [
    {
     "data": {
      "image/png": "[encoded data removed]",
      "text/latex": [
       "$\\displaystyle -1$"
      ],
      "text/plain": [
       "-1"
      ]
     },
     "execution_count": 8,
     "metadata": {},
     "output_type": "execute_result"
    }
   ],
   "source": [
    "cos(pi)"
   ]
  },
  {
   "cell_type": "code",
   "execution_count": 9,
   "id": "1dbac864",
   "metadata": {},
   "outputs": [
    {
     "data": {
      "image/png": "[encoded data removed]",
      "text/latex": [
       "$\\displaystyle 0$"
      ],
      "text/plain": [
       "0"
      ]
     },
     "execution_count": 9,
     "metadata": {},
     "output_type": "execute_result"
    }
   ],
   "source": [
    "rad(0)"
   ]
  },
  {
   "cell_type": "code",
   "execution_count": 10,
   "id": "f3d017b8",
   "metadata": {},
   "outputs": [
    {
     "data": {
      "image/png": "[encoded data removed]",
      "text/latex": [
       "$\\displaystyle 1$"
      ],
      "text/plain": [
       "1"
      ]
     },
     "execution_count": 10,
     "metadata": {},
     "output_type": "execute_result"
    }
   ],
   "source": [
    "cos(0)"
   ]
  },
  {
   "cell_type": "code",
   "execution_count": 15,
   "id": "912060f2",
   "metadata": {},
   "outputs": [
    {
     "data": {
      "image/png": "[encoded data removed]",
      "text/latex": [
       "$\\displaystyle 1$"
      ],
      "text/plain": [
       "1"
      ]
     },
     "execution_count": 15,
     "metadata": {},
     "output_type": "execute_result"
    }
   ],
   "source": [
    "sin(pi/6) * tan(pi/4) * sin(pi/2) / cos((pi/3))"
   ]
  },
  {
   "cell_type": "code",
   "execution_count": 18,
   "id": "7ca4b388",
   "metadata": {},
   "outputs": [
    {
     "data": {
      "image/png": "[encoded data removed]",
      "text/latex": [
       "$\\displaystyle 1$"
      ],
      "text/plain": [
       "1"
      ]
     },
     "execution_count": 18,
     "metadata": {},
     "output_type": "execute_result"
    }
   ],
   "source": [
    "pow(sin(pi/3),2) + pow(sin(pi/6), 2)"
   ]
  },
  {
   "cell_type": "code",
   "execution_count": null,
   "id": "0deea0ef",
   "metadata": {},
   "outputs": [],
   "source": []
  }
 ],
 "metadata": {
  "kernelspec": {
   "display_name": "Python 3 (ipykernel)",
   "language": "python",
   "name": "python3"
  },
  "language_info": {
   "codemirror_mode": {
    "name": "ipython",
    "version": 3
   },
   "file_extension": ".py",
   "mimetype": "text/x-python",
   "name": "python",
   "nbconvert_exporter": "python",
   "pygments_lexer": "ipython3",
   "version": "3.10.5"
  }
 },
 "nbformat": 4,
 "nbformat_minor": 5
}
