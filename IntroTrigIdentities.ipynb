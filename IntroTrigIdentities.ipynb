{
 "cells": [
  {
   "cell_type": "code",
   "execution_count": 1,
   "id": "628651d9",
   "metadata": {},
   "outputs": [],
   "source": [
    "from sympy import *\n",
    "init_printing()"
   ]
  },
  {
   "cell_type": "markdown",
   "id": "0b706f46",
   "metadata": {},
   "source": [
    "## Topic 4.1 Intro to Trig Identities"
   ]
  },
  {
   "cell_type": "markdown",
   "id": "52607ab8",
   "metadata": {},
   "source": [
    "#### We have two identities in Grade 11:\n",
    "\n",
    "- $sin^2𝛳 + cos^2𝛳 = 1$\n",
    "\n",
    "**Proof:**"
   ]
  },
  {
   "cell_type": "markdown",
   "id": "b6caecae",
   "metadata": {},
   "source": [
    "= ($\\frac{y}{r})^2$ + ($\\frac{x}{r})^2$\n",
    "\n",
    "= $\\frac{y^2}{r^2}$ + $\\frac{x^2}{r^2}$\n",
    "\n",
    "= $\\frac{x^2 + y^2}{r^2}$\n",
    "\n",
    "by Pythagoras $x^2 + y^2 = r^2$\n",
    "\n",
    "= $\\frac{r^2}{r^2}$\n",
    "\n",
    "= 1"
   ]
  },
  {
   "cell_type": "markdown",
   "id": "7db0373f",
   "metadata": {},
   "source": [
    "- tan 𝛳 = $\\frac{sin𝛳}{cos𝛳}$\n",
    "\n",
    "**Proof:**"
   ]
  },
  {
   "cell_type": "markdown",
   "id": "7be473ef",
   "metadata": {},
   "source": [
    "= sin𝛳 ÷ cos𝛳\n",
    "\n",
    "= $\\frac{y}{r}$ ÷ $\\frac{x}{r}$\n",
    "\n",
    "= $\\frac{y}{r}$ X $\\frac{r}{x}$\n",
    "\n",
    "= $\\frac{y}{x}$\n",
    "\n",
    "= tan𝛳"
   ]
  },
  {
   "cell_type": "markdown",
   "id": "9b5bdf08",
   "metadata": {},
   "source": [
    "#### Examples\n",
    "\n",
    "**Prove the following identities:**"
   ]
  },
  {
   "cell_type": "markdown",
   "id": "05342a2c",
   "metadata": {},
   "source": [
    "**a)** sin𝛳 · cos𝛳 · tan𝛳 = $sin^2𝛳$"
   ]
  },
  {
   "cell_type": "markdown",
   "id": "7db1c561",
   "metadata": {},
   "source": [
    "sin𝛳 · cos𝛳 · $\\frac{sin𝛳}{cos𝛳}$"
   ]
  },
  {
   "cell_type": "markdown",
   "id": "86afb4c6",
   "metadata": {},
   "source": [
    "$sin^2𝛳$"
   ]
  },
  {
   "cell_type": "markdown",
   "id": "431b867b",
   "metadata": {},
   "source": [
    "∴ LHS = RHS  (left hand side = right hand side)"
   ]
  },
  {
   "cell_type": "markdown",
   "id": "d90381f6",
   "metadata": {},
   "source": [
    "**b)** $cos^3x + cos x · sin^2x = cos x$"
   ]
  },
  {
   "cell_type": "markdown",
   "id": "c9865c3e",
   "metadata": {},
   "source": [
    " $cos^3x + cos x · sin^2x$\n",
    " \n",
    " **factorize**\n",
    " \n",
    " $cos x (cos^2x + sin^2x)$\n",
    " \n",
    " cos x · 1\n",
    " \n",
    " cos x ∴ LHS = RHS"
   ]
  },
  {
   "cell_type": "markdown",
   "id": "e2438610",
   "metadata": {},
   "source": [
    "**c)** $(1 - sin^2𝛳)(1 + tan^2𝛳)$ = 1"
   ]
  },
  {
   "cell_type": "markdown",
   "id": "f20e2664",
   "metadata": {},
   "source": [
    "$(1 - sin^2𝛳)(1 + tan^2𝛳)$\n",
    "\n",
    "= $cos^2𝛳 (1 + tan^2𝛳)$\n",
    "\n",
    "= $cos^2𝛳 (1 + \\frac{sin^2𝛳}{cos^2𝛳})$\n",
    "\n",
    "= $cos^2𝛳 + \\frac{cos^2𝛳 · sin^2𝛳}{cos^2𝛳}$\n",
    "\n",
    "= $cos^2𝛳 + sin^2𝛳$\n",
    "\n",
    "= 1\n",
    "\n",
    "∴ LHS = RHS"
   ]
  },
  {
   "cell_type": "code",
   "execution_count": null,
   "id": "4fb434f4",
   "metadata": {},
   "outputs": [],
   "source": []
  }
 ],
 "metadata": {
  "kernelspec": {
   "display_name": "Python 3 (ipykernel)",
   "language": "python",
   "name": "python3"
  },
  "language_info": {
   "codemirror_mode": {
    "name": "ipython",
    "version": 3
   },
   "file_extension": ".py",
   "mimetype": "text/x-python",
   "name": "python",
   "nbconvert_exporter": "python",
   "pygments_lexer": "ipython3",
   "version": "3.10.5"
  }
 },
 "nbformat": 4,
 "nbformat_minor": 5
}
