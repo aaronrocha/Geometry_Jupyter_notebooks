{
 "cells": [
  {
   "cell_type": "code",
   "execution_count": 1,
   "id": "78074960",
   "metadata": {},
   "outputs": [],
   "source": [
    "import numpy as np\n",
    "import numpy_financial as npf"
   ]
  },
  {
   "cell_type": "markdown",
   "id": "09c51176",
   "metadata": {},
   "source": [
    "### What is the amortization schedule for a 2 year loan of $2500 at 8.24\\% interest per year compounded monthly?"
   ]
  },
  {
   "cell_type": "code",
   "execution_count": 2,
   "id": "b20a8b4f",
   "metadata": {},
   "outputs": [],
   "source": [
    "principal = 2500"
   ]
  },
  {
   "cell_type": "code",
   "execution_count": 3,
   "id": "432f53bc",
   "metadata": {},
   "outputs": [
    {
     "data": {
      "text/plain": [
       "array([ 1,  2,  3,  4,  5,  6,  7,  8,  9, 10, 11, 12, 13, 14, 15, 16, 17,\n",
       "       18, 19, 20, 21, 22, 23, 24])"
      ]
     },
     "execution_count": 3,
     "metadata": {},
     "output_type": "execute_result"
    }
   ],
   "source": [
    "per = np.arange(24) + 1;per"
   ]
  },
  {
   "cell_type": "markdown",
   "id": "2fb1f440",
   "metadata": {},
   "source": [
    "The 'per' variable represents the periods of the loan. Remember that financial equations start the period count at one."
   ]
  },
  {
   "cell_type": "code",
   "execution_count": 4,
   "id": "dd86ff3d",
   "metadata": {},
   "outputs": [],
   "source": [
    "interest_pmt = npf.ipmt(0.0824/12, per, 24, principal)\n",
    "principal_pmt = npf.ppmt(0.0824/12, per, 24, principal)"
   ]
  },
  {
   "cell_type": "markdown",
   "id": "11f48e46",
   "metadata": {},
   "source": [
    "#### The total payment is made up of payment againts principal plus interest.\n",
    "\n",
    "pmt = principal_pmt + interest_pmt"
   ]
  },
  {
   "cell_type": "code",
   "execution_count": 5,
   "id": "8e3907d4",
   "metadata": {},
   "outputs": [
    {
     "data": {
      "text/plain": [
       "-113.34207524807617"
      ]
     },
     "execution_count": 5,
     "metadata": {},
     "output_type": "execute_result"
    }
   ],
   "source": [
    "pmt = npf.pmt(0.0824/12, 24, principal);pmt"
   ]
  },
  {
   "cell_type": "code",
   "execution_count": 7,
   "id": "3760885e",
   "metadata": {},
   "outputs": [
    {
     "data": {
      "text/plain": [
       "True"
      ]
     },
     "execution_count": 7,
     "metadata": {},
     "output_type": "execute_result"
    }
   ],
   "source": [
    "np.allclose(interest_pmt + principal_pmt, pmt)"
   ]
  },
  {
   "cell_type": "code",
   "execution_count": 8,
   "id": "c1462e74",
   "metadata": {},
   "outputs": [
    {
     "name": "stdout",
     "output_type": "stream",
     "text": [
      " 1   -96.18   -17.17  2403.82\n",
      " 2   -96.84   -16.51  2306.99\n",
      " 3   -97.50   -15.84  2209.49\n",
      " 4   -98.17   -15.17  2111.32\n",
      " 5   -98.84   -14.50  2012.47\n",
      " 6   -99.52   -13.82  1912.95\n",
      " 7  -100.21   -13.14  1812.74\n",
      " 8  -100.89   -12.45  1711.85\n",
      " 9  -101.59   -11.75  1610.26\n",
      "10  -102.28   -11.06  1507.98\n",
      "11  -102.99   -10.35  1404.99\n",
      "12  -103.69    -9.65  1301.30\n",
      "13  -104.41    -8.94  1196.89\n",
      "14  -105.12    -8.22  1091.77\n",
      "15  -105.85    -7.50   985.92\n",
      "16  -106.57    -6.77   879.35\n",
      "17  -107.30    -6.04   772.04\n",
      "18  -108.04    -5.30   664.00\n",
      "19  -108.78    -4.56   555.22\n",
      "20  -109.53    -3.81   445.69\n",
      "21  -110.28    -3.06   335.41\n",
      "22  -111.04    -2.30   224.37\n",
      "23  -111.80    -1.54   112.57\n",
      "24  -112.57    -0.77    -0.00\n"
     ]
    }
   ],
   "source": [
    "fmt = '{0:2d} {1:8.2f} {2:8.2f} {3:8.2f}'\n",
    "for payment in per:\n",
    "    index = payment - 1\n",
    "    principal = principal + principal_pmt[index]\n",
    "    print(fmt.format(payment, principal_pmt[index], interest_pmt[index], principal))"
   ]
  },
  {
   "cell_type": "code",
   "execution_count": 9,
   "id": "d6afd871",
   "metadata": {},
   "outputs": [
    {
     "data": {
      "text/plain": [
       "-220.20980595379396"
      ]
     },
     "execution_count": 9,
     "metadata": {},
     "output_type": "execute_result"
    }
   ],
   "source": [
    "total_interest = np.sum(interest_pmt);total_interest"
   ]
  },
  {
   "cell_type": "code",
   "execution_count": null,
   "id": "9f5a2de7",
   "metadata": {},
   "outputs": [],
   "source": []
  }
 ],
 "metadata": {
  "kernelspec": {
   "display_name": "Python 3 (ipykernel)",
   "language": "python",
   "name": "python3"
  },
  "language_info": {
   "codemirror_mode": {
    "name": "ipython",
    "version": 3
   },
   "file_extension": ".py",
   "mimetype": "text/x-python",
   "name": "python",
   "nbconvert_exporter": "python",
   "pygments_lexer": "ipython3",
   "version": "3.10.5"
  }
 },
 "nbformat": 4,
 "nbformat_minor": 5
}
