{
 "cells": [
  {
   "cell_type": "markdown",
   "id": "dd79a944",
   "metadata": {},
   "source": [
    "## Topic 4 - Angle of inclination"
   ]
  },
  {
   "cell_type": "markdown",
   "id": "188fea91",
   "metadata": {},
   "source": [
    "What is an angle of inclination?\n",
    "\n",
    "The angle a line forms with the x-axis."
   ]
  },
  {
   "cell_type": "markdown",
   "id": "c11c373b",
   "metadata": {},
   "source": [
    "The angle from the x-axis, counter clockwise until you hit the line."
   ]
  },
  {
   "cell_type": "code",
   "execution_count": 1,
   "id": "7ce7bb40",
   "metadata": {},
   "outputs": [],
   "source": [
    "from sympy import *"
   ]
  },
  {
   "cell_type": "code",
   "execution_count": 2,
   "id": "fa9a6c67",
   "metadata": {},
   "outputs": [],
   "source": [
    "init_printing()"
   ]
  },
  {
   "cell_type": "code",
   "execution_count": 3,
   "id": "3dbf2966",
   "metadata": {},
   "outputs": [],
   "source": [
    "x, y = symbols('x y')"
   ]
  },
  {
   "cell_type": "markdown",
   "id": "baa290d6",
   "metadata": {},
   "source": [
    "using right angle triangles we can draw a line down from our line in question to make a right trianble. we'll use some trigonometry."
   ]
  },
  {
   "cell_type": "markdown",
   "id": "c7729583",
   "metadata": {},
   "source": [
    "we can determine two sides opposite / adjacent = tan"
   ]
  },
  {
   "cell_type": "markdown",
   "id": "c14dad75",
   "metadata": {},
   "source": [
    "Our angle will be like our slope formula.  gradient.  wich is tan of our angle."
   ]
  },
  {
   "cell_type": "markdown",
   "id": "50daf4cb",
   "metadata": {},
   "source": [
    "#### Example 2\n",
    "\n",
    "Consider the line with points D(5, 6) and C(1,2)\n",
    "\n",
    "1. Determine the gradient of CD\n",
    "2. Determine θ"
   ]
  },
  {
   "cell_type": "code",
   "execution_count": 4,
   "id": "0d5cac58",
   "metadata": {},
   "outputs": [],
   "source": [
    "CD_line = Line(Point(1,2), Point(5,6))"
   ]
  },
  {
   "cell_type": "code",
   "execution_count": 5,
   "id": "c137ef25",
   "metadata": {},
   "outputs": [
    {
     "data": {
      "image/png": "[encoded data removed]",
      "text/latex": [
       "$\\displaystyle 1$"
      ],
      "text/plain": [
       "1"
      ]
     },
     "execution_count": 5,
     "metadata": {},
     "output_type": "execute_result"
    }
   ],
   "source": [
    "m_CD = CD_line.slope;m_CD"
   ]
  },
  {
   "cell_type": "markdown",
   "id": "6f1fdf98",
   "metadata": {},
   "source": [
    "tan Θ = 1"
   ]
  },
  {
   "cell_type": "code",
   "execution_count": 6,
   "id": "91103386",
   "metadata": {},
   "outputs": [
    {
     "data": {
      "image/png": "[encoded data removed]",
      "text/latex": [
       "$\\displaystyle \\frac{\\pi}{4}$"
      ],
      "text/plain": [
       "π\n",
       "─\n",
       "4"
      ]
     },
     "execution_count": 6,
     "metadata": {},
     "output_type": "execute_result"
    }
   ],
   "source": [
    "atan(1)"
   ]
  },
  {
   "cell_type": "code",
   "execution_count": 7,
   "id": "cd73df6c",
   "metadata": {},
   "outputs": [
    {
     "data": {
      "image/png": "[encoded data removed]",
      "text/latex": [
       "$\\displaystyle 45$"
      ],
      "text/plain": [
       "45"
      ]
     },
     "execution_count": 7,
     "metadata": {},
     "output_type": "execute_result"
    }
   ],
   "source": [
    "deg(pi / 4)"
   ]
  },
  {
   "cell_type": "markdown",
   "id": "e4e09bb1",
   "metadata": {},
   "source": [
    "So our θ is $\\frac{pi}{4}$ in radians, or 45° degrees"
   ]
  },
  {
   "cell_type": "markdown",
   "id": "60bb2619",
   "metadata": {},
   "source": [
    "### Example 3\n",
    "\n",
    "Determine the angle of inclination of:\n",
    "\n",
    "##### a) y = 2x - 1"
   ]
  },
  {
   "cell_type": "code",
   "execution_count": 8,
   "id": "87679c47",
   "metadata": {},
   "outputs": [],
   "source": [
    "line_a = Line(Point(0, -1), slope=2)"
   ]
  },
  {
   "cell_type": "code",
   "execution_count": 9,
   "id": "86b1b21e",
   "metadata": {},
   "outputs": [
    {
     "data": {
      "image/png": "[encoded data removed]",
      "text/latex": [
       "$\\displaystyle 2$"
      ],
      "text/plain": [
       "2"
      ]
     },
     "execution_count": 9,
     "metadata": {},
     "output_type": "execute_result"
    }
   ],
   "source": [
    "line_a.slope"
   ]
  },
  {
   "cell_type": "markdown",
   "id": "7516885c",
   "metadata": {},
   "source": [
    "tan θ = 2"
   ]
  },
  {
   "cell_type": "code",
   "execution_count": 10,
   "id": "fb3cc756",
   "metadata": {},
   "outputs": [
    {
     "data": {
      "image/png": "[encoded data removed]",
      "text/latex": [
       "$\\displaystyle 63.434948822922$"
      ],
      "text/plain": [
       "63.4349488229220"
      ]
     },
     "execution_count": 10,
     "metadata": {},
     "output_type": "execute_result"
    }
   ],
   "source": [
    "N(deg(atan(2)))"
   ]
  },
  {
   "cell_type": "markdown",
   "id": "09723d6f",
   "metadata": {},
   "source": [
    "θ = 63.43 degrees"
   ]
  },
  {
   "cell_type": "markdown",
   "id": "9efc8aaa",
   "metadata": {},
   "source": [
    "#### b) 3y + x = 6"
   ]
  },
  {
   "cell_type": "code",
   "execution_count": 11,
   "id": "b6b8cba4",
   "metadata": {},
   "outputs": [],
   "source": [
    "line_b = Line(Point(0, 2), slope=Rational(-1, 3))"
   ]
  },
  {
   "cell_type": "code",
   "execution_count": 12,
   "id": "b09809b5",
   "metadata": {},
   "outputs": [
    {
     "data": {
      "image/png": "[encoded data removed]",
      "text/latex": [
       "$\\displaystyle \\frac{x}{3} + y - 2$"
      ],
      "text/plain": [
       "x        \n",
       "─ + y - 2\n",
       "3        "
      ]
     },
     "execution_count": 12,
     "metadata": {},
     "output_type": "execute_result"
    }
   ],
   "source": [
    "line_b.equation()"
   ]
  },
  {
   "cell_type": "code",
   "execution_count": 13,
   "id": "1aba8503",
   "metadata": {},
   "outputs": [
    {
     "data": {
      "image/png": "[encoded data removed]",
      "text/latex": [
       "$\\displaystyle - \\frac{1}{3}$"
      ],
      "text/plain": [
       "-1/3"
      ]
     },
     "execution_count": 13,
     "metadata": {},
     "output_type": "execute_result"
    }
   ],
   "source": [
    "line_b.slope"
   ]
  },
  {
   "cell_type": "markdown",
   "id": "59f315c4",
   "metadata": {},
   "source": [
    "tan θ = -$\\frac{1}{3}$"
   ]
  },
  {
   "cell_type": "code",
   "execution_count": 14,
   "id": "2c5c9899",
   "metadata": {},
   "outputs": [
    {
     "data": {
      "image/png": "[encoded data removed]",
      "text/latex": [
       "$\\displaystyle -18.434948822922$"
      ],
      "text/plain": [
       "-18.4349488229220"
      ]
     },
     "execution_count": 14,
     "metadata": {},
     "output_type": "execute_result"
    }
   ],
   "source": [
    "N(deg(atan(-1*Rational(1,3))))"
   ]
  },
  {
   "cell_type": "code",
   "execution_count": 15,
   "id": "ea108a68",
   "metadata": {},
   "outputs": [
    {
     "data": {
      "image/png": "[encoded data removed]",
      "text/latex": [
       "$\\displaystyle 161.5651$"
      ],
      "text/plain": [
       "161.5651"
      ]
     },
     "execution_count": 15,
     "metadata": {},
     "output_type": "execute_result"
    }
   ],
   "source": [
    "180 - 18.4349"
   ]
  },
  {
   "cell_type": "markdown",
   "id": "acfae69f",
   "metadata": {},
   "source": [
    "if you get a negative value for your answer, then must add 180.\n",
    "\n",
    "θ = 161.57 degrees"
   ]
  },
  {
   "cell_type": "markdown",
   "id": "3fce7ef2",
   "metadata": {},
   "source": [
    "### c) the line parallel to y = -2x + 3"
   ]
  },
  {
   "cell_type": "markdown",
   "id": "a5da4631",
   "metadata": {},
   "source": [
    "parallel lines have same gradient"
   ]
  },
  {
   "cell_type": "code",
   "execution_count": 17,
   "id": "e5be74a3",
   "metadata": {},
   "outputs": [],
   "source": [
    "line_c = Line(Point(0, 3), slope=-2)"
   ]
  },
  {
   "cell_type": "code",
   "execution_count": 18,
   "id": "bfd7a116",
   "metadata": {},
   "outputs": [
    {
     "data": {
      "image/png": "[encoded data removed]",
      "text/latex": [
       "$\\displaystyle -2$"
      ],
      "text/plain": [
       "-2"
      ]
     },
     "execution_count": 18,
     "metadata": {},
     "output_type": "execute_result"
    }
   ],
   "source": [
    "line_c.slope"
   ]
  },
  {
   "cell_type": "code",
   "execution_count": 19,
   "id": "55c19860",
   "metadata": {},
   "outputs": [
    {
     "data": {
      "image/png": "[encoded data removed]",
      "text/latex": [
       "$\\displaystyle \\operatorname{acos}{\\left(\\frac{\\sqrt{5}}{5} \\right)}$"
      ],
      "text/plain": [
       "    ⎛√5⎞\n",
       "acos⎜──⎟\n",
       "    ⎝5 ⎠"
      ]
     },
     "execution_count": 19,
     "metadata": {},
     "output_type": "execute_result"
    }
   ],
   "source": [
    "line_c.smallest_angle_between(Line(Point(5, 0), slope=0))"
   ]
  },
  {
   "cell_type": "code",
   "execution_count": 20,
   "id": "940b54b9",
   "metadata": {},
   "outputs": [
    {
     "data": {
      "image/png": "[encoded data removed]",
      "text/latex": [
       "$\\displaystyle \\frac{180 \\operatorname{acos}{\\left(\\frac{\\sqrt{5}}{5} \\right)}}{\\pi}$"
      ],
      "text/plain": [
       "        ⎛√5⎞\n",
       "180⋅acos⎜──⎟\n",
       "        ⎝5 ⎠\n",
       "────────────\n",
       "     π      "
      ]
     },
     "execution_count": 20,
     "metadata": {},
     "output_type": "execute_result"
    }
   ],
   "source": [
    "deg(_)"
   ]
  },
  {
   "cell_type": "code",
   "execution_count": 21,
   "id": "b641de12",
   "metadata": {},
   "outputs": [
    {
     "data": {
      "image/png": "[encoded data removed]",
      "text/latex": [
       "$\\displaystyle 63.434948822922$"
      ],
      "text/plain": [
       "63.4349488229220"
      ]
     },
     "execution_count": 21,
     "metadata": {},
     "output_type": "execute_result"
    }
   ],
   "source": [
    "N(_)"
   ]
  },
  {
   "cell_type": "code",
   "execution_count": 22,
   "id": "e9d8c078",
   "metadata": {},
   "outputs": [
    {
     "data": {
      "image/png": "[encoded data removed]",
      "text/latex": [
       "$\\displaystyle -63.434948822922$"
      ],
      "text/plain": [
       "-63.4349488229220"
      ]
     },
     "execution_count": 22,
     "metadata": {},
     "output_type": "execute_result"
    }
   ],
   "source": [
    "N(deg(atan(-2)))"
   ]
  },
  {
   "cell_type": "code",
   "execution_count": 23,
   "id": "6682f1ca",
   "metadata": {},
   "outputs": [
    {
     "data": {
      "image/png": "[encoded data removed]",
      "text/latex": [
       "$\\displaystyle 116.565051177078$"
      ],
      "text/plain": [
       "116.565051177078"
      ]
     },
     "execution_count": 23,
     "metadata": {},
     "output_type": "execute_result"
    }
   ],
   "source": [
    "180 + _"
   ]
  },
  {
   "cell_type": "markdown",
   "id": "66d4b7a5",
   "metadata": {},
   "source": [
    "θ = 116.57 degrees"
   ]
  },
  {
   "cell_type": "markdown",
   "id": "3c7eb35b",
   "metadata": {},
   "source": [
    "### d) the line perpendicuar to the line in question (c)"
   ]
  },
  {
   "cell_type": "code",
   "execution_count": 24,
   "id": "1c6598da",
   "metadata": {},
   "outputs": [
    {
     "data": {
      "image/png": "[encoded data removed]",
      "text/latex": [
       "$\\displaystyle 2 x + y - 3$"
      ],
      "text/plain": [
       "2⋅x + y - 3"
      ]
     },
     "execution_count": 24,
     "metadata": {},
     "output_type": "execute_result"
    }
   ],
   "source": [
    "line_c.equation()"
   ]
  },
  {
   "cell_type": "code",
   "execution_count": 25,
   "id": "ddd8216f",
   "metadata": {},
   "outputs": [
    {
     "data": {
      "image/png": "[encoded data removed]",
      "text/latex": [
       "$\\displaystyle -2$"
      ],
      "text/plain": [
       "-2"
      ]
     },
     "execution_count": 25,
     "metadata": {},
     "output_type": "execute_result"
    }
   ],
   "source": [
    "line_c.slope"
   ]
  },
  {
   "cell_type": "markdown",
   "id": "7f7691be",
   "metadata": {},
   "source": [
    "so since our answer is to a perpendicular line our gradient is; 1/2"
   ]
  },
  {
   "cell_type": "code",
   "execution_count": 26,
   "id": "bf9d7839",
   "metadata": {},
   "outputs": [
    {
     "data": {
      "image/png": "[encoded data removed]",
      "text/latex": [
       "$\\displaystyle 26.565051177078$"
      ],
      "text/plain": [
       "26.5650511770780"
      ]
     },
     "execution_count": 26,
     "metadata": {},
     "output_type": "execute_result"
    }
   ],
   "source": [
    "N(deg(atan(Rational(1,2))))"
   ]
  },
  {
   "cell_type": "markdown",
   "id": "eb6131bf",
   "metadata": {},
   "source": [
    "θ = 26.57 degrees"
   ]
  },
  {
   "cell_type": "markdown",
   "id": "48db328e",
   "metadata": {},
   "source": [
    "### Example 4\n",
    "\n",
    "Determine the equation of the straight line with an agle of inclination of 135 degrees and passing through (2, -4)."
   ]
  },
  {
   "cell_type": "code",
   "execution_count": 28,
   "id": "01511916",
   "metadata": {},
   "outputs": [
    {
     "data": {
      "image/png": "[encoded data removed]",
      "text/latex": [
       "$\\displaystyle \\frac{3 \\pi}{4}$"
      ],
      "text/plain": [
       "3⋅π\n",
       "───\n",
       " 4 "
      ]
     },
     "execution_count": 28,
     "metadata": {},
     "output_type": "execute_result"
    }
   ],
   "source": [
    "rad(135)"
   ]
  },
  {
   "cell_type": "code",
   "execution_count": 29,
   "id": "f6fb0a8a",
   "metadata": {},
   "outputs": [
    {
     "data": {
      "image/png": "[encoded data removed]",
      "text/latex": [
       "$\\displaystyle -1$"
      ],
      "text/plain": [
       "-1"
      ]
     },
     "execution_count": 29,
     "metadata": {},
     "output_type": "execute_result"
    }
   ],
   "source": [
    "tan(_)"
   ]
  },
  {
   "cell_type": "code",
   "execution_count": 30,
   "id": "b3115f63",
   "metadata": {},
   "outputs": [],
   "source": [
    "lhside = y - (-4)\n",
    "rhside = -1 * (x - 2)"
   ]
  },
  {
   "cell_type": "code",
   "execution_count": 31,
   "id": "7d8bb0ef",
   "metadata": {},
   "outputs": [
    {
     "data": {
      "image/png": "[encoded data removed]",
      "text/latex": [
       "$\\displaystyle y + 4$"
      ],
      "text/plain": [
       "y + 4"
      ]
     },
     "execution_count": 31,
     "metadata": {},
     "output_type": "execute_result"
    }
   ],
   "source": [
    "lhside"
   ]
  },
  {
   "cell_type": "code",
   "execution_count": 32,
   "id": "a56de7b9",
   "metadata": {},
   "outputs": [
    {
     "data": {
      "image/png": "[encoded data removed]",
      "text/latex": [
       "$\\displaystyle 2 - x$"
      ],
      "text/plain": [
       "2 - x"
      ]
     },
     "execution_count": 32,
     "metadata": {},
     "output_type": "execute_result"
    }
   ],
   "source": [
    "rhside"
   ]
  },
  {
   "cell_type": "code",
   "execution_count": 33,
   "id": "5fc52322",
   "metadata": {},
   "outputs": [
    {
     "data": {
      "image/png": "[encoded data removed]",
      "text/latex": [
       "$\\displaystyle y + 4 = 2 - x$"
      ],
      "text/plain": [
       "y + 4 = 2 - x"
      ]
     },
     "execution_count": 33,
     "metadata": {},
     "output_type": "execute_result"
    }
   ],
   "source": [
    "Eq(lhside, rhside)"
   ]
  },
  {
   "cell_type": "markdown",
   "id": "cc595523",
   "metadata": {},
   "source": [
    "So our equation is y = -x -2"
   ]
  }
 ],
 "metadata": {
  "kernelspec": {
   "display_name": "Python 3 (ipykernel)",
   "language": "python",
   "name": "python3"
  },
  "language_info": {
   "codemirror_mode": {
    "name": "ipython",
    "version": 3
   },
   "file_extension": ".py",
   "mimetype": "text/x-python",
   "name": "python",
   "nbconvert_exporter": "python",
   "pygments_lexer": "ipython3",
   "version": "3.10.5"
  }
 },
 "nbformat": 4,
 "nbformat_minor": 5
}
