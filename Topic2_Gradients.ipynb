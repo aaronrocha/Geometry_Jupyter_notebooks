{
 "cells": [
  {
   "cell_type": "markdown",
   "id": "4881788e",
   "metadata": {},
   "source": [
    "## Topic 2: Gradients\n",
    "\n",
    "Remember the formula: \n",
    "\n",
    "Gradient:  $ m = \\frac {y_2 - y_1}{x_2 - x_1} $\n"
   ]
  },
  {
   "cell_type": "markdown",
   "id": "1f06b29b",
   "metadata": {},
   "source": [
    "### Example 1\n",
    "\n",
    "If A(5 9) and B(2, 3) determine the gradient of AB."
   ]
  },
  {
   "cell_type": "code",
   "execution_count": 1,
   "id": "e14aba3d",
   "metadata": {},
   "outputs": [],
   "source": [
    "from sympy import *\n",
    "init_printing()\n",
    "x, y = symbols('x y')"
   ]
  },
  {
   "cell_type": "code",
   "execution_count": 2,
   "id": "c9c5338e",
   "metadata": {},
   "outputs": [],
   "source": [
    "A, B = Point(5, 9), Point(2,3)"
   ]
  },
  {
   "cell_type": "code",
   "execution_count": 3,
   "id": "0607dceb",
   "metadata": {},
   "outputs": [
    {
     "data": {
      "image/png": "[encoded data removed]",
      "text/latex": [
       "$\\displaystyle 2$"
      ],
      "text/plain": [
       "2"
      ]
     },
     "execution_count": 3,
     "metadata": {},
     "output_type": "execute_result"
    }
   ],
   "source": [
    "(B.y - A.y) / (B.x - A.x)\n"
   ]
  },
  {
   "cell_type": "markdown",
   "id": "d0716d09",
   "metadata": {},
   "source": [
    "So the gradient AB is 2"
   ]
  },
  {
   "cell_type": "markdown",
   "id": "becbc0d7",
   "metadata": {},
   "source": [
    "### Example 2\n",
    "\n",
    "If c(9, 10) and D(5,2), is AB || CD?"
   ]
  },
  {
   "cell_type": "code",
   "execution_count": 4,
   "id": "7dfc6517",
   "metadata": {},
   "outputs": [],
   "source": [
    "C, D = Point(9, 10), Point(5,2)"
   ]
  },
  {
   "cell_type": "code",
   "execution_count": 5,
   "id": "fbce94c8",
   "metadata": {},
   "outputs": [
    {
     "data": {
      "image/png": "[encoded data removed]",
      "text/latex": [
       "$\\displaystyle 2$"
      ],
      "text/plain": [
       "2"
      ]
     },
     "execution_count": 5,
     "metadata": {},
     "output_type": "execute_result"
    }
   ],
   "source": [
    "(D.y - C.y) / (D.x - C.x)"
   ]
  },
  {
   "cell_type": "markdown",
   "id": "cf6760c0",
   "metadata": {},
   "source": [
    "Since the gradient of CD is 2 and the gradient of AB is also 2, then we have parallel segments."
   ]
  },
  {
   "cell_type": "markdown",
   "id": "ce11dd55",
   "metadata": {},
   "source": [
    "### Example 3\n",
    "\n",
    "Given that A(-2, 1), B(-3, -5), C(4, 6), and D(-2, 7), prove that AB ⊥ CD. "
   ]
  },
  {
   "cell_type": "code",
   "execution_count": 6,
   "id": "7a5e1c6b",
   "metadata": {},
   "outputs": [],
   "source": [
    "A, B, C, D = Point(-2,1), Point(-3, -5), Point(4, 6), Point(-2,7)"
   ]
  },
  {
   "cell_type": "code",
   "execution_count": 7,
   "id": "63194c40",
   "metadata": {},
   "outputs": [
    {
     "data": {
      "image/png": "[encoded data removed]",
      "text/latex": [
       "$\\displaystyle \\operatorname{Point2D}\\left(-2, 1\\right)$"
      ],
      "text/plain": [
       "Point2D(-2, 1)"
      ]
     },
     "execution_count": 7,
     "metadata": {},
     "output_type": "execute_result"
    }
   ],
   "source": [
    "A"
   ]
  },
  {
   "cell_type": "code",
   "execution_count": 8,
   "id": "cfeebec2",
   "metadata": {},
   "outputs": [
    {
     "data": {
      "image/png": "[encoded data removed]",
      "text/latex": [
       "$\\displaystyle \\operatorname{Point2D}\\left(-3, -5\\right)$"
      ],
      "text/plain": [
       "Point2D(-3, -5)"
      ]
     },
     "execution_count": 8,
     "metadata": {},
     "output_type": "execute_result"
    }
   ],
   "source": [
    "B"
   ]
  },
  {
   "cell_type": "code",
   "execution_count": 9,
   "id": "e20de2ca",
   "metadata": {},
   "outputs": [
    {
     "data": {
      "image/png": "[encoded data removed]",
      "text/latex": [
       "$\\displaystyle \\operatorname{Point2D}\\left(4, 6\\right)$"
      ],
      "text/plain": [
       "Point2D(4, 6)"
      ]
     },
     "execution_count": 9,
     "metadata": {},
     "output_type": "execute_result"
    }
   ],
   "source": [
    "C"
   ]
  },
  {
   "cell_type": "code",
   "execution_count": 10,
   "id": "e70bc0a8",
   "metadata": {},
   "outputs": [
    {
     "data": {
      "image/png": "[encoded data removed]",
      "text/latex": [
       "$\\displaystyle \\operatorname{Point2D}\\left(-2, 7\\right)$"
      ],
      "text/plain": [
       "Point2D(-2, 7)"
      ]
     },
     "execution_count": 10,
     "metadata": {},
     "output_type": "execute_result"
    }
   ],
   "source": [
    "D"
   ]
  },
  {
   "cell_type": "code",
   "execution_count": 11,
   "id": "5ab7d463",
   "metadata": {},
   "outputs": [],
   "source": [
    "AB = Segment2D(A, B)"
   ]
  },
  {
   "cell_type": "code",
   "execution_count": 12,
   "id": "4137a0cc",
   "metadata": {},
   "outputs": [],
   "source": [
    "CD = Segment2D(C, D)"
   ]
  },
  {
   "cell_type": "code",
   "execution_count": 13,
   "id": "166a47e4",
   "metadata": {},
   "outputs": [
    {
     "data": {
      "image/png": "[encoded data removed]",
      "image/svg+xml": [
       "<svg xmlns=\"http://www.w3.org/2000/svg\"\n",
       "            xmlns:xlink=\"http://www.w3.org/1999/xlink\"\n",
       "            width=\"100.0\" height=\"100.0\" viewBox=\"-3.60000000000000 -5.60000000000000 2.20000000000000 7.20000000000000\"\n",
       "            preserveAspectRatio=\"xMinYMin meet\">\n",
       "            <defs>\n",
       "                <marker id=\"markerCircle\" markerWidth=\"8\" markerHeight=\"8\"\n",
       "                    refx=\"5\" refy=\"5\" markerUnits=\"strokeWidth\">\n",
       "                    <circle cx=\"5\" cy=\"5\" r=\"1.5\" style=\"stroke: none; fill:#000000;\"/>\n",
       "                </marker>\n",
       "                <marker id=\"markerArrow\" markerWidth=\"13\" markerHeight=\"13\" refx=\"2\" refy=\"4\"\n",
       "                       orient=\"auto\" markerUnits=\"strokeWidth\">\n",
       "                    <path d=\"M2,2 L2,6 L6,4\" style=\"fill: #000000;\" />\n",
       "                </marker>\n",
       "                <marker id=\"markerReverseArrow\" markerWidth=\"13\" markerHeight=\"13\" refx=\"6\" refy=\"4\"\n",
       "                       orient=\"auto\" markerUnits=\"strokeWidth\">\n",
       "                    <path d=\"M6,2 L6,6 L2,4\" style=\"fill: #000000;\" />\n",
       "                </marker>\n",
       "            </defs><g transform=\"matrix(1,0,0,-1,0,-4.00000000000000)\"><path fill-rule=\"evenodd\" fill=\"#66cc99\" stroke=\"#555555\" stroke-width=\"0.144000000000000\" opacity=\"0.6\" d=\"M -2.00000000000000,1.00000000000000 L -3.00000000000000,-5.00000000000000\" /></g></svg>"
      ],
      "text/latex": [
       "$\\displaystyle \\operatorname{Segment2D}\\left(\\operatorname{Point2D}\\left(-2, 1\\right), \\operatorname{Point2D}\\left(-3, -5\\right)\\right)$"
      ],
      "text/plain": [
       "Segment2D(Point2D(-2, 1), Point2D(-3, -5))"
      ]
     },
     "execution_count": 13,
     "metadata": {},
     "output_type": "execute_result"
    }
   ],
   "source": [
    "AB"
   ]
  },
  {
   "cell_type": "code",
   "execution_count": 14,
   "id": "dc0639de",
   "metadata": {},
   "outputs": [
    {
     "data": {
      "text/plain": [
       "True"
      ]
     },
     "execution_count": 14,
     "metadata": {},
     "output_type": "execute_result"
    }
   ],
   "source": [
    "AB.is_perpendicular(CD)"
   ]
  },
  {
   "cell_type": "code",
   "execution_count": 15,
   "id": "75365135",
   "metadata": {},
   "outputs": [
    {
     "data": {
      "image/png": "[encoded data removed]",
      "text/latex": [
       "$\\displaystyle 6$"
      ],
      "text/plain": [
       "6"
      ]
     },
     "execution_count": 15,
     "metadata": {},
     "output_type": "execute_result"
    }
   ],
   "source": [
    "AB.slope"
   ]
  },
  {
   "cell_type": "code",
   "execution_count": 16,
   "id": "a122a06c",
   "metadata": {},
   "outputs": [
    {
     "data": {
      "image/png": "[encoded data removed]",
      "text/latex": [
       "$\\displaystyle - \\frac{1}{6}$"
      ],
      "text/plain": [
       "-1/6"
      ]
     },
     "execution_count": 16,
     "metadata": {},
     "output_type": "execute_result"
    }
   ],
   "source": [
    "CD.slope"
   ]
  },
  {
   "cell_type": "markdown",
   "id": "6b156e4f",
   "metadata": {},
   "source": [
    "if lines are pependicular (90°) then $m_1 * m_2$ = -1, we need to show that multiplying gradients of two lines equals -1."
   ]
  },
  {
   "cell_type": "code",
   "execution_count": 20,
   "id": "3e160d0f",
   "metadata": {},
   "outputs": [
    {
     "data": {
      "image/png": "[encoded data removed]",
      "text/latex": [
       "$\\displaystyle -1$"
      ],
      "text/plain": [
       "-1"
      ]
     },
     "execution_count": 20,
     "metadata": {},
     "output_type": "execute_result"
    }
   ],
   "source": [
    "Out[15] * Out[16]"
   ]
  },
  {
   "cell_type": "markdown",
   "id": "079fdb51",
   "metadata": {},
   "source": [
    "Therefore AB is perpendicular to CD."
   ]
  },
  {
   "cell_type": "markdown",
   "id": "dc409cb8",
   "metadata": {},
   "source": [
    "### Example 4\n",
    "\n",
    "A line is perpendicular to y = 3x - 4 and passes through (2, 5).\n",
    "Determine the equation of this line."
   ]
  },
  {
   "cell_type": "markdown",
   "id": "cc2483ac",
   "metadata": {},
   "source": [
    "Since the slope of the line is 3, we can inverse the slope to -1/3 of any line that would be perpendicular to this line. "
   ]
  },
  {
   "cell_type": "markdown",
   "id": "d3a524d6",
   "metadata": {},
   "source": [
    "y = -1/3x + C we can sub in our point (2,5)\n",
    "\n",
    "5 = -1/3 * 2 + C\n",
    "\n",
    "5 2/3 = C"
   ]
  },
  {
   "cell_type": "markdown",
   "id": "f469def9",
   "metadata": {},
   "source": [
    "Therefore our perpendicular line has a formula of;\n",
    "\n",
    "y = $ \\frac{-1}{3} x + \\frac{17}{3}$"
   ]
  },
  {
   "cell_type": "code",
   "execution_count": 25,
   "id": "d3cf260c",
   "metadata": {},
   "outputs": [],
   "source": [
    "Perpendicular_line = Line(Point(2,5), slope=Rational(-1, 3))"
   ]
  },
  {
   "cell_type": "code",
   "execution_count": 26,
   "id": "2c346c7b",
   "metadata": {},
   "outputs": [
    {
     "data": {
      "image/png": "[encoded data removed]",
      "text/latex": [
       "$\\displaystyle \\frac{x}{3} + y - \\frac{17}{3}$"
      ],
      "text/plain": [
       "x       17\n",
       "─ + y - ──\n",
       "3       3 "
      ]
     },
     "execution_count": 26,
     "metadata": {},
     "output_type": "execute_result"
    }
   ],
   "source": [
    "Perpendicular_line.equation()"
   ]
  },
  {
   "cell_type": "markdown",
   "id": "1f1659d4",
   "metadata": {},
   "source": [
    "### Example 5\n",
    "\n",
    "Determine the equation of the line perpendicular to 3y = x + 9, that has the same y-intercept."
   ]
  },
  {
   "cell_type": "code",
   "execution_count": 19,
   "id": "377c7626",
   "metadata": {},
   "outputs": [
    {
     "data": {
      "image/png": "[encoded data removed]",
      "text/latex": [
       "$\\displaystyle \\frac{x}{3} + 3$"
      ],
      "text/plain": [
       "x    \n",
       "─ + 3\n",
       "3    "
      ]
     },
     "execution_count": 19,
     "metadata": {},
     "output_type": "execute_result"
    }
   ],
   "source": [
    "expr5 = Rational(1,3)*x + 3;expr5"
   ]
  },
  {
   "cell_type": "markdown",
   "id": "3e979886",
   "metadata": {},
   "source": [
    "the slope of our above equation is $\\frac{1}{3}$.  So in order to get our perpendicular line we need the negative inverse of this slope.  our perpendicular slope then will be -3."
   ]
  },
  {
   "cell_type": "markdown",
   "id": "eded7a05",
   "metadata": {},
   "source": [
    "Our line also has a y-intercept when x = 0 of (0, 3)."
   ]
  },
  {
   "cell_type": "markdown",
   "id": "fd727377",
   "metadata": {},
   "source": [
    "Plug into our formula of y = -3x + C the point above and we'll have our equation."
   ]
  },
  {
   "cell_type": "markdown",
   "id": "db149336",
   "metadata": {},
   "source": [
    "Let's check our answer."
   ]
  },
  {
   "cell_type": "code",
   "execution_count": 29,
   "id": "d0c5526f",
   "metadata": {},
   "outputs": [],
   "source": [
    "myYintercept = Point(0, 3)"
   ]
  },
  {
   "cell_type": "code",
   "execution_count": 30,
   "id": "04679075",
   "metadata": {},
   "outputs": [],
   "source": [
    " myline = Line(myYintercept, slope=Rational(1,3))"
   ]
  },
  {
   "cell_type": "code",
   "execution_count": 31,
   "id": "589144ac",
   "metadata": {},
   "outputs": [],
   "source": [
    "myPerpendicualarline = Line(myYintercept, slope=-3)"
   ]
  },
  {
   "cell_type": "code",
   "execution_count": 32,
   "id": "7525527d",
   "metadata": {},
   "outputs": [
    {
     "data": {
      "text/plain": [
       "True"
      ]
     },
     "execution_count": 32,
     "metadata": {},
     "output_type": "execute_result"
    }
   ],
   "source": [
    "myline.is_perpendicular(myPerpendicualarline)"
   ]
  },
  {
   "cell_type": "code",
   "execution_count": 33,
   "id": "5927f4ef",
   "metadata": {},
   "outputs": [
    {
     "data": {
      "image/png": "[encoded data removed]",
      "text/latex": [
       "$\\displaystyle 3 x + y - 3$"
      ],
      "text/plain": [
       "3⋅x + y - 3"
      ]
     },
     "execution_count": 33,
     "metadata": {},
     "output_type": "execute_result"
    }
   ],
   "source": [
    "myPerpendicualarline.equation()"
   ]
  },
  {
   "cell_type": "code",
   "execution_count": null,
   "id": "8c984d43",
   "metadata": {},
   "outputs": [],
   "source": []
  }
 ],
 "metadata": {
  "kernelspec": {
   "display_name": "Python 3 (ipykernel)",
   "language": "python",
   "name": "python3"
  },
  "language_info": {
   "codemirror_mode": {
    "name": "ipython",
    "version": 3
   },
   "file_extension": ".py",
   "mimetype": "text/x-python",
   "name": "python",
   "nbconvert_exporter": "python",
   "pygments_lexer": "ipython3",
   "version": "3.10.5"
  }
 },
 "nbformat": 4,
 "nbformat_minor": 5
}
